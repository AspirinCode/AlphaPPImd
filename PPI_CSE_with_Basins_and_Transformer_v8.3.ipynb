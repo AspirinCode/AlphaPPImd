{
 "cells": [
  {
   "cell_type": "markdown",
   "metadata": {},
   "source": [
    "# Protein-protein complex conformational space exploration (CSE) using basins trajectories and a Transformer Neural Network \n",
    "\n",
    "**Packages required:**\n",
    "    \n",
    "* MDAnalysis\n",
    "* MDAnalysisData\n",
    "* matplotlib\n",
    "* numpy\n",
    "* sklearn\n",
    "* tensorflow\n",
    "* Bio\n",
    "* nglview\n",
    "* pytraj"
   ]
  },
  {
   "cell_type": "code",
   "execution_count": 4,
   "metadata": {
    "execution": {
     "iopub.execute_input": "2021-05-19T05:58:07.289111Z",
     "iopub.status.busy": "2021-05-19T05:58:07.287941Z",
     "iopub.status.idle": "2021-05-19T05:58:08.065635Z",
     "shell.execute_reply": "2021-05-19T05:58:08.066015Z"
    }
   },
   "outputs": [],
   "source": [
    "import warnings\n",
    "# avoid excessive warning messages to make the notebook nicer\n",
    "warnings.filterwarnings('ignore')\n",
    "# warnings.filterwarnings(\"ignore\", category=DeprecationWarning)\n",
    "# warnings.filterwarnings(\"ignore\", category=UserWarning)\n",
    "# warnings.filterwarnings(\"ignore\", category=RuntimeWarning)"
   ]
  },
  {
   "cell_type": "code",
   "execution_count": 5,
   "metadata": {
    "execution": {
     "iopub.execute_input": "2021-05-19T05:58:07.289111Z",
     "iopub.status.busy": "2021-05-19T05:58:07.287941Z",
     "iopub.status.idle": "2021-05-19T05:58:08.065635Z",
     "shell.execute_reply": "2021-05-19T05:58:08.066015Z"
    }
   },
   "outputs": [
    {
     "data": {
      "application/vnd.jupyter.widget-view+json": {
       "model_id": "f1e44393976c44859dec5adcaae4c77e",
       "version_major": 2,
       "version_minor": 0
      },
      "text/plain": []
     },
     "metadata": {},
     "output_type": "display_data"
    },
    {
     "name": "stdout",
     "output_type": "stream",
     "text": [
      "mda version = 2.1.0\n",
      "mda data version = 0.8.1\n",
      "plt version = 3.2.2\n",
      "np version = 1.21.6\n",
      "skl version = 1.0.2\n",
      "tf version = 2.8.0\n",
      "bio version = 1.79\n",
      "nglview version = 3.0.3\n",
      "pytraj version = 2.0.5\n",
      "modeller version = 10.2\n",
      "\n"
     ]
    }
   ],
   "source": [
    "import os\n",
    "os.environ[\"CUDA_VISIBLE_DEVICES\"] = \"2\"\n",
    "import subprocess\n",
    "import random\n",
    "import MDAnalysis as mda\n",
    "#from MDAnalysis.tests.datafiles import GRO, XTC\n",
    "from MDAnalysis.analysis import dihedrals, rms, align\n",
    "import MDAnalysisData as mda_data\n",
    "from MDAnalysisData import datasets\n",
    "import matplotlib\n",
    "import matplotlib.pyplot as plt\n",
    "import numpy as np\n",
    "from numpy import savetxt,loadtxt\n",
    "import sklearn as skl\n",
    "from sklearn import cluster, mixture\n",
    "from sklearn.mixture import GaussianMixture, BayesianGaussianMixture\n",
    "from sklearn.cluster import KMeans\n",
    "import tensorflow as tf\n",
    "from tensorflow import keras \n",
    "from tensorflow.keras import layers, Sequential\n",
    "from tensorflow.keras.layers import Layer,Dropout,Dense,Bidirectional\n",
    "from tensorflow.keras.layers import GRU,LSTM,Embedding,MultiHeadAttention\n",
    "from tensorflow.keras.layers import LayerNormalization,Conv1D\n",
    "from tensorflow.keras.utils import plot_model\n",
    "from tensorflow.keras.models import Model, model_from_json, load_model, clone_model\n",
    "from tensorflow.python.client import device_lib\n",
    "import nglview as nv\n",
    "import Bio as bio\n",
    "from Bio.SeqUtils import seq1, seq3\n",
    "from itertools import chain, islice\n",
    "import pytraj as pt\n",
    "import h5py\n",
    "\n",
    "import modeller as modl\n",
    "from modeller import *\n",
    "from modeller.automodel import *    # Load the AutoModel class\n",
    "from modeller.scripts import complete_pdb\n",
    "from modeller.optimizers import conjugate_gradients, molecular_dynamics, actions\n",
    "\n",
    "print(\"mda version = {}\".format(mda.__version__))\n",
    "print(\"mda data version = {}\".format(mda_data.__version__))\n",
    "print(\"plt version = {}\".format(matplotlib.__version__))\n",
    "print(\"np version = {}\".format(np.__version__))\n",
    "print(\"skl version = {}\".format(skl.__version__))\n",
    "print(\"tf version = {}\".format(tf.__version__))\n",
    "print(\"bio version = {}\".format(bio.__version__))\n",
    "print(\"nglview version = {}\".format(nv.__version__))\n",
    "print(\"pytraj version = {}\".format(pt.__version__))\n",
    "print(\"modeller version = {}\\n\".format(modl.__version__))\n",
    "\n",
    "%matplotlib inline\n",
    "%load_ext autoreload\n",
    "%autoreload 2"
   ]
  },
  {
   "cell_type": "markdown",
   "metadata": {},
   "source": [
    "## Loading files"
   ]
  },
  {
   "cell_type": "markdown",
   "metadata": {},
   "source": [
    "### Equilibrium PPI trajectory"
   ]
  },
  {
   "cell_type": "code",
   "execution_count": 6,
   "metadata": {
    "scrolled": true
   },
   "outputs": [],
   "source": [
    "# adk = datasets.fetch_adk_equilibrium()\n",
    "\n",
    "# print(adk.DESCR)\n",
    "# print(adk.topology)\n",
    "# print(adk.trajectory)"
   ]
  },
  {
   "cell_type": "code",
   "execution_count": 7,
   "metadata": {
    "execution": {
     "iopub.execute_input": "2021-05-19T05:58:08.070645Z",
     "iopub.status.busy": "2021-05-19T05:58:08.069949Z",
     "iopub.status.idle": "2021-05-19T05:58:08.534249Z",
     "shell.execute_reply": "2021-05-19T05:58:08.534698Z"
    }
   },
   "outputs": [],
   "source": [
    "# u_equil = mda.Universe(adk.topology, adk.trajectory)\n",
    "\n",
    "# n_frames = len(u_equil.trajectory)\n",
    "# print(f'There are {n_frames} frames in the trajectory')\n",
    "\n",
    "# # Atom selection\n",
    "# protein = u_equil.select_atoms('protein')\n",
    "# print(f'There are {len(protein.residues)} protein residues in each frame')"
   ]
  },
  {
   "cell_type": "markdown",
   "metadata": {},
   "source": [
    "### Multiple PPI transition trajectories "
   ]
  },
  {
   "cell_type": "code",
   "execution_count": 8,
   "metadata": {},
   "outputs": [],
   "source": [
    "import glob\n",
    "#ppi_trans = datasets.fetch_adk_transitions_DIMS()\n",
    "#ppi_trans.trajectories = glob.glob(os.path.join(\"/home/jmwang/WorkSpace/MDGM/train_data/trajectories\",'*'))\n",
    "\n",
    "ppi_trajectories = glob.glob(os.path.join(\"/home/jmwang/WorkSpace/MDGM/train_data/trajectories\",'*'))"
   ]
  },
  {
   "cell_type": "code",
   "execution_count": 9,
   "metadata": {},
   "outputs": [
    {
     "name": "stdout",
     "output_type": "stream",
     "text": [
      "['/home/jmwang/WorkSpace/MDGM/train_data/trajectories/protein2_6.dcd', '/home/jmwang/WorkSpace/MDGM/train_data/trajectories/protein2_14.dcd', '/home/jmwang/WorkSpace/MDGM/train_data/trajectories/protein10_2.dcd', '/home/jmwang/WorkSpace/MDGM/train_data/trajectories/protein4_4.dcd', '/home/jmwang/WorkSpace/MDGM/train_data/trajectories/protein11_5.dcd', '/home/jmwang/WorkSpace/MDGM/train_data/trajectories/protein2_7.dcd', '/home/jmwang/WorkSpace/MDGM/train_data/trajectories/protein7_13.dcd', '/home/jmwang/WorkSpace/MDGM/train_data/trajectories/protein1_17.dcd', '/home/jmwang/WorkSpace/MDGM/train_data/trajectories/protein11_2.dcd', '/home/jmwang/WorkSpace/MDGM/train_data/trajectories/protein10_17.dcd', '/home/jmwang/WorkSpace/MDGM/train_data/trajectories/protein2_10.dcd', '/home/jmwang/WorkSpace/MDGM/train_data/trajectories/protein3_10.dcd', '/home/jmwang/WorkSpace/MDGM/train_data/trajectories/protein10_18.dcd', '/home/jmwang/WorkSpace/MDGM/train_data/trajectories/protein6_11.dcd', '/home/jmwang/WorkSpace/MDGM/train_data/trajectories/protein2_8.dcd', '/home/jmwang/WorkSpace/MDGM/train_data/trajectories/protein1_10.dcd', '/home/jmwang/WorkSpace/MDGM/train_data/trajectories/protein7_9.dcd', '/home/jmwang/WorkSpace/MDGM/train_data/trajectories/protein5_21.dcd', '/home/jmwang/WorkSpace/MDGM/train_data/trajectories/protein6_22.dcd', '/home/jmwang/WorkSpace/MDGM/train_data/trajectories/protein6_25.dcd', '/home/jmwang/WorkSpace/MDGM/train_data/trajectories/protein11_10.dcd', '/home/jmwang/WorkSpace/MDGM/train_data/trajectories/protein2_11.dcd', '/home/jmwang/WorkSpace/MDGM/train_data/trajectories/protein2_26.dcd', '/home/jmwang/WorkSpace/MDGM/train_data/trajectories/protein1_25.dcd', '/home/jmwang/WorkSpace/MDGM/train_data/trajectories/protein8_6.dcd', '/home/jmwang/WorkSpace/MDGM/train_data/trajectories/protein2_15.dcd', '/home/jmwang/WorkSpace/MDGM/train_data/trajectories/protein1_27.dcd', '/home/jmwang/WorkSpace/MDGM/train_data/trajectories/protein5_19.dcd', '/home/jmwang/WorkSpace/MDGM/train_data/trajectories/protein11_15.dcd', '/home/jmwang/WorkSpace/MDGM/train_data/trajectories/protein5_7.dcd', '/home/jmwang/WorkSpace/MDGM/train_data/trajectories/protein2_20.dcd', '/home/jmwang/WorkSpace/MDGM/train_data/trajectories/protein1_24.dcd', '/home/jmwang/WorkSpace/MDGM/train_data/trajectories/protein9_3.dcd', '/home/jmwang/WorkSpace/MDGM/train_data/trajectories/protein4_21.dcd', '/home/jmwang/WorkSpace/MDGM/train_data/trajectories/protein3_23.dcd', '/home/jmwang/WorkSpace/MDGM/train_data/trajectories/protein7_17.dcd', '/home/jmwang/WorkSpace/MDGM/train_data/trajectories/protein8_10.dcd', '/home/jmwang/WorkSpace/MDGM/train_data/trajectories/protein6_13.dcd', '/home/jmwang/WorkSpace/MDGM/train_data/trajectories/protein5_14.dcd', '/home/jmwang/WorkSpace/MDGM/train_data/trajectories/protein9_23.dcd', '/home/jmwang/WorkSpace/MDGM/train_data/trajectories/protein4_1.dcd', '/home/jmwang/WorkSpace/MDGM/train_data/trajectories/protein11_0.dcd', '/home/jmwang/WorkSpace/MDGM/train_data/trajectories/protein3_14.dcd', '/home/jmwang/WorkSpace/MDGM/train_data/trajectories/protein4_15.dcd', '/home/jmwang/WorkSpace/MDGM/train_data/trajectories/protein9_7.dcd', '/home/jmwang/WorkSpace/MDGM/train_data/trajectories/protein1_14.dcd', '/home/jmwang/WorkSpace/MDGM/train_data/trajectories/protein3_12.dcd', '/home/jmwang/WorkSpace/MDGM/train_data/trajectories/protein6_2.dcd', '/home/jmwang/WorkSpace/MDGM/train_data/trajectories/protein11_18.dcd', '/home/jmwang/WorkSpace/MDGM/train_data/trajectories/protein5_15.dcd', '/home/jmwang/WorkSpace/MDGM/train_data/trajectories/protein3_22.dcd', '/home/jmwang/WorkSpace/MDGM/train_data/trajectories/protein11_14.dcd', '/home/jmwang/WorkSpace/MDGM/train_data/trajectories/protein5_5.dcd', '/home/jmwang/WorkSpace/MDGM/train_data/trajectories/protein8_20.dcd', '/home/jmwang/WorkSpace/MDGM/train_data/trajectories/protein5_9.dcd', '/home/jmwang/WorkSpace/MDGM/train_data/trajectories/protein12_18.dcd', '/home/jmwang/WorkSpace/MDGM/train_data/trajectories/protein6_17.dcd', '/home/jmwang/WorkSpace/MDGM/train_data/trajectories/protein9_15.dcd', '/home/jmwang/WorkSpace/MDGM/train_data/trajectories/protein1_2.dcd', '/home/jmwang/WorkSpace/MDGM/train_data/trajectories/protein12_10.dcd', '/home/jmwang/WorkSpace/MDGM/train_data/trajectories/protein5_4.dcd', '/home/jmwang/WorkSpace/MDGM/train_data/trajectories/protein4_12.dcd', '/home/jmwang/WorkSpace/MDGM/train_data/trajectories/protein3_6.dcd', '/home/jmwang/WorkSpace/MDGM/train_data/trajectories/protein7_11.dcd', '/home/jmwang/WorkSpace/MDGM/train_data/trajectories/protein4_16.dcd', '/home/jmwang/WorkSpace/MDGM/train_data/trajectories/protein8_1.dcd', '/home/jmwang/WorkSpace/MDGM/train_data/trajectories/protein8_2.dcd', '/home/jmwang/WorkSpace/MDGM/train_data/trajectories/protein5_25.dcd', '/home/jmwang/WorkSpace/MDGM/train_data/trajectories/protein3_20.dcd', '/home/jmwang/WorkSpace/MDGM/train_data/trajectories/protein3_17.dcd', '/home/jmwang/WorkSpace/MDGM/train_data/trajectories/protein10_1.dcd', '/home/jmwang/WorkSpace/MDGM/train_data/trajectories/protein7_6.dcd', '/home/jmwang/WorkSpace/MDGM/train_data/trajectories/protein10_10.dcd', '/home/jmwang/WorkSpace/MDGM/train_data/trajectories/protein11_13.dcd', '/home/jmwang/WorkSpace/MDGM/train_data/trajectories/protein2_24.dcd', '/home/jmwang/WorkSpace/MDGM/train_data/trajectories/protein4_27.dcd', '/home/jmwang/WorkSpace/MDGM/train_data/trajectories/protein3_4.dcd', '/home/jmwang/WorkSpace/MDGM/train_data/trajectories/protein7_3.dcd', '/home/jmwang/WorkSpace/MDGM/train_data/trajectories/protein4_6.dcd', '/home/jmwang/WorkSpace/MDGM/train_data/trajectories/protein8_16.dcd', '/home/jmwang/WorkSpace/MDGM/train_data/trajectories/protein8_22.dcd', '/home/jmwang/WorkSpace/MDGM/train_data/trajectories/protein7_16.dcd', '/home/jmwang/WorkSpace/MDGM/train_data/trajectories/protein11_9.dcd', '/home/jmwang/WorkSpace/MDGM/train_data/trajectories/protein1_0.dcd', '/home/jmwang/WorkSpace/MDGM/train_data/trajectories/protein11_4.dcd', '/home/jmwang/WorkSpace/MDGM/train_data/trajectories/protein5_20.dcd', '/home/jmwang/WorkSpace/MDGM/train_data/trajectories/protein12_1.dcd', '/home/jmwang/WorkSpace/MDGM/train_data/trajectories/protein6_26.dcd', '/home/jmwang/WorkSpace/MDGM/train_data/trajectories/protein9_6.dcd', '/home/jmwang/WorkSpace/MDGM/train_data/trajectories/protein1_20.dcd', '/home/jmwang/WorkSpace/MDGM/train_data/trajectories/protein9_13.dcd', '/home/jmwang/WorkSpace/MDGM/train_data/trajectories/protein7_21.dcd', '/home/jmwang/WorkSpace/MDGM/train_data/trajectories/protein8_0.dcd', '/home/jmwang/WorkSpace/MDGM/train_data/trajectories/protein12_5.dcd', '/home/jmwang/WorkSpace/MDGM/train_data/trajectories/protein3_27.dcd', '/home/jmwang/WorkSpace/MDGM/train_data/trajectories/protein9_16.dcd', '/home/jmwang/WorkSpace/MDGM/train_data/trajectories/protein7_20.dcd', '/home/jmwang/WorkSpace/MDGM/train_data/trajectories/protein6_0.dcd', '/home/jmwang/WorkSpace/MDGM/train_data/trajectories/protein12_7.dcd', '/home/jmwang/WorkSpace/MDGM/train_data/trajectories/protein6_24.dcd', '/home/jmwang/WorkSpace/MDGM/train_data/trajectories/protein8_5.dcd', '/home/jmwang/WorkSpace/MDGM/train_data/trajectories/protein7_7.dcd', '/home/jmwang/WorkSpace/MDGM/train_data/trajectories/protein12_9.dcd', '/home/jmwang/WorkSpace/MDGM/train_data/trajectories/protein6_21.dcd', '/home/jmwang/WorkSpace/MDGM/train_data/trajectories/protein11_16.dcd', '/home/jmwang/WorkSpace/MDGM/train_data/trajectories/protein9_21.dcd', '/home/jmwang/WorkSpace/MDGM/train_data/trajectories/protein2_2.dcd', '/home/jmwang/WorkSpace/MDGM/train_data/trajectories/protein2_27.dcd', '/home/jmwang/WorkSpace/MDGM/train_data/trajectories/protein5_13.dcd', '/home/jmwang/WorkSpace/MDGM/train_data/trajectories/protein4_28.dcd', '/home/jmwang/WorkSpace/MDGM/train_data/trajectories/protein7_1.dcd', '/home/jmwang/WorkSpace/MDGM/train_data/trajectories/protein12_15.dcd', '/home/jmwang/WorkSpace/MDGM/train_data/trajectories/protein11_3.dcd', '/home/jmwang/WorkSpace/MDGM/train_data/trajectories/protein1_1.dcd', '/home/jmwang/WorkSpace/MDGM/train_data/trajectories/protein1_23.dcd', '/home/jmwang/WorkSpace/MDGM/train_data/trajectories/protein6_23.dcd', '/home/jmwang/WorkSpace/MDGM/train_data/trajectories/protein1_18.dcd', '/home/jmwang/WorkSpace/MDGM/train_data/trajectories/protein3_16.dcd', '/home/jmwang/WorkSpace/MDGM/train_data/trajectories/protein4_14.dcd', '/home/jmwang/WorkSpace/MDGM/train_data/trajectories/protein9_4.dcd', '/home/jmwang/WorkSpace/MDGM/train_data/trajectories/protein7_2.dcd', '/home/jmwang/WorkSpace/MDGM/train_data/trajectories/protein12_2.dcd', '/home/jmwang/WorkSpace/MDGM/train_data/trajectories/protein5_16.dcd', '/home/jmwang/WorkSpace/MDGM/train_data/trajectories/protein11_8.dcd', '/home/jmwang/WorkSpace/MDGM/train_data/trajectories/protein12_12.dcd', '/home/jmwang/WorkSpace/MDGM/train_data/trajectories/protein9_10.dcd', '/home/jmwang/WorkSpace/MDGM/train_data/trajectories/protein12_0.dcd', '/home/jmwang/WorkSpace/MDGM/train_data/trajectories/protein5_22.dcd', '/home/jmwang/WorkSpace/MDGM/train_data/trajectories/protein9_11.dcd', '/home/jmwang/WorkSpace/MDGM/train_data/trajectories/protein11_11.dcd', '/home/jmwang/WorkSpace/MDGM/train_data/trajectories/protein9_2.dcd', '/home/jmwang/WorkSpace/MDGM/train_data/trajectories/protein10_13.dcd', '/home/jmwang/WorkSpace/MDGM/train_data/trajectories/protein3_19.dcd', '/home/jmwang/WorkSpace/MDGM/train_data/trajectories/protein10_8.dcd', '/home/jmwang/WorkSpace/MDGM/train_data/trajectories/protein5_0.dcd', '/home/jmwang/WorkSpace/MDGM/train_data/trajectories/protein10_16.dcd', '/home/jmwang/WorkSpace/MDGM/train_data/trajectories/protein6_4.dcd', '/home/jmwang/WorkSpace/MDGM/train_data/trajectories/protein3_18.dcd', '/home/jmwang/WorkSpace/MDGM/train_data/trajectories/protein6_8.dcd', '/home/jmwang/WorkSpace/MDGM/train_data/trajectories/protein1_16.dcd', '/home/jmwang/WorkSpace/MDGM/train_data/trajectories/protein6_18.dcd', '/home/jmwang/WorkSpace/MDGM/train_data/trajectories/protein2_25.dcd', '/home/jmwang/WorkSpace/MDGM/train_data/trajectories/protein6_15.dcd', '/home/jmwang/WorkSpace/MDGM/train_data/trajectories/protein9_12.dcd', '/home/jmwang/WorkSpace/MDGM/train_data/trajectories/protein8_7.dcd', '/home/jmwang/WorkSpace/MDGM/train_data/trajectories/protein12_4.dcd', '/home/jmwang/WorkSpace/MDGM/train_data/trajectories/protein12_6.dcd', '/home/jmwang/WorkSpace/MDGM/train_data/trajectories/protein5_24.dcd', '/home/jmwang/WorkSpace/MDGM/train_data/trajectories/protein6_28.dcd', '/home/jmwang/WorkSpace/MDGM/train_data/trajectories/protein5_2.dcd', '/home/jmwang/WorkSpace/MDGM/train_data/trajectories/protein7_25.dcd', '/home/jmwang/WorkSpace/MDGM/train_data/trajectories/protein10_7.dcd', '/home/jmwang/WorkSpace/MDGM/train_data/trajectories/protein2_0.dcd', '/home/jmwang/WorkSpace/MDGM/train_data/trajectories/protein11_17.dcd', '/home/jmwang/WorkSpace/MDGM/train_data/trajectories/protein3_2.dcd', '/home/jmwang/WorkSpace/MDGM/train_data/trajectories/protein8_12.dcd', '/home/jmwang/WorkSpace/MDGM/train_data/trajectories/protein6_3.dcd', '/home/jmwang/WorkSpace/MDGM/train_data/trajectories/protein6_12.dcd', '/home/jmwang/WorkSpace/MDGM/train_data/trajectories/protein7_10.dcd', '/home/jmwang/WorkSpace/MDGM/train_data/trajectories/protein3_28.dcd', '/home/jmwang/WorkSpace/MDGM/train_data/trajectories/protein4_5.dcd', '/home/jmwang/WorkSpace/MDGM/train_data/trajectories/protein12_8.dcd', '/home/jmwang/WorkSpace/MDGM/train_data/trajectories/protein4_22.dcd', '/home/jmwang/WorkSpace/MDGM/train_data/trajectories/protein8_23.dcd', '/home/jmwang/WorkSpace/MDGM/train_data/trajectories/protein4_8.dcd', '/home/jmwang/WorkSpace/MDGM/train_data/trajectories/protein9_20.dcd', '/home/jmwang/WorkSpace/MDGM/train_data/trajectories/protein4_9.dcd', '/home/jmwang/WorkSpace/MDGM/train_data/trajectories/protein7_5.dcd', '/home/jmwang/WorkSpace/MDGM/train_data/trajectories/protein5_3.dcd', '/home/jmwang/WorkSpace/MDGM/train_data/trajectories/protein5_18.dcd', '/home/jmwang/WorkSpace/MDGM/train_data/trajectories/protein2_5.dcd', '/home/jmwang/WorkSpace/MDGM/train_data/trajectories/protein8_18.dcd', '/home/jmwang/WorkSpace/MDGM/train_data/trajectories/protein7_23.dcd', '/home/jmwang/WorkSpace/MDGM/train_data/trajectories/protein9_18.dcd', '/home/jmwang/WorkSpace/MDGM/train_data/trajectories/protein9_14.dcd', '/home/jmwang/WorkSpace/MDGM/train_data/trajectories/protein6_19.dcd', '/home/jmwang/WorkSpace/MDGM/train_data/trajectories/protein3_5.dcd', '/home/jmwang/WorkSpace/MDGM/train_data/trajectories/protein3_21.dcd', '/home/jmwang/WorkSpace/MDGM/train_data/trajectories/protein2_1.dcd', '/home/jmwang/WorkSpace/MDGM/train_data/trajectories/protein5_28.dcd', '/home/jmwang/WorkSpace/MDGM/train_data/trajectories/protein7_28.dcd', '/home/jmwang/WorkSpace/MDGM/train_data/trajectories/protein4_11.dcd', '/home/jmwang/WorkSpace/MDGM/train_data/trajectories/protein9_1.dcd', '/home/jmwang/WorkSpace/MDGM/train_data/trajectories/protein3_24.dcd', '/home/jmwang/WorkSpace/MDGM/train_data/trajectories/protein2_18.dcd', '/home/jmwang/WorkSpace/MDGM/train_data/trajectories/protein9_8.dcd', '/home/jmwang/WorkSpace/MDGM/train_data/trajectories/protein9_17.dcd', '/home/jmwang/WorkSpace/MDGM/train_data/trajectories/protein3_25.dcd', '/home/jmwang/WorkSpace/MDGM/train_data/trajectories/protein1_12.dcd', '/home/jmwang/WorkSpace/MDGM/train_data/trajectories/protein4_24.dcd', '/home/jmwang/WorkSpace/MDGM/train_data/trajectories/protein1_22.dcd', '/home/jmwang/WorkSpace/MDGM/train_data/trajectories/protein9_22.dcd', '/home/jmwang/WorkSpace/MDGM/train_data/trajectories/protein7_18.dcd', '/home/jmwang/WorkSpace/MDGM/train_data/trajectories/protein2_4.dcd', '/home/jmwang/WorkSpace/MDGM/train_data/trajectories/protein12_11.dcd', '/home/jmwang/WorkSpace/MDGM/train_data/trajectories/protein12_16.dcd', '/home/jmwang/WorkSpace/MDGM/train_data/trajectories/protein11_6.dcd', '/home/jmwang/WorkSpace/MDGM/train_data/trajectories/protein2_17.dcd', '/home/jmwang/WorkSpace/MDGM/train_data/trajectories/protein3_3.dcd', '/home/jmwang/WorkSpace/MDGM/train_data/trajectories/protein6_7.dcd', '/home/jmwang/WorkSpace/MDGM/train_data/trajectories/protein6_5.dcd', '/home/jmwang/WorkSpace/MDGM/train_data/trajectories/protein4_17.dcd', '/home/jmwang/WorkSpace/MDGM/train_data/trajectories/protein5_17.dcd', '/home/jmwang/WorkSpace/MDGM/train_data/trajectories/protein1_26.dcd', '/home/jmwang/WorkSpace/MDGM/train_data/trajectories/protein10_5.dcd', '/home/jmwang/WorkSpace/MDGM/train_data/trajectories/protein10_9.dcd', '/home/jmwang/WorkSpace/MDGM/train_data/trajectories/protein10_11.dcd', '/home/jmwang/WorkSpace/MDGM/train_data/trajectories/protein7_4.dcd', '/home/jmwang/WorkSpace/MDGM/train_data/trajectories/protein8_3.dcd', '/home/jmwang/WorkSpace/MDGM/train_data/trajectories/protein6_9.dcd', '/home/jmwang/WorkSpace/MDGM/train_data/trajectories/protein3_13.dcd', '/home/jmwang/WorkSpace/MDGM/train_data/trajectories/protein2_19.dcd', '/home/jmwang/WorkSpace/MDGM/train_data/trajectories/protein3_8.dcd', '/home/jmwang/WorkSpace/MDGM/train_data/trajectories/protein1_13.dcd', '/home/jmwang/WorkSpace/MDGM/train_data/trajectories/protein7_19.dcd', '/home/jmwang/WorkSpace/MDGM/train_data/trajectories/protein10_3.dcd', '/home/jmwang/WorkSpace/MDGM/train_data/trajectories/protein5_6.dcd', '/home/jmwang/WorkSpace/MDGM/train_data/trajectories/protein6_10.dcd', '/home/jmwang/WorkSpace/MDGM/train_data/trajectories/protein1_5.dcd', '/home/jmwang/WorkSpace/MDGM/train_data/trajectories/protein11_12.dcd', '/home/jmwang/WorkSpace/MDGM/train_data/trajectories/protein2_22.dcd', '/home/jmwang/WorkSpace/MDGM/train_data/trajectories/protein9_5.dcd', '/home/jmwang/WorkSpace/MDGM/train_data/trajectories/protein7_15.dcd', '/home/jmwang/WorkSpace/MDGM/train_data/trajectories/protein3_7.dcd', '/home/jmwang/WorkSpace/MDGM/train_data/trajectories/protein1_4.dcd', '/home/jmwang/WorkSpace/MDGM/train_data/trajectories/protein10_0.dcd', '/home/jmwang/WorkSpace/MDGM/train_data/trajectories/protein7_12.dcd', '/home/jmwang/WorkSpace/MDGM/train_data/trajectories/protein8_4.dcd', '/home/jmwang/WorkSpace/MDGM/train_data/trajectories/protein2_13.dcd', '/home/jmwang/WorkSpace/MDGM/train_data/trajectories/protein4_19.dcd', '/home/jmwang/WorkSpace/MDGM/train_data/trajectories/protein6_20.dcd', '/home/jmwang/WorkSpace/MDGM/train_data/trajectories/protein4_3.dcd', '/home/jmwang/WorkSpace/MDGM/train_data/trajectories/protein8_9.dcd', '/home/jmwang/WorkSpace/MDGM/train_data/trajectories/protein10_15.dcd', '/home/jmwang/WorkSpace/MDGM/train_data/trajectories/protein3_1.dcd', '/home/jmwang/WorkSpace/MDGM/train_data/trajectories/protein8_14.dcd', '/home/jmwang/WorkSpace/MDGM/train_data/trajectories/protein1_3.dcd', '/home/jmwang/WorkSpace/MDGM/train_data/trajectories/protein3_15.dcd', '/home/jmwang/WorkSpace/MDGM/train_data/trajectories/protein10_12.dcd', '/home/jmwang/WorkSpace/MDGM/train_data/trajectories/protein8_21.dcd', '/home/jmwang/WorkSpace/MDGM/train_data/trajectories/protein3_11.dcd', '/home/jmwang/WorkSpace/MDGM/train_data/trajectories/protein8_17.dcd', '/home/jmwang/WorkSpace/MDGM/train_data/trajectories/protein3_26.dcd', '/home/jmwang/WorkSpace/MDGM/train_data/trajectories/protein5_12.dcd', '/home/jmwang/WorkSpace/MDGM/train_data/trajectories/protein7_0.dcd', '/home/jmwang/WorkSpace/MDGM/train_data/trajectories/protein10_6.dcd', '/home/jmwang/WorkSpace/MDGM/train_data/trajectories/protein8_11.dcd', '/home/jmwang/WorkSpace/MDGM/train_data/trajectories/protein1_21.dcd', '/home/jmwang/WorkSpace/MDGM/train_data/trajectories/protein6_16.dcd', '/home/jmwang/WorkSpace/MDGM/train_data/trajectories/protein5_23.dcd', '/home/jmwang/WorkSpace/MDGM/train_data/trajectories/protein10_14.dcd', '/home/jmwang/WorkSpace/MDGM/train_data/trajectories/protein1_19.dcd', '/home/jmwang/WorkSpace/MDGM/train_data/trajectories/protein5_8.dcd', '/home/jmwang/WorkSpace/MDGM/train_data/trajectories/protein2_16.dcd', '/home/jmwang/WorkSpace/MDGM/train_data/trajectories/protein7_27.dcd', '/home/jmwang/WorkSpace/MDGM/train_data/trajectories/protein6_6.dcd', '/home/jmwang/WorkSpace/MDGM/train_data/trajectories/protein11_1.dcd', '/home/jmwang/WorkSpace/MDGM/train_data/trajectories/protein6_27.dcd', '/home/jmwang/WorkSpace/MDGM/train_data/trajectories/protein7_14.dcd', '/home/jmwang/WorkSpace/MDGM/train_data/trajectories/protein6_1.dcd', '/home/jmwang/WorkSpace/MDGM/train_data/trajectories/protein9_19.dcd', '/home/jmwang/WorkSpace/MDGM/train_data/trajectories/protein7_8.dcd', '/home/jmwang/WorkSpace/MDGM/train_data/trajectories/protein4_26.dcd', '/home/jmwang/WorkSpace/MDGM/train_data/trajectories/protein6_14.dcd', '/home/jmwang/WorkSpace/MDGM/train_data/trajectories/protein4_7.dcd', '/home/jmwang/WorkSpace/MDGM/train_data/trajectories/protein4_10.dcd', '/home/jmwang/WorkSpace/MDGM/train_data/trajectories/protein2_9.dcd', '/home/jmwang/WorkSpace/MDGM/train_data/trajectories/protein8_13.dcd', '/home/jmwang/WorkSpace/MDGM/train_data/trajectories/protein1_8.dcd', '/home/jmwang/WorkSpace/MDGM/train_data/trajectories/protein12_17.dcd', '/home/jmwang/WorkSpace/MDGM/train_data/trajectories/protein2_12.dcd', '/home/jmwang/WorkSpace/MDGM/train_data/trajectories/protein5_10.dcd', '/home/jmwang/WorkSpace/MDGM/train_data/trajectories/protein1_9.dcd', '/home/jmwang/WorkSpace/MDGM/train_data/trajectories/protein7_24.dcd', '/home/jmwang/WorkSpace/MDGM/train_data/trajectories/protein1_28.dcd', '/home/jmwang/WorkSpace/MDGM/train_data/trajectories/protein4_18.dcd', '/home/jmwang/WorkSpace/MDGM/train_data/trajectories/protein4_2.dcd', '/home/jmwang/WorkSpace/MDGM/train_data/trajectories/protein12_14.dcd', '/home/jmwang/WorkSpace/MDGM/train_data/trajectories/protein7_26.dcd', '/home/jmwang/WorkSpace/MDGM/train_data/trajectories/protein8_19.dcd', '/home/jmwang/WorkSpace/MDGM/train_data/trajectories/protein4_13.dcd', '/home/jmwang/WorkSpace/MDGM/train_data/trajectories/protein2_28.dcd', '/home/jmwang/WorkSpace/MDGM/train_data/trajectories/protein8_15.dcd', '/home/jmwang/WorkSpace/MDGM/train_data/trajectories/protein3_9.dcd', '/home/jmwang/WorkSpace/MDGM/train_data/trajectories/protein9_9.dcd', '/home/jmwang/WorkSpace/MDGM/train_data/trajectories/protein1_7.dcd', '/home/jmwang/WorkSpace/MDGM/train_data/trajectories/protein10_4.dcd', '/home/jmwang/WorkSpace/MDGM/train_data/trajectories/protein5_26.dcd', '/home/jmwang/WorkSpace/MDGM/train_data/trajectories/protein2_3.dcd', '/home/jmwang/WorkSpace/MDGM/train_data/trajectories/protein5_27.dcd', '/home/jmwang/WorkSpace/MDGM/train_data/trajectories/protein9_0.dcd', '/home/jmwang/WorkSpace/MDGM/train_data/trajectories/protein2_23.dcd', '/home/jmwang/WorkSpace/MDGM/train_data/trajectories/protein12_3.dcd', '/home/jmwang/WorkSpace/MDGM/train_data/trajectories/protein4_23.dcd', '/home/jmwang/WorkSpace/MDGM/train_data/trajectories/protein3_0.dcd', '/home/jmwang/WorkSpace/MDGM/train_data/trajectories/protein5_11.dcd', '/home/jmwang/WorkSpace/MDGM/train_data/trajectories/protein8_8.dcd', '/home/jmwang/WorkSpace/MDGM/train_data/trajectories/protein4_20.dcd', '/home/jmwang/WorkSpace/MDGM/train_data/trajectories/protein7_22.dcd', '/home/jmwang/WorkSpace/MDGM/train_data/trajectories/protein12_13.dcd', '/home/jmwang/WorkSpace/MDGM/train_data/trajectories/protein1_6.dcd', '/home/jmwang/WorkSpace/MDGM/train_data/trajectories/protein1_15.dcd', '/home/jmwang/WorkSpace/MDGM/train_data/trajectories/protein5_1.dcd', '/home/jmwang/WorkSpace/MDGM/train_data/trajectories/protein2_21.dcd', '/home/jmwang/WorkSpace/MDGM/train_data/trajectories/protein1_11.dcd', '/home/jmwang/WorkSpace/MDGM/train_data/trajectories/protein4_25.dcd', '/home/jmwang/WorkSpace/MDGM/train_data/trajectories/protein11_7.dcd', '/home/jmwang/WorkSpace/MDGM/train_data/trajectories/protein4_0.dcd']\n",
      "/home/jmwang/WorkSpace/MDGM/train_data/topolog/ppcomplex.pdb\n"
     ]
    }
   ],
   "source": [
    "#ppi_trans.topology=\"/home/jmwang/WorkSpace/MDGM/train_data/topolog/ppcomplex_solv.prmtop\"\n",
    "ppi_topology=\"/home/jmwang/WorkSpace/MDGM/train_data/topolog/ppcomplex.pdb\"\n",
    "print(ppi_trajectories)\n",
    "print(ppi_topology) "
   ]
  },
  {
   "cell_type": "code",
   "execution_count": 10,
   "metadata": {
    "execution": {
     "iopub.execute_input": "2021-05-19T05:58:08.070645Z",
     "iopub.status.busy": "2021-05-19T05:58:08.069949Z",
     "iopub.status.idle": "2021-05-19T05:58:08.534249Z",
     "shell.execute_reply": "2021-05-19T05:58:08.534698Z"
    }
   },
   "outputs": [
    {
     "name": "stdout",
     "output_type": "stream",
     "text": [
      "Number of trajectories in the ensemble: 308\n",
      "Number of frames in each trajectory of the ensemble:\n",
      "500 500 500 500 500 500 500 500 500 500 500 500 500 500 500 500 500 500 500 500 500 500 500 500 500 500 500 500 500 500 500 500 500 500 500 500 500 500 500 500 500 500 500 500 500 500 500 500 500 500 500 500 500 500 500 500 500 500 500 500 500 500 500 500 500 500 500 500 500 500 500 500 500 500 500 500 500 500 500 500 500 500 500 500 500 500 500 500 500 500 500 500 500 500 500 500 500 500 500 500 500 500 500 500 500 500 500 500 500 500 500 500 500 500 500 500 500 500 500 500 500 500 500 500 500 500 500 500 500 500 500 500 500 500 500 500 500 500 500 500 500 500 500 500 500 500 500 500 500 500 500 500 500 500 500 500 500 500 500 500 500 500 500 500 500 500 500 500 500 500 500 500 500 500 500 500 500 500 500 500 500 500 500 500 500 500 500 500 500 500 500 500 500 500 500 500 500 500 500 500 500 500 500 500 500 500 500 500 500 500 500 500 500 500 500 500 500 500 500 500 500 500 500 500 500 500 500 500 500 500 500 500 500 500 500 500 500 500 500 500 500 500 500 500 500 500 500 500 500 500 500 500 500 500 500 500 500 500 500 500 500 500 500 500 500 500 500 500 500 500 500 500 500 500 500 500 500 500 500 500 500 500 500 500 500 500 500 500 500 500 500 500 500 500 500 500 500 500 500 500 500 500 500 500 500 500 500 500 \n",
      "\n"
     ]
    }
   ],
   "source": [
    "# Here we examine the entire ensemble of trajectories \n",
    "n_trj = len(ppi_trajectories)\n",
    "all_trj_nframes = []\n",
    "\n",
    "for i,trajectory in enumerate(ppi_trajectories):\n",
    "    u = mda.Universe(ppi_topology, trajectory)\n",
    "    single_trj_nframes = len(u.trajectory)\n",
    "    all_trj_nframes.append(single_trj_nframes)\n",
    "\n",
    "all_trj_nframes = np.array(all_trj_nframes)\n",
    "\n",
    "print(f'Number of trajectories in the ensemble: {n_trj}')\n",
    "print(f'Number of frames in each trajectory of the ensemble:')\n",
    "print(*all_trj_nframes,'\\n')"
   ]
  },
  {
   "cell_type": "markdown",
   "metadata": {},
   "source": [
    "### Validation set"
   ]
  },
  {
   "cell_type": "code",
   "execution_count": 11,
   "metadata": {
    "scrolled": true
   },
   "outputs": [
    {
     "name": "stdout",
     "output_type": "stream",
     "text": [
      "Number of frames in the validation set: 500\n",
      "Number of frames in the test set: 500\n"
     ]
    }
   ],
   "source": [
    "# Here we select the first two trajectories of the ensemble as the validation and test sets, respectively. \n",
    "# Later on we will loop through the other trajectories to train the NN.\n",
    "u_val = mda.Universe(ppi_topology, ppi_trajectories[0])\n",
    "print(f'Number of frames in the validation set: {len(u_val.trajectory)}')\n",
    "u_test = mda.Universe(ppi_topology, ppi_trajectories[1])\n",
    "print(f'Number of frames in the test set: {len(u_test.trajectory)}')"
   ]
  },
  {
   "cell_type": "code",
   "execution_count": 12,
   "metadata": {},
   "outputs": [
    {
     "data": {
      "application/vnd.jupyter.widget-view+json": {
       "model_id": "6f24d3b78c33495aada7585c8f347a66",
       "version_major": 2,
       "version_minor": 0
      },
      "text/plain": [
       "NGLWidget(max_frame=499)"
      ]
     },
     "metadata": {},
     "output_type": "display_data"
    }
   ],
   "source": [
    "# Here we use the validation set to view the conformational transition \n",
    "view = nv.show_mdanalysis(u_val)\n",
    "view.center()\n",
    "view"
   ]
  },
  {
   "cell_type": "code",
   "execution_count": 13,
   "metadata": {},
   "outputs": [
    {
     "name": "stdout",
     "output_type": "stream",
     "text": [
      "There are 500 frames in the trajectory\n",
      "There are 85 protein residues in each frame\n"
     ]
    }
   ],
   "source": [
    "# Here we use the validation set to get information about the protein\n",
    "#protein A\n",
    "n_frames = len(u_val.trajectory)\n",
    "print(f'There are {n_frames} frames in the trajectory')\n",
    "\n",
    "# Atom selection\n",
    "proteinA = u_val.select_atoms('resid 1:85')\n",
    "print(f'There are {len(proteinA.residues)} protein residues in each frame')"
   ]
  },
  {
   "cell_type": "code",
   "execution_count": 14,
   "metadata": {},
   "outputs": [
    {
     "name": "stdout",
     "output_type": "stream",
     "text": [
      "There are 500 frames in the trajectory\n",
      "There are 13 protein residues in each frame\n"
     ]
    }
   ],
   "source": [
    "# Here we use the validation set to get information about the protein\n",
    "#protein B\n",
    "n_frames = len(u_val.trajectory)\n",
    "print(f'There are {n_frames} frames in the trajectory')\n",
    "\n",
    "# Atom selection\n",
    "proteinB = u_val.select_atoms('resid 86:98')\n",
    "print(f'There are {len(proteinB.residues)} protein residues in each frame')"
   ]
  },
  {
   "cell_type": "code",
   "execution_count": 15,
   "metadata": {},
   "outputs": [
    {
     "name": "stdout",
     "output_type": "stream",
     "text": [
      "There are 500 frames in the trajectory\n",
      "There are 98 protein residues in each frame\n"
     ]
    }
   ],
   "source": [
    "# Here we use the validation set to get information about the protein\n",
    "#protein\n",
    "n_frames = len(u_val.trajectory)\n",
    "print(f'There are {n_frames} frames in the trajectory')\n",
    "\n",
    "# Atom selection\n",
    "protein = u_val.select_atoms('protein')\n",
    "print(f'There are {len(protein.residues)} protein residues in each frame')"
   ]
  },
  {
   "cell_type": "code",
   "execution_count": 16,
   "metadata": {},
   "outputs": [
    {
     "name": "stdout",
     "output_type": "stream",
     "text": [
      "Protein A sequence in 3 letter code:\n",
      "GLUTHRLEUVALARGPROLYSPROLEULEULEULYSLEULEULYSSERVALGLYALAGLNLYSASPTHRTYRTHRMETLYSGLUVALLEUPHETYRLEUGLYGLNTYRILEMETTHRLYSARGLEUTYRASPGLULYSGLNGLNHIEILEVALTYRCYSSERASNASPLEULEUGLYASPLEUPHEGLYVALPROSERPHESERVALLYSGLUHIEARGLYSILETYRTHRMETILETYRARGASNLEUVALVAL\n",
      "\n",
      "Protein sequence in split 3 letter code:\n",
      "['GLU', 'THR', 'LEU', 'VAL', 'ARG', 'PRO', 'LYS', 'PRO', 'LEU', 'LEU', 'LEU', 'LYS', 'LEU', 'LEU', 'LYS', 'SER', 'VAL', 'GLY', 'ALA', 'GLN', 'LYS', 'ASP', 'THR', 'TYR', 'THR', 'MET', 'LYS', 'GLU', 'VAL', 'LEU', 'PHE', 'TYR', 'LEU', 'GLY', 'GLN', 'TYR', 'ILE', 'MET', 'THR', 'LYS', 'ARG', 'LEU', 'TYR', 'ASP', 'GLU', 'LYS', 'GLN', 'GLN', 'HIE', 'ILE', 'VAL', 'TYR', 'CYS', 'SER', 'ASN', 'ASP', 'LEU', 'LEU', 'GLY', 'ASP', 'LEU', 'PHE', 'GLY', 'VAL', 'PRO', 'SER', 'PHE', 'SER', 'VAL', 'LYS', 'GLU', 'HIE', 'ARG', 'LYS', 'ILE', 'TYR', 'THR', 'MET', 'ILE', 'TYR', 'ARG', 'ASN', 'LEU', 'VAL', 'VAL']\n",
      "\n",
      "Protein sequence in 1 letter code:\n",
      "ETLVRPKPLLLKLLKSVGAQKDTYTMKEVLFYLGQYIMTKRLYDEKQQXIVYCSNDLLGDLFGVPSFSVKEXRKIYTMIYRNLVV\n"
     ]
    }
   ],
   "source": [
    "# Protein sequence in 3 letter code\n",
    "#protein A\n",
    "prot_sequence_tlc = ''\n",
    "for res in chain.from_iterable(proteinA.residues.resnames):\n",
    "    prot_sequence_tlc += res\n",
    "print(f'Protein A sequence in 3 letter code:\\n{prot_sequence_tlc}\\n')\n",
    "\n",
    "# Protein sequence as separated 3 letter code \n",
    "split_prot_sequence_tlc_A = []\n",
    "n = 3\n",
    "for index in range(0, len(prot_sequence_tlc), n):\n",
    "    split_prot_sequence_tlc_A.append(prot_sequence_tlc[index : index + n])\n",
    "print(f'Protein sequence in split 3 letter code:\\n{split_prot_sequence_tlc_A}\\n')\n",
    "\n",
    "# Protein sequence in 3 letter code\n",
    "prot_sequence_slc = seq1(prot_sequence_tlc)\n",
    "print(f'Protein sequence in 1 letter code:\\n{prot_sequence_slc}')"
   ]
  },
  {
   "cell_type": "code",
   "execution_count": 17,
   "metadata": {},
   "outputs": [
    {
     "name": "stdout",
     "output_type": "stream",
     "text": [
      "Protein B sequence in 3 letter code:\n",
      "GLUTHRPHESERASPLEUTRPLYSLEULEUPROGLUASN\n",
      "\n",
      "Protein sequence in split 3 letter code:\n",
      "['GLU', 'THR', 'PHE', 'SER', 'ASP', 'LEU', 'TRP', 'LYS', 'LEU', 'LEU', 'PRO', 'GLU', 'ASN']\n",
      "\n",
      "Protein sequence in 1 letter code:\n",
      "ETFSDLWKLLPEN\n"
     ]
    }
   ],
   "source": [
    "# Protein sequence in 3 letter code\n",
    "#protein B\n",
    "prot_sequence_tlc = ''\n",
    "for res in chain.from_iterable(proteinB.residues.resnames):\n",
    "    prot_sequence_tlc += res\n",
    "print(f'Protein B sequence in 3 letter code:\\n{prot_sequence_tlc}\\n')\n",
    "\n",
    "# Protein sequence as separated 3 letter code \n",
    "split_prot_sequence_tlc_B = []\n",
    "n = 3\n",
    "for index in range(0, len(prot_sequence_tlc), n):\n",
    "    split_prot_sequence_tlc_B.append(prot_sequence_tlc[index : index + n])\n",
    "print(f'Protein sequence in split 3 letter code:\\n{split_prot_sequence_tlc_B}\\n')\n",
    "\n",
    "# Protein sequence in 3 letter code\n",
    "prot_sequence_slc = seq1(prot_sequence_tlc)\n",
    "print(f'Protein sequence in 1 letter code:\\n{prot_sequence_slc}')"
   ]
  },
  {
   "cell_type": "code",
   "execution_count": 18,
   "metadata": {},
   "outputs": [
    {
     "name": "stdout",
     "output_type": "stream",
     "text": [
      "Protein sequence in 3 letter code:\n",
      "GLUTHRLEUVALARGPROLYSPROLEULEULEULYSLEULEULYSSERVALGLYALAGLNLYSASPTHRTYRTHRMETLYSGLUVALLEUPHETYRLEUGLYGLNTYRILEMETTHRLYSARGLEUTYRASPGLULYSGLNGLNHIEILEVALTYRCYSSERASNASPLEULEUGLYASPLEUPHEGLYVALPROSERPHESERVALLYSGLUHIEARGLYSILETYRTHRMETILETYRARGASNLEUVALVALGLUTHRPHESERASPLEUTRPLYSLEULEUPROGLUASN\n",
      "\n",
      "Protein sequence in split 3 letter code:\n",
      "['GLU', 'THR', 'LEU', 'VAL', 'ARG', 'PRO', 'LYS', 'PRO', 'LEU', 'LEU', 'LEU', 'LYS', 'LEU', 'LEU', 'LYS', 'SER', 'VAL', 'GLY', 'ALA', 'GLN', 'LYS', 'ASP', 'THR', 'TYR', 'THR', 'MET', 'LYS', 'GLU', 'VAL', 'LEU', 'PHE', 'TYR', 'LEU', 'GLY', 'GLN', 'TYR', 'ILE', 'MET', 'THR', 'LYS', 'ARG', 'LEU', 'TYR', 'ASP', 'GLU', 'LYS', 'GLN', 'GLN', 'HIE', 'ILE', 'VAL', 'TYR', 'CYS', 'SER', 'ASN', 'ASP', 'LEU', 'LEU', 'GLY', 'ASP', 'LEU', 'PHE', 'GLY', 'VAL', 'PRO', 'SER', 'PHE', 'SER', 'VAL', 'LYS', 'GLU', 'HIE', 'ARG', 'LYS', 'ILE', 'TYR', 'THR', 'MET', 'ILE', 'TYR', 'ARG', 'ASN', 'LEU', 'VAL', 'VAL', 'GLU', 'THR', 'PHE', 'SER', 'ASP', 'LEU', 'TRP', 'LYS', 'LEU', 'LEU', 'PRO', 'GLU', 'ASN']\n",
      "\n",
      "Protein sequence in 1 letter code:\n",
      "ETLVRPKPLLLKLLKSVGAQKDTYTMKEVLFYLGQYIMTKRLYDEKQQXIVYCSNDLLGDLFGVPSFSVKEXRKIYTMIYRNLVVETFSDLWKLLPEN\n"
     ]
    }
   ],
   "source": [
    "# Protein sequence in 3 letter code\n",
    "#protein complex\n",
    "prot_sequence_tlc = ''\n",
    "for res in chain.from_iterable(protein.residues.resnames):\n",
    "    prot_sequence_tlc += res\n",
    "print(f'Protein sequence in 3 letter code:\\n{prot_sequence_tlc}\\n')\n",
    "\n",
    "# Protein sequence as separated 3 letter code \n",
    "split_prot_sequence_tlc = []\n",
    "n = 3\n",
    "for index in range(0, len(prot_sequence_tlc), n):\n",
    "    split_prot_sequence_tlc.append(prot_sequence_tlc[index : index + n])\n",
    "print(f'Protein sequence in split 3 letter code:\\n{split_prot_sequence_tlc}\\n')\n",
    "\n",
    "# Protein sequence in 3 letter code\n",
    "prot_sequence_slc = seq1(prot_sequence_tlc)\n",
    "print(f'Protein sequence in 1 letter code:\\n{prot_sequence_slc}')"
   ]
  },
  {
   "cell_type": "code",
   "execution_count": 19,
   "metadata": {},
   "outputs": [],
   "source": [
    "# function to get unique values in a list\n",
    "def unique(list): \n",
    "    unique_list = []\n",
    "    for x in list:\n",
    "        if x not in unique_list:\n",
    "            unique_list.append(x)        \n",
    "    return unique_list"
   ]
  },
  {
   "cell_type": "code",
   "execution_count": 20,
   "metadata": {},
   "outputs": [
    {
     "name": "stdout",
     "output_type": "stream",
     "text": [
      "98 ['GLU', 'THR', 'LEU', 'VAL', 'ARG', 'PRO', 'LYS', 'SER', 'GLY', 'ALA', 'GLN', 'ASP', 'TYR', 'MET', 'PHE', 'ILE', 'HIE', 'CYS', 'ASN', 'TRP']\n",
      "AA to NUMBER table:\n",
      "[('GLU', 0), ('THR', 1), ('LEU', 2), ('VAL', 3), ('ARG', 4), ('PRO', 5), ('LYS', 6), ('SER', 7), ('GLY', 8), ('ALA', 9), ('GLN', 10), ('ASP', 11), ('TYR', 12), ('MET', 13), ('PHE', 14), ('ILE', 15), ('HIE', 16), ('CYS', 17), ('ASN', 18), ('TRP', 19)]\n",
      "\n",
      "Protein sequence as aa type:\n",
      "[0, 1, 2, 3, 4, 5, 6, 5, 2, 2, 2, 6, 2, 2, 6, 7, 3, 8, 9, 10, 6, 11, 1, 12, 1, 13, 6, 0, 3, 2, 14, 12, 2, 8, 10, 12, 15, 13, 1, 6, 4, 2, 12, 11, 0, 6, 10, 10, 16, 15, 3, 12, 17, 7, 18, 11, 2, 2, 8, 11, 2, 14, 8, 3, 5, 7, 14, 7, 3, 6, 0, 16, 4, 6, 15, 12, 1, 13, 15, 12, 4, 18, 2, 3, 3, 0, 1, 14, 7, 11, 2, 19, 6, 2, 2, 5, 0, 18]\n"
     ]
    }
   ],
   "source": [
    "# Unique amino acids in the protein \n",
    "unique_aa = unique(split_prot_sequence_tlc)\n",
    "print(len(split_prot_sequence_tlc),unique_aa)\n",
    "\n",
    "# Table used to convert each type of aa into a number\n",
    "aa_to_number_table = []\n",
    "split_prot_sequence_as_type = np.zeros((98,))\n",
    "for i,aa in enumerate(unique_aa):\n",
    "    aa_to_number_table.append((aa,i))\n",
    "#     print(aa)\n",
    "    ind = [res == aa for res in split_prot_sequence_tlc]\n",
    "    split_prot_sequence_as_type[ind] = i\n",
    "\n",
    "# Protein sequence as numbers corresponding to different aa's \n",
    "# (used later on in the PosEmbedding function)\n",
    "split_prot_sequence_as_type = split_prot_sequence_as_type.astype('int32').tolist()    \n",
    "print(f'AA to NUMBER table:\\n{aa_to_number_table}\\n')\n",
    "print(f'Protein sequence as aa type:\\n{split_prot_sequence_as_type}')"
   ]
  },
  {
   "cell_type": "code",
   "execution_count": 21,
   "metadata": {},
   "outputs": [
    {
     "name": "stdout",
     "output_type": "stream",
     "text": [
      "{'GLU': 0, 'THR': 1, 'LEU': 2, 'VAL': 3, 'ARG': 4, 'PRO': 5, 'LYS': 6, 'SER': 7, 'GLY': 8, 'ALA': 9, 'GLN': 10, 'ASP': 11, 'TYR': 12, 'MET': 13, 'PHE': 14, 'ILE': 15, 'HIE': 16, 'CYS': 17, 'ASN': 18, 'TRP': 19}\n"
     ]
    },
    {
     "data": {
      "text/plain": [
       "([0, 1, 2, 3, 4], [0, 1, 14, 7, 11, 2, 19, 6, 2, 2, 5, 0, 18])"
      ]
     },
     "execution_count": 21,
     "metadata": {},
     "output_type": "execute_result"
    }
   ],
   "source": [
    "aa_to_number_dict = {}\n",
    "for i in aa_to_number_table:\n",
    "    aa_to_number_dict[i[0]]=i[1]\n",
    "\n",
    "print(aa_to_number_dict)\n",
    "\n",
    "split_prot_sequence_tlc_A_id = [aa_to_number_dict[i] for i in split_prot_sequence_tlc_A]\n",
    "split_prot_sequence_tlc_A_id = np.array(split_prot_sequence_tlc_A_id).astype('int32').tolist() \n",
    "split_prot_sequence_tlc_A_id \n",
    "\n",
    "split_prot_sequence_tlc_B_id = [aa_to_number_dict[i] for i in split_prot_sequence_tlc_B]\n",
    "split_prot_sequence_tlc_B_id = np.array(split_prot_sequence_tlc_B_id).astype('int32').tolist() \n",
    "split_prot_sequence_tlc_A_id[:5],split_prot_sequence_tlc_B_id"
   ]
  },
  {
   "cell_type": "markdown",
   "metadata": {},
   "source": [
    "## Ramachandran analysis\n",
    "\n",
    "The `Ramachandran` class calculates the $\\phi$ and $\\psi$ angles of the selected residues over the course of a trajectory, saving it into `results.angles`. If residues are given that do not contain a $\\phi$ and $\\psi$ angle, they are omitted from the results. For example, the angles returned are from every residue in the protein *except* the first and last, for which a $\\phi$ angle and a $\\psi$ angle do not exist, respectively.\n",
    "\n",
    "<img src=\"dihedral.png\" style=\"width:400px;height:200px;\">\n",
    "\n",
    "The returned `results.angles` are in the shape (`n_frames`, `n_residues`, 2) where the last dimension holds the $\\phi$ and $\\psi$ angle.\n",
    "\n",
    "`Ramachandran.plot()` plots the data from each time step onto a standard Ramachandran plot. Any keyword arguments (except `ax` and `ref`) are passed to `matplotlib.axes.Axes.scatter` to modify the plot. Setting `ref=True`, plots areas that show the allowed (dark blue) and marginally allowed (lighter blue) regions."
   ]
  },
  {
   "cell_type": "code",
   "execution_count": 22,
   "metadata": {},
   "outputs": [
    {
     "name": "stdout",
     "output_type": "stream",
     "text": [
      "Ramachandran angles array shape: (500, 96, 2)\n"
     ]
    },
    {
     "data": {
      "text/plain": [
       "array([[[ -79.85247624,  112.54390074],\n",
       "        [ -83.71543383,  138.95377638],\n",
       "        [-132.1770987 ,  148.63325241],\n",
       "        ...,\n",
       "        [ -53.88070266,  149.9914468 ],\n",
       "        [ -70.796966  ,  153.96879303],\n",
       "        [ -87.67135052,  -14.98316708]],\n",
       "\n",
       "       [[ -89.76021955,   95.95190448],\n",
       "        [ -78.14821227,  141.88612966],\n",
       "        [-143.94653691,  145.1235084 ],\n",
       "        ...,\n",
       "        [ -67.00903193,  143.7049062 ],\n",
       "        [ -77.32175391,  153.41589191],\n",
       "        [ -85.6137372 ,  -40.80917225]],\n",
       "\n",
       "       [[-117.70114172,  104.58617114],\n",
       "        [ -90.72232735,  123.78497461],\n",
       "        [-130.29586919,  140.11380849],\n",
       "        ...,\n",
       "        [ -67.4962911 ,  140.37633929],\n",
       "        [ -72.97758164,  156.18787096],\n",
       "        [ -96.02618227,  -31.98619426]],\n",
       "\n",
       "       ...,\n",
       "\n",
       "       [[ -77.70492481,  112.9438732 ],\n",
       "        [-111.33637691,  121.885208  ],\n",
       "        [-136.48528377,  153.32953872],\n",
       "        ...,\n",
       "        [ -62.06005386,  132.75092038],\n",
       "        [ -92.17743471,  164.52428613],\n",
       "        [ -91.01548674,  -23.07437524]],\n",
       "\n",
       "       [[ -80.56925464,  110.21343259],\n",
       "        [ -94.78026622,  131.97419676],\n",
       "        [-142.72671489,  148.76751999],\n",
       "        ...,\n",
       "        [ -71.90629621,  116.08877383],\n",
       "        [ -90.96401906,  160.32866812],\n",
       "        [ -97.7177666 ,  -18.83124052]],\n",
       "\n",
       "       [[ -86.21475454,   81.24445362],\n",
       "        [ -80.87438883,  121.37307626],\n",
       "        [-136.12127794,  145.24142448],\n",
       "        ...,\n",
       "        [ -65.54254055,  116.57234614],\n",
       "        [ -91.74492376,  152.37717545],\n",
       "        [ -81.35163841,  -17.84503212]]])"
      ]
     },
     "execution_count": 22,
     "metadata": {},
     "output_type": "execute_result"
    },
    {
     "data": {
      "image/png": "[encoded data removed]",
      "text/plain": [
       "<Figure size 432x288 with 1 Axes>"
      ]
     },
     "metadata": {
      "needs_background": "light"
     },
     "output_type": "display_data"
    }
   ],
   "source": [
    "# Ramachandran angles for all the residues in protein. \n",
    "# To select a range of frames use .run(startframe,endframe+1)\n",
    "# The 'protein' selection still refers here to the validation trj\n",
    "rama = dihedrals.Ramachandran(protein).run()\n",
    "rama.plot(color='black', marker='.', s=1, ref=True)\n",
    "trj_phipsi = rama.results.angles\n",
    "print(f'Ramachandran angles array shape: {trj_phipsi.shape}')\n",
    "trj_phipsi"
   ]
  },
  {
   "cell_type": "markdown",
   "metadata": {},
   "source": [
    "### Conversion of the trajectory into a lists of 4 symbols/frame.\n",
    "\n",
    "Using simple selection of 4 attraction basins may ignore the actual distributions of angles during the dynamic. The function phipsi_to_basin offers the option to cluster the angles by k-means. We can shift the phi angles in order to obtain a better selection of basins."
   ]
  },
  {
   "cell_type": "code",
   "execution_count": 23,
   "metadata": {},
   "outputs": [],
   "source": [
    "def phipsi_to_basin(angles,phi_shift=-120.,cluster=False,n_clusters=4,plot=True):\n",
    "    \n",
    "    # Here, we reshape the sequence of frames so that the entire trajectory fits into \n",
    "    # a single 2D array for clustering\n",
    "    shapes = angles.shape\n",
    "    angles = np.reshape(angles,(shapes[0]*shapes[1],shapes[2]),order='C')\n",
    "\n",
    "    # Shift in phi angles to obtain clean basins\n",
    "    for value in angles:\n",
    "        if value[1]<phi_shift:\n",
    "            value[1] += 360.    \n",
    "\n",
    "    init_centroids = np.array([[-100.,150],[-100.,-50.],[100.,-50.],[100.,150.]])\n",
    "    kmeans = KMeans(n_clusters, \n",
    "                    init=init_centroids,\n",
    "                    random_state=123,\n",
    "                    algorithm='full').fit(angles)\n",
    "    centroids = kmeans.cluster_centers_\n",
    "    # score = kmeans.score(angles)\n",
    "    \n",
    "    if cluster:\n",
    "        preds = kmeans.labels_\n",
    "    else:\n",
    "        preds = []\n",
    "        for phipsi in angles:\n",
    "            if phipsi[0]<=25. and phipsi[1]>70.:\n",
    "                preds.append(0)\n",
    "            elif phipsi[0]<=25. and phipsi[1]<=70.:\n",
    "                preds.append(1)\n",
    "            elif phipsi[0]>25. and phipsi[1]<=70.:\n",
    "                preds.append(2)\n",
    "            elif phipsi[0]>25. and phipsi[1]>70:\n",
    "                preds.append(3)\n",
    "        preds = np.array(preds) \n",
    "        \n",
    "    if plot:\n",
    "        x = [phipsi[0] for phipsi in angles]\n",
    "        y = [phipsi[1] for phipsi in angles]\n",
    "\n",
    "        # The scatter plot has markers colored by the basin cluster\n",
    "        fig, (ax1) = plt.subplots(1,1)\n",
    "        fig.set_figheight(5)\n",
    "        fig.set_figwidth(7)\n",
    "        fig.suptitle('Ramachandran plot with Basins predictions')\n",
    "        scatterplot = ax1.scatter(x,y,s=1,c=preds)\n",
    "        ax1.set_xticklabels(['$-200^{\\circ}$','$-150^{\\circ}$','$-100^{\\circ}$','$-50^{\\circ}$',\\\n",
    "                             '$0^{\\circ}$','$50^{\\circ}$','$100^{\\circ}$','$150^{\\circ}$'],fontsize=13)\n",
    "        ax1.set_yticklabels(['$-150^{\\circ}$','$-100^{\\circ}$','$-50^{\\circ}$',\\\n",
    "                             '$0^{\\circ}$','$50^{\\circ}$','$100^{\\circ}$',\\\n",
    "                             '$150^{\\circ}$','$200^{\\circ}$','$250^{\\circ}$'],fontsize=13)\n",
    "        ax1.set_ylabel(\"$\\psi$\",fontsize=14)\n",
    "        ax1.set_xlabel(\"$\\phi$\",fontsize=14)\n",
    "        ax1.grid()\n",
    "\n",
    "        # produce a legend with the unique colors from the scatter\n",
    "        legend = ax1.legend(*scatterplot.legend_elements(),\n",
    "                            loc=\"best\", title=\"Classes\")\n",
    "        ax1.add_artist(legend)\n",
    "        ax1.legend()\n",
    "                \n",
    "    basins = np.reshape(preds,(shapes[0],shapes[1]))\n",
    "    angles = np.reshape(angles,(shapes[0],shapes[1],shapes[2]))            \n",
    "        \n",
    "    return angles,basins,centroids"
   ]
  },
  {
   "cell_type": "code",
   "execution_count": 24,
   "metadata": {},
   "outputs": [
    {
     "name": "stdout",
     "output_type": "stream",
     "text": [
      "(500, 96, 2)\n"
     ]
    }
   ],
   "source": [
    "print(trj_phipsi.shape)"
   ]
  },
  {
   "cell_type": "markdown",
   "metadata": {},
   "source": [
    "### Validation Basins datasets\n",
    "First we use as validation set only the first trajectory to obtain a nice image of the clustering"
   ]
  },
  {
   "cell_type": "code",
   "execution_count": 25,
   "metadata": {},
   "outputs": [
    {
     "name": "stderr",
     "output_type": "stream",
     "text": [
      "No handles with labels found to put in legend.\n"
     ]
    },
    {
     "data": {
      "image/png": "[encoded data removed]",
      "text/plain": [
       "<Figure size 504x360 with 1 Axes>"
      ]
     },
     "metadata": {
      "needs_background": "light"
     },
     "output_type": "display_data"
    }
   ],
   "source": [
    "val_angles,val_basins,val_centroids = phipsi_to_basin(trj_phipsi,phi_shift=-120.,\n",
    "                                                      cluster=False,\n",
    "                                                      n_clusters=4,\n",
    "                                                      plot=True)"
   ]
  },
  {
   "cell_type": "code",
   "execution_count": 26,
   "metadata": {},
   "outputs": [
    {
     "name": "stdout",
     "output_type": "stream",
     "text": [
      "(500, 96) (500, 96, 2)\n"
     ]
    }
   ],
   "source": [
    "print(val_basins.shape,val_angles.shape)"
   ]
  },
  {
   "cell_type": "code",
   "execution_count": 27,
   "metadata": {},
   "outputs": [
    {
     "name": "stdout",
     "output_type": "stream",
     "text": [
      "Ramachandran centroids\n",
      " [[-105.6538527   140.47328877]\n",
      " [ -70.15544119  -29.72631206]\n",
      " [  76.63546093    7.64436906]\n",
      " [  52.54251446   54.1126937 ]]\n",
      "Basin trj dimensions: (500, 96)\n",
      "Basin trj: [[0 0 0 ... 0 0 1]\n",
      " [0 0 0 ... 0 0 1]\n",
      " [0 0 0 ... 0 0 1]\n",
      " ...\n",
      " [0 0 0 ... 0 0 1]\n",
      " [0 0 0 ... 0 0 1]\n",
      " [0 0 0 ... 0 0 1]]\n"
     ]
    }
   ],
   "source": [
    "print(f'Ramachandran centroids\\n {val_centroids}')\n",
    "print(f'Basin trj dimensions: {val_basins.shape}')\n",
    "print(f'Basin trj: {val_basins}')"
   ]
  },
  {
   "cell_type": "code",
   "execution_count": 28,
   "metadata": {},
   "outputs": [
    {
     "name": "stdout",
     "output_type": "stream",
     "text": [
      "0 0 0 0 0 0 1 1 1 1 1 1 1 1 1 1 0 0 1 0 1 0 0 0 1 1 1 1 1 1 1 1 1 1 1 1 1 1 1 2 1 0 0 1 1 1 1 1 0 0 1 1 1 1 0 1 1 1 1 1 1 2 0 1 0 0 0 1 1 1 1 1 1 1 1 1 1 1 1 1 1 0 0 1 0 0 1 1 1 1 1 1 1 0 0 1\n"
     ]
    }
   ],
   "source": [
    "print(*val_basins[0])"
   ]
  },
  {
   "cell_type": "code",
   "execution_count": 29,
   "metadata": {},
   "outputs": [
    {
     "name": "stdout",
     "output_type": "stream",
     "text": [
      "0 0 0 0 0 0 1 1 1 1 1 1 1 1 1 1 0 0 0 0 1 0 0 0 1 1 1 1 1 1 1 1 1 1 1 1 1 1 1 2 1 0 0 1 1 1 1 1 0 0 0 1 1 1 0 1 1 1 1 1 1 2 0 1 0 0 0 1 1 1 1 1 1 1 1 1 1 1 1 1 1 0 0 0 0 0 1 1 1 1 1 1 1 0 0 1\n"
     ]
    }
   ],
   "source": [
    "print(*val_basins[-47])"
   ]
  },
  {
   "cell_type": "code",
   "execution_count": 30,
   "metadata": {},
   "outputs": [
    {
     "name": "stdout",
     "output_type": "stream",
     "text": [
      "0 0 0 0 0 0 1 1 1 1 1 1 1 1 1 1 0 0 0 0 1 0 0 0 1 1 1 1 1 1 1 1 1 1 1 1 1 1 1 2 1 0 0 1 1 1 1 1 0 0 1 1 1 1 0 1 1 1 1 1 1 2 0 1 0 0 0 1 1 1 1 1 1 1 1 1 1 1 1 1 1 0 0 0 0 0 1 1 1 1 1 1 1 0 0 1\n"
     ]
    }
   ],
   "source": [
    "print(*val_basins[-1])"
   ]
  },
  {
   "cell_type": "markdown",
   "metadata": {},
   "source": [
    "#### Select a validation:test:training split at 20:20:60\n",
    "In preparation for training we select a more traditional split between validation, test, and training set."
   ]
  },
  {
   "cell_type": "code",
   "execution_count": 27,
   "metadata": {
    "scrolled": true
   },
   "outputs": [
    {
     "name": "stdout",
     "output_type": "stream",
     "text": [
      "Number of frames in the validation set: 500\n",
      "Number of frames in the test set: 500\n"
     ]
    }
   ],
   "source": [
    "u_val = mda.Universe(ppi_topology, ppi_trajectories[0:1])\n",
    "print(f'Number of frames in the validation set: {len(u_val.trajectory)}')\n",
    "u_test = mda.Universe(ppi_topology, ppi_trajectories[2:3])\n",
    "print(f'Number of frames in the test set: {len(u_test.trajectory)}')"
   ]
  },
  {
   "cell_type": "code",
   "execution_count": 28,
   "metadata": {},
   "outputs": [
    {
     "name": "stdout",
     "output_type": "stream",
     "text": [
      "There are 500 frames in the trajectory\n",
      "There are 98 protein residues in each frame\n"
     ]
    }
   ],
   "source": [
    "# Here we use the larger validation set to get information about the protein\n",
    "n_frames = len(u_val.trajectory)\n",
    "print(f'There are {n_frames} frames in the trajectory')\n",
    "\n",
    "# Atom selection\n",
    "protein = u_val.select_atoms('protein')\n",
    "print(f'There are {len(protein.residues)} protein residues in each frame')"
   ]
  },
  {
   "cell_type": "code",
   "execution_count": 29,
   "metadata": {},
   "outputs": [
    {
     "name": "stdout",
     "output_type": "stream",
     "text": [
      "Ramachandran angles array shape: (500, 96, 2)\n"
     ]
    }
   ],
   "source": [
    "# Ramachandran angles for all the residues in protein. \n",
    "# To select a range of frames use .run(startframe,endframe+1)\n",
    "# The 'protein' selection still refers here to the validation trj\n",
    "rama = dihedrals.Ramachandran(protein).run()\n",
    "# rama.plot(color='black', marker='.', s=1, ref=True)\n",
    "trj_phipsi = rama.results.angles\n",
    "print(f'Ramachandran angles array shape: {trj_phipsi.shape}')"
   ]
  },
  {
   "cell_type": "code",
   "execution_count": 30,
   "metadata": {},
   "outputs": [],
   "source": [
    "val_angles,val_basins,val_centroids = phipsi_to_basin(trj_phipsi,phi_shift=-120.,\n",
    "                                                      cluster=False,\n",
    "                                                      n_clusters=4,\n",
    "                                                      plot=False)"
   ]
  },
  {
   "cell_type": "code",
   "execution_count": 31,
   "metadata": {},
   "outputs": [
    {
     "name": "stdout",
     "output_type": "stream",
     "text": [
      "[-79.85247624 112.54390074] [-83.71543383 138.95377638] [-132.1770987   148.63325241] [-110.88532121  103.90178676] [-91.58368306 151.98487946] [-71.22905334 159.41369103] [-48.62003679 -40.51314125] [-86.35215056 -31.56076608] [-60.01829168 -44.14907587] [-63.4378401  -42.38340836] [-60.33491629 -39.24366863] [-76.21435677 -34.05335461] [-60.1457953  -57.28034917] [-51.37746039 -19.20597522] [-77.352283    -4.80184314] [-142.21590383   13.41114403] [-159.60007478  196.61527552] [-84.52045826 154.0413167 ] [-87.93196091  32.97405965] [-55.5754686  142.00801381] [-98.01721614 -15.29172624] [-143.00167995  107.93398352] [-87.72546889 168.59558833] [-75.54467131 165.33662207] [-80.2599471 -30.6629751] [-62.12080664 -33.68313803] [-62.28911135 -54.65275805] [-43.72032885 -50.09297503] [-56.71268437 -43.08787439] [-71.24636314 -38.71824542] [-70.89008559 -48.1183214 ] [-58.41767657 -43.45791311] [-59.19221545 -36.42834238] [-64.12860172 -27.21808353] [-62.22173749 -48.92243842] [-68.48688633 -44.84603414] [-64.72666242 -51.94015102] [-68.04769805 -42.11223906] [-98.59728031  15.49684112] [50.07304766 55.58459331] [-92.48170907  -4.78246875] [-80.80381608 142.60126412] [-59.56068847 127.89152355] [-62.81263501 -17.09387495] [-123.18829208    8.94866245] [-160.93858942   40.5561372 ] [-56.82536721   1.51943156] [-63.72931597 -27.86570363] [-91.36786421 133.59095437] [-125.98882297  119.16788085] [-87.82945469  56.42252033] [-50.17442961 -19.55660708] [-76.04861217  -2.1304353 ] [-81.15287451   8.91259444] [-153.13983268  168.21889732] [-53.663115   -20.92010268] [-62.06127097 -32.57558546] [-77.69476049 -24.54671798] [-79.06752814 -19.16655896] [-72.57807147 -35.90297807] [-85.07373654 -13.1277095 ] [63.55796195 33.53259904] [-141.40965173  136.14621277] [-63.42195047 -57.93155654] [-165.33746554  158.24219831] [-139.68964379  155.03367187] [-77.97155959 133.74182469] [-68.39670471   3.60805173] [-93.60089985  -2.70535312] [-82.84087683  61.64564174] [-65.17218379 -38.09312047] [-60.34790434 -42.57885044] [-64.90563699 -50.31628319] [-64.47191892 -43.77968139] [-49.74946823 -41.09478865] [-75.57138238 -16.7342662 ] [-68.17617998 -36.76055718] [-66.43955843 -56.45051239] [-65.99598363 -32.36079629] [-65.31071655 -19.59015161] [-114.58017447    4.55076769] [-79.98137336 164.73871659] [-132.39460554  140.66938207] [-135.47661726  -13.44964339] [-132.56392748  167.54380092] [-107.71844176  171.21739689] [-48.98335419 -45.93883281] [-61.17107217 -26.88767661] [-80.3129717  -43.43556046] [-76.6985994  -32.20121505] [-63.21196797 -41.26840289] [-74.58348142  -4.57877108] [-93.12432767  -4.84983323] [-53.88070266 149.9914468 ] [-70.796966   153.96879303] [-87.67135052 -14.98316708]\n"
     ]
    },
    {
     "data": {
      "text/plain": [
       "(4, 2)"
      ]
     },
     "execution_count": 31,
     "metadata": {},
     "output_type": "execute_result"
    }
   ],
   "source": [
    "print(*val_angles[0])\n",
    "val_centroids.shape"
   ]
  },
  {
   "cell_type": "code",
   "execution_count": 32,
   "metadata": {},
   "outputs": [
    {
     "name": "stdout",
     "output_type": "stream",
     "text": [
      "0 0 0 0 0 0 1 1 1 1 1 1 1 1 1 1 0 0 0 0 1 0 0 0 1 1 1 1 1 1 1 1 1 1 1 1 1 1 1 2 1 0 0 1 1 1 1 1 0 0 0 1 1 1 0 1 1 1 1 1 1 2 0 1 0 0 0 1 1 1 1 1 1 1 1 1 1 1 1 1 1 0 0 1 0 0 1 1 1 1 1 1 1 0 0 1\n"
     ]
    }
   ],
   "source": [
    "print(*val_basins[300])"
   ]
  },
  {
   "cell_type": "code",
   "execution_count": 33,
   "metadata": {},
   "outputs": [
    {
     "name": "stdout",
     "output_type": "stream",
     "text": [
      "0 0 0 0 0 0 1 1 1 1 1 1 1 1 1 1 0 0 0 0 1 0 0 0 1 1 1 1 1 1 1 1 1 1 1 1 1 1 1 2 1 0 0 1 1 1 1 1 0 0 0 1 1 1 0 1 1 1 1 1 1 2 0 1 0 0 0 1 1 1 1 1 1 1 1 1 1 1 1 1 1 0 0 1 0 0 1 1 1 1 1 1 1 0 0 1\n"
     ]
    }
   ],
   "source": [
    "print(*val_basins[300])"
   ]
  },
  {
   "cell_type": "code",
   "execution_count": 34,
   "metadata": {},
   "outputs": [
    {
     "name": "stdout",
     "output_type": "stream",
     "text": [
      "0 0 0 0 0 0 1 1 1 1 1 1 1 1 1 1 0 0 0 0 1 0 0 0 1 1 1 1 1 1 1 1 1 1 1 1 1 1 1 2 1 0 0 1 1 1 1 1 0 0 0 1 1 1 0 1 1 1 1 1 1 2 0 1 0 0 0 1 1 1 1 1 1 1 1 1 1 1 1 1 1 0 0 1 0 0 1 1 1 1 1 1 1 0 0 1\n"
     ]
    }
   ],
   "source": [
    "print(*val_basins[300])"
   ]
  },
  {
   "cell_type": "markdown",
   "metadata": {},
   "source": [
    "Looks good: we can now use the predictions to convert the trj into an array of frames \n",
    "with each frame being an array of 4 symbols, one for each basin of attraction. First and last residues do not have phi-psi angles, so we only have 212 basins for the 214 residues of Adk."
   ]
  },
  {
   "cell_type": "markdown",
   "metadata": {},
   "source": [
    "### Dataset serving batches of inputs and targets to the Transformer\n",
    "\n",
    "Starting from the initial basins dataset, we eliminate consecutive identical  frames and create 3 new datasets each with different padding:\n",
    "* an input dataset for the encoder with final padding [6 6 6]\n",
    "* an input dataset for the decoder with initial padding [4] (where 4 is the 'sequence start' signal) and final padding [5 6] (where 5 is the 'sequence end' signal). \n",
    "* a target dataset for the transformer with final padding [5 6 6]\n",
    "\n",
    "The encoder input is the last know frame. The decoder input is the same sequence as the transformer target (the next frame to predict). However they are padded in a different way, as the decoder input must start from a generic 'sequence start' signal (in this case, number 4) to predict the 1st basin of the target, and stop predicting when it encounters a 'sequence end' signal (in this case, number 5). \n"
   ]
  },
  {
   "cell_type": "code",
   "execution_count": 31,
   "metadata": {},
   "outputs": [],
   "source": [
    "# Function to eliminate consecutive identical frames or \n",
    "# to skip frames in the basin trajectory\n",
    "def reduce_basins(basins,ncycles,nskip):\n",
    "\n",
    "    if ncycles == 0 and nskip > 1:\n",
    "        trj = np.copy(basins)\n",
    "        reduced_basins = np.array(trj[0::nskip,:])\n",
    "    elif ncycles > 0 and nskip == 0:\n",
    "        red_cycles = ncycles\n",
    "        trj = np.copy(basins)\n",
    "\n",
    "        for red_cycle in range(red_cycles):\n",
    "\n",
    "            first_frame = np.array([trj[0]])\n",
    "            # print(first_frame.shape,type(first_frame))\n",
    "\n",
    "            count = 0\n",
    "            reduced_trj = np.copy(first_frame)\n",
    "            for i,frame in enumerate(trj):\n",
    "                frame = np.array([frame])\n",
    "\n",
    "                if i == 0:\n",
    "                    previous_frame = first_frame\n",
    "\n",
    "                if np.array_equal(previous_frame,frame):\n",
    "                    previous_frame = frame\n",
    "                    continue\n",
    "                else:\n",
    "                    count += 1\n",
    "                    reduced_trj = np.append(reduced_trj,frame,axis=0)\n",
    "                    previous_frame = frame\n",
    "\n",
    "            # print(trj.shape)\n",
    "            # print(count,reduced_trj.shape)\n",
    "            trj = reduced_trj\n",
    "\n",
    "        reduced_basins = trj\n",
    "    \n",
    "    return reduced_basins\n",
    "  \n",
    "\n",
    "# Function to pre-process basin trajectories for text_to_text_translation\n",
    "def preprocess_basins(basins,reduce=True,reduce_cycles=2,skip_frames=0):\n",
    "    if reduce:\n",
    "        basins = reduce_basins(basins,reduce_cycles,skip_frames)\n",
    "        \n",
    "    n_frames = len(basins) - 1 \n",
    "        \n",
    "    # Encoder input. This set starts with the first frame and end \n",
    "    # with the next to last. The final padding [6,6,6] contains only number 6, \n",
    "    # which does not define a 'start', a 'basin', or an 'end'.\n",
    "    inputs1 = np.zeros((n_frames,99)).astype('int32')\n",
    "    for i,basin_vec in enumerate(basins[:-1]):\n",
    "        basin_vec = np.append(basin_vec,np.array([6,6,6])) \n",
    "        inputs1[i] = basin_vec\n",
    "\n",
    "    # Decoder input. This set start with the second frame and ends with the last. \n",
    "    # The initial padding [4] shifts the sequence by 1 position forward with \n",
    "    # respect to the target sequence. The final padding [5,6] adds an 'end' signal, \n",
    "    # and a non descriptive [6].\n",
    "    inputs2 = np.zeros((n_frames,99)).astype('int32')\n",
    "    for i,basin_vec in enumerate(basins[1:]):\n",
    "        basin_vec = np.concatenate((np.array([4]),basin_vec,np.array([5,6]))) \n",
    "        inputs2[i] = basin_vec    \n",
    "\n",
    "    # Transformer target. This set start with the second frame and ends with the last. \n",
    "    # It has the same protein sequence of the decoder input, \n",
    "    # without an initial 'start' signal [4], and with a final padding [5,6,6] that \n",
    "    # contains one 'end' signal [5] and two non-descriptive [6].    \n",
    "    targets = np.zeros((n_frames,99)).astype('int32')\n",
    "    for i,basin_vec in enumerate(basins[1:]):\n",
    "        basin_vec = np.append(basin_vec,np.array([5,6,6])) \n",
    "        targets[i] = basin_vec  \n",
    "        \n",
    "    return inputs1,inputs2,targets\n",
    "    \n",
    "\n",
    "# Function to format the dataset so that the 1st 2 elements provide inputs \n",
    "# and the 3rd element targets. In this case we return a tuple containing a \n",
    "# dictionary with two keys for the encoder and decoder inputs, \n",
    "# and a target for the transformer\n",
    "def format_dataset(inputs1,inputs2,targets):\n",
    "    return ({\n",
    "            \"train1\": inputs1,\n",
    "            \"train2\": inputs2,\n",
    "            }, targets)\n",
    "\n",
    "\n",
    "# Function to make a data.Dataset pipeline to serve batches of basin frames \n",
    "# to a Transformer. The number of parallel calls sets the number of cpu cores \n",
    "# used for serving data\n",
    "def dataset_from_basin_trj(basins,reduce=True,reduce_cycles=2,skip_frames=0,\n",
    "                           batch_size='All',n_cpu=2,shuffle=True,\n",
    "                           reshuffle=True,n_fetch=1,cache=False):\n",
    "    \n",
    "    inputs1,inputs2,targets = preprocess_basins(basins,reduce,reduce_cycles,skip_frames)\n",
    "    dataset = tf.data.Dataset.from_tensor_slices((inputs1,inputs2,targets))\n",
    "    if batch_size == 'All':\n",
    "        batch_size = len(targets)        \n",
    "    dataset = dataset.batch(batch_size)\n",
    "    dataset = dataset.map(format_dataset, num_parallel_calls=n_cpu)\n",
    "    \n",
    "    # Here we shuffle from a number of elements at least as large as \n",
    "    # the number of frames in the dataset and prefetch in memory n_fetch batches \n",
    "    # to speed up processing\n",
    "    \n",
    "    if shuffle:\n",
    "        if cache:\n",
    "            dataset = dataset.shuffle(n_frames+1,reshuffle_each_iteration=reshuffle).prefetch(n_fetch).cache()\n",
    "        else:\n",
    "            dataset = dataset.shuffle(n_frames+1,reshuffle_each_iteration=reshuffle).prefetch(n_fetch)\n",
    "    \n",
    "    return inputs1,inputs2,targets,dataset"
   ]
  },
  {
   "cell_type": "markdown",
   "metadata": {},
   "source": [
    "### Validation dataset"
   ]
  },
  {
   "cell_type": "code",
   "execution_count": null,
   "metadata": {},
   "outputs": [],
   "source": [
    "val_inputs1,val_inputs2,val_targets,val_dataset = dataset_from_basin_trj(val_basins,\n",
    "                                                                         reduce=True,\n",
    "                                                                         reduce_cycles=0,\n",
    "                                                                         skip_frames=6,\n",
    "                                                                         batch_size='All',\n",
    "                                                                         n_cpu=2,\n",
    "                                                                         n_fetch=1)"
   ]
  },
  {
   "cell_type": "code",
   "execution_count": 119,
   "metadata": {
    "scrolled": false
   },
   "outputs": [
    {
     "name": "stdout",
     "output_type": "stream",
     "text": [
      "Number of batches served: 1\n",
      "In each batch we have 3 components:\n",
      "inputs['train1'] of shape: (83, 99)\n",
      "inputs['train2'] of shape: (83, 99)\n",
      "targets of shape: (83, 99)\n"
     ]
    }
   ],
   "source": [
    "print(f'Number of batches served: {len(val_dataset)}')\n",
    "print(f'In each batch we have 3 components:')\n",
    "\n",
    "for inputs, targets in val_dataset.take(1):\n",
    "    print(f\"inputs['train1'] of shape: {inputs['train1'].shape}\")\n",
    "    print(f\"inputs['train2'] of shape: {inputs['train2'].shape}\")\n",
    "    print(f\"targets of shape: {targets.shape}\")\n",
    "\n",
    "# Alternative syntaxes to iterate the dataset\n",
    "# it_dataset = iter(val_dataset)\n",
    "# print(next(it_dataset)) \n",
    "\n",
    "# for i, batch in enumerate(val_dataset):\n",
    "#     print(batch[0])\n",
    "#     print(batch[1])    \n",
    "#     if i >= 1:\n",
    "#         break"
   ]
  },
  {
   "cell_type": "markdown",
   "metadata": {},
   "source": [
    "### Test dataset"
   ]
  },
  {
   "cell_type": "code",
   "execution_count": 120,
   "metadata": {},
   "outputs": [
    {
     "name": "stdout",
     "output_type": "stream",
     "text": [
      "There are 500 frames in the trajectory\n",
      "There are 98 protein residues in each frame\n",
      "Number of batches served: 1\n",
      "In each batch we have 3 components:\n",
      "inputs['train1'] of shape: (83, 99)\n",
      "inputs['train2'] of shape: (83, 99)\n",
      "targets of shape: (83, 99)\n"
     ]
    }
   ],
   "source": [
    "n_frames = len(u_test.trajectory)\n",
    "print(f'There are {n_frames} frames in the trajectory')\n",
    "protein = u_test.select_atoms('protein')\n",
    "print(f'There are {len(protein.residues)} protein residues in each frame')\n",
    "rama = dihedrals.Ramachandran(protein).run()\n",
    "trj_phipsi = rama.results.angles\n",
    "test_angles,test_basins,test_centroids = phipsi_to_basin(trj_phipsi,\n",
    "                                                         phi_shift=-120.,\n",
    "                                                         cluster=False,\n",
    "                                                         n_clusters=4,\n",
    "                                                         plot=False)\n",
    "test_inputs1,test_inputs2,test_targets,test_dataset = dataset_from_basin_trj(test_basins,\n",
    "                                                                         reduce=True,\n",
    "                                                                         reduce_cycles=0,\n",
    "                                                                         skip_frames=6,\n",
    "                                                                         batch_size='All',\n",
    "                                                                         n_cpu=2,\n",
    "                                                                         n_fetch=1)\n",
    "\n",
    "print(f'Number of batches served: {len(test_dataset)}')\n",
    "print(f'In each batch we have 3 components:')\n",
    "\n",
    "for inputs, targets in test_dataset.take(1):\n",
    "    print(f\"inputs['train1'] of shape: {inputs['train1'].shape}\")\n",
    "    print(f\"inputs['train2'] of shape: {inputs['train2'].shape}\")\n",
    "    print(f\"targets of shape: {targets.shape}\")"
   ]
  },
  {
   "cell_type": "markdown",
   "metadata": {},
   "source": [
    "### New Layer Classes not included in Keras distribution"
   ]
  },
  {
   "cell_type": "code",
   "execution_count": 121,
   "metadata": {},
   "outputs": [],
   "source": [
    "# Here we modify the original positional embedding layer from Francois Chollet \n",
    "# to allow padding with a specific number and embedding based also on \n",
    "# res chemical type\n",
    "\n",
    "class PosEmbedding(Layer):\n",
    "    def __init__(self, sequence_length, \n",
    "                 input_dim, output_dim, pad_num,\n",
    "                 sequence_as_type, aa_types,\n",
    "                 target_front_pad, train_end_pad, target_end_pad,\n",
    "                 train=True, embed_types=True, pad_types=True, **kwargs):\n",
    "        super().__init__(**kwargs)\n",
    "        self.token_embeddings = layers.Embedding(\n",
    "            input_dim=input_dim, output_dim=output_dim)\n",
    "        self.position_embeddings = layers.Embedding(\n",
    "            input_dim=sequence_length, output_dim=output_dim)\n",
    "        self.type_embedding = layers.Embedding(\n",
    "            input_dim=aa_types, output_dim=output_dim)\n",
    "        self.sequence_length = sequence_length\n",
    "        self.input_dim = input_dim\n",
    "        self.output_dim = output_dim\n",
    "        self.pad_num = pad_num\n",
    "        self.sequence_as_type = sequence_as_type\n",
    "        self.aa_types = aa_types       \n",
    "        self.target_front_pad = target_front_pad\n",
    "        self.train_end_pad = train_end_pad\n",
    "        self.target_end_pad = target_end_pad        \n",
    "        self.train = train\n",
    "        self.embed_types = embed_types\n",
    "        self.pad_types = pad_types         \n",
    "        \n",
    "\n",
    "    def call(self, inputs):\n",
    "        length = tf.shape(inputs)[-1]\n",
    "        positions = tf.range(start=0, limit=length, delta=1)\n",
    "        embedded_tokens = self.token_embeddings(inputs)\n",
    "        embedded_positions = self.position_embeddings(positions)\n",
    "\n",
    "        if self.pad_types:    \n",
    "            if self.train:\n",
    "                sequence = tf.concat([self.sequence_as_type,\n",
    "                                      train_end_pad],-1)\n",
    "            else:\n",
    "                sequence = tf.concat([target_front_pad,\n",
    "                                      self.sequence_as_type,\n",
    "                                      target_end_pad],-1) \n",
    "        else:\n",
    "            sequence = self.sequence_as_type\n",
    "            sequence = tf.cast(sequence, dtype=\"int32\")\n",
    "            \n",
    "        embedded_type = self.type_embedding(sequence)                     \n",
    "        \n",
    "        if self.embed_types:\n",
    "            return embedded_tokens + embedded_positions + embedded_type\n",
    "        else:\n",
    "            return embedded_tokens + embedded_positions     \n",
    "\n",
    "    def compute_mask(self, inputs, mask=None):\n",
    "        return tf.math.not_equal(inputs, self.pad_num)\n",
    "\n",
    "    def get_config(self):\n",
    "        config = super().get_config()\n",
    "        config.update({\n",
    "            \"output_dim\": self.output_dim,\n",
    "            \"sequence_length\": self.sequence_length,\n",
    "            \"input_dim\": self.input_dim,\n",
    "            \"pad_num\": self.pad_num,\n",
    "            \"sequence_as_type\": self.sequence_as_type,\n",
    "            \"aa_types\": self.aa_types,\n",
    "            \"target_front_pad\": self.target_front_pad,\n",
    "            \"train_end_pad\": self.train_end_pad,\n",
    "            \"target_end_pad\": self.target_end_pad,\n",
    "            \"train\": self.train,\n",
    "            \"embed_types\": self.embed_types,\n",
    "            \"pad_types\": self.pad_types,            \n",
    "        })\n",
    "        return config\n",
    "\n",
    "\n",
    "class TransformerEncoder(layers.Layer):\n",
    "    def __init__(self, embed_dim, dense_dim, num_heads, **kwargs):\n",
    "        super().__init__(**kwargs)\n",
    "        self.embed_dim = embed_dim\n",
    "        self.dense_dim = dense_dim\n",
    "        self.num_heads = num_heads\n",
    "        self.attention = layers.MultiHeadAttention(\n",
    "            num_heads=num_heads, key_dim=embed_dim)\n",
    "        self.dense_proj = keras.Sequential(\n",
    "            [layers.Dense(dense_dim, activation=\"relu\"),\n",
    "             layers.Dense(embed_dim),]\n",
    "        )\n",
    "        self.layernorm_1 = layers.LayerNormalization()\n",
    "        self.layernorm_2 = layers.LayerNormalization()\n",
    "\n",
    "    def call(self, inputs, mask=None):\n",
    "        if mask is not None:\n",
    "            mask = mask[:, tf.newaxis, :]\n",
    "        attention_output = self.attention(\n",
    "            inputs, inputs, attention_mask=mask)\n",
    "        proj_input = self.layernorm_1(inputs + attention_output)\n",
    "        proj_output = self.dense_proj(proj_input)\n",
    "        return self.layernorm_2(proj_input + proj_output)\n",
    "\n",
    "    def get_config(self):\n",
    "        config = super().get_config()\n",
    "        config.update({\n",
    "            \"embed_dim\": self.embed_dim,\n",
    "            \"num_heads\": self.num_heads,\n",
    "            \"dense_dim\": self.dense_dim,\n",
    "        })\n",
    "        return config\n",
    "    \n",
    "\n",
    "class TransformerDecoder(layers.Layer):\n",
    "    def __init__(self, embed_dim, dense_dim, num_heads, **kwargs):\n",
    "        super().__init__(**kwargs)\n",
    "        self.embed_dim = embed_dim\n",
    "        self.dense_dim = dense_dim\n",
    "        self.num_heads = num_heads\n",
    "        self.attention_1 = layers.MultiHeadAttention(\n",
    "            num_heads=num_heads, key_dim=embed_dim)\n",
    "        self.attention_2 = layers.MultiHeadAttention(\n",
    "            num_heads=num_heads, key_dim=embed_dim)\n",
    "        self.dense_proj = keras.Sequential(\n",
    "            [layers.Dense(dense_dim, activation=\"relu\"),\n",
    "             layers.Dense(embed_dim),]\n",
    "        )\n",
    "        self.layernorm_1 = layers.LayerNormalization()\n",
    "        self.layernorm_2 = layers.LayerNormalization()\n",
    "        self.layernorm_3 = layers.LayerNormalization()\n",
    "        self.supports_masking = True\n",
    "\n",
    "    def get_config(self):\n",
    "        config = super().get_config()\n",
    "        config.update({\n",
    "            \"embed_dim\": self.embed_dim,\n",
    "            \"num_heads\": self.num_heads,\n",
    "            \"dense_dim\": self.dense_dim,\n",
    "        })\n",
    "        return config\n",
    "\n",
    "    def get_causal_attention_mask(self, inputs):\n",
    "        input_shape = tf.shape(inputs)\n",
    "        batch_size, sequence_length = input_shape[0], input_shape[1]\n",
    "        i = tf.range(sequence_length)[:, tf.newaxis]\n",
    "        j = tf.range(sequence_length)\n",
    "        mask = tf.cast(i >= j, dtype=\"int32\")\n",
    "        mask = tf.reshape(mask, (1, input_shape[1], input_shape[1]))\n",
    "        mult = tf.concat(\n",
    "            [tf.expand_dims(batch_size, -1),\n",
    "             tf.constant([1, 1], dtype=tf.int32)], axis=0)\n",
    "        return tf.tile(mask, mult)\n",
    "\n",
    "    def call(self, inputs, encoder_outputs, mask=None):\n",
    "        causal_mask = self.get_causal_attention_mask(inputs)\n",
    "        if mask is not None:\n",
    "            padding_mask = tf.cast(\n",
    "                mask[:, tf.newaxis, :], dtype=\"int32\")\n",
    "            padding_mask = tf.minimum(padding_mask, causal_mask)\n",
    "        attention_output_1 = self.attention_1(\n",
    "            query=inputs,\n",
    "            value=inputs,\n",
    "            key=inputs,\n",
    "            attention_mask=causal_mask)\n",
    "        attention_output_1 = self.layernorm_1(inputs + attention_output_1)\n",
    "        attention_output_2 = self.attention_2(\n",
    "            query=attention_output_1,\n",
    "            value=encoder_outputs,\n",
    "            key=encoder_outputs,\n",
    "            attention_mask=padding_mask,\n",
    "        )\n",
    "        attention_output_2 = self.layernorm_2(\n",
    "            attention_output_1 + attention_output_2)\n",
    "        proj_output = self.dense_proj(attention_output_2)\n",
    "        return self.layernorm_3(attention_output_2 + proj_output)\n",
    "    "
   ]
  },
  {
   "cell_type": "markdown",
   "metadata": {},
   "source": [
    "### Transformer architecture "
   ]
  },
  {
   "cell_type": "code",
   "execution_count": 122,
   "metadata": {},
   "outputs": [
    {
     "name": "stdout",
     "output_type": "stream",
     "text": [
      "Num GPUs: 1\n",
      "Num CPUs: 1\n",
      "[name: \"/device:CPU:0\"\n",
      "device_type: \"CPU\"\n",
      "memory_limit: 268435456\n",
      "locality {\n",
      "}\n",
      "incarnation: 13794496341971386998\n",
      "xla_global_id: -1\n",
      ", name: \"/device:GPU:0\"\n",
      "device_type: \"GPU\"\n",
      "memory_limit: 23432331264\n",
      "locality {\n",
      "  bus_id: 2\n",
      "  numa_node: 1\n",
      "  links {\n",
      "  }\n",
      "}\n",
      "incarnation: 10118390541742837280\n",
      "physical_device_desc: \"device: 0, name: NVIDIA RTX A5000, pci bus id: 0000:86:00.0, compute capability: 8.6\"\n",
      "xla_global_id: 416903419\n",
      "]\n"
     ]
    },
    {
     "name": "stderr",
     "output_type": "stream",
     "text": [
      "2022-12-29 20:26:03.880426: I tensorflow/core/common_runtime/gpu/gpu_device.cc:1525] Created device /device:GPU:0 with 22346 MB memory:  -> device: 0, name: NVIDIA RTX A5000, pci bus id: 0000:86:00.0, compute capability: 8.6\n"
     ]
    }
   ],
   "source": [
    "# DEVICES\n",
    "\n",
    "physical_devices_GPU = tf.config.list_physical_devices('GPU') \n",
    "print(\"Num GPUs:\", len(physical_devices_GPU))\n",
    "\n",
    "physical_devices_CPU = tf.config.list_physical_devices('CPU') \n",
    "print(\"Num CPUs:\", len(physical_devices_CPU)) \n",
    "\n",
    "local_device_protos = device_lib.list_local_devices()\n",
    "print(local_device_protos)"
   ]
  },
  {
   "cell_type": "code",
   "execution_count": 123,
   "metadata": {},
   "outputs": [
    {
     "name": "stdout",
     "output_type": "stream",
     "text": [
      "Model: \"model\"\n",
      "__________________________________________________________________________________________________\n",
      " Layer (type)                   Output Shape         Param #     Connected to                     \n",
      "==================================================================================================\n",
      " train1 (InputLayer)            [(None, None)]       0           []                               \n",
      "                                                                                                  \n",
      " train2 (InputLayer)            [(None, None)]       0           []                               \n",
      "                                                                                                  \n",
      " EncoderEmbedding (PosEmbedding  (None, 99, 32)      4160        ['train1[0][0]']                 \n",
      " )                                                                                                \n",
      "                                                                                                  \n",
      " DecoderEmbedding (PosEmbedding  (None, 99, 32)      4160        ['train2[0][0]']                 \n",
      " )                                                                                                \n",
      "                                                                                                  \n",
      " Encoder (TransformerEncoder)   (None, 99, 32)       21120       ['EncoderEmbedding[0][0]']       \n",
      "                                                                                                  \n",
      " Decoder (TransformerDecoder)   (None, 99, 32)       37984       ['DecoderEmbedding[0][0]',       \n",
      "                                                                  'Encoder[0][0]']                \n",
      "                                                                                                  \n",
      " Dropout (Dropout)              (None, 99, 32)       0           ['Decoder[0][0]']                \n",
      "                                                                                                  \n",
      " Softmax (Dense)                (None, 99, 7)        231         ['Dropout[0][0]']                \n",
      "                                                                                                  \n",
      "==================================================================================================\n",
      "Total params: 67,655\n",
      "Trainable params: 67,655\n",
      "Non-trainable params: 0\n",
      "__________________________________________________________________________________________________\n"
     ]
    }
   ],
   "source": [
    "# Text-to-text transformer using dataset pipeline\n",
    "keras.backend.clear_session()\n",
    "\n",
    "if \"transformer\" in globals() or \"transformer\" in locals():\n",
    "    del transformer\n",
    "       \n",
    "pad_length = 3\n",
    "train_end_pad = [22,22,22]\n",
    "target_front_pad = [20]\n",
    "target_end_pad = [21,22]\n",
    "sequence_as_type = split_prot_sequence_as_type[1:-1]\n",
    "\n",
    "# sequence length is the number or Ramachandran tuples as phi-psi angles\n",
    "sequence_length = trj_phipsi.shape[1]\n",
    "padded_sequence_length = sequence_length + pad_length\n",
    "\n",
    "embed_dim = 32\n",
    "pad_num = 6\n",
    "classes = pad_num + 1\n",
    "vocab_size = 7\n",
    "num_heads = 4\n",
    "dense_dim = 64\n",
    "aa_types = 24\n",
    "\n",
    "# Unflag the following two lines if using multiple GPU's and indent the network definition \n",
    "# strategy = tf.distribute.MirroredStrategy()\n",
    "# with strategy.scope():\n",
    "\n",
    "# ######################### Network definition start ######################\n",
    "\n",
    "encoder_inputs = keras.Input(shape=(None,), dtype=\"int32\", name='train1')\n",
    "x = PosEmbedding(padded_sequence_length, vocab_size, embed_dim, pad_num, \n",
    "                  sequence_as_type, aa_types, \n",
    "                  train_end_pad, target_front_pad, target_end_pad, \n",
    "                  train=True, embed_types=True, pad_types=True,\n",
    "                  name='EncoderEmbedding')(encoder_inputs)\n",
    "encoder_outputs = TransformerEncoder(embed_dim, dense_dim, \n",
    "                                     num_heads, name='Encoder')(x)                             \n",
    "\n",
    "decoder_inputs = keras.Input(shape=(None,), dtype=\"int32\", name='train2')                             \n",
    "\n",
    "x = PosEmbedding(padded_sequence_length, vocab_size, embed_dim, pad_num, \n",
    "                  sequence_as_type, aa_types, \n",
    "                  train_end_pad, target_front_pad, target_end_pad, \n",
    "                  train=False, embed_types=True, pad_types=True, \n",
    "                  name='DecoderEmbedding')(decoder_inputs) \n",
    "x = TransformerDecoder(embed_dim, dense_dim, \n",
    "                       num_heads, name='Decoder')(x, encoder_outputs)\n",
    "x = Dropout(0.5, name='Dropout')(x)\n",
    "decoder_outputs = Dense(classes, activation=\"softmax\", name='Softmax')(x)\n",
    "\n",
    "transformer = keras.Model([encoder_inputs,decoder_inputs], decoder_outputs)\n",
    "transformer.compile(optimizer=\"rmsprop\", \n",
    "                    loss=\"sparse_categorical_crossentropy\", \n",
    "                    metrics=[\"accuracy\"])\n",
    "\n",
    "# ######################### Network definition end ####################### \n",
    "    \n",
    "transformer.summary()"
   ]
  },
  {
   "cell_type": "code",
   "execution_count": 128,
   "metadata": {},
   "outputs": [
    {
     "name": "stdout",
     "output_type": "stream",
     "text": [
      "Requirement already satisfied: pydot in /home/jmwang/anaconda3/lib/python3.7/site-packages (1.4.2)\n",
      "Requirement already satisfied: graphviz in /home/jmwang/anaconda3/lib/python3.7/site-packages (0.20.1)\n",
      "Requirement already satisfied: pyparsing>=2.1.4 in /home/jmwang/anaconda3/lib/python3.7/site-packages (from pydot) (3.0.4)\n",
      "You must install pydot (`pip install pydot`) and install graphviz (see instructions at https://graphviz.gitlab.io/download/) for plot_model/model_to_dot to work.\n"
     ]
    }
   ],
   "source": [
    "!pip install pydot graphviz \n",
    "plot_model(transformer, show_shapes=True,\\\n",
    "           show_layer_names=True,\\\n",
    "           to_file='Transformer_v8.1_architecture.png') "
   ]
  },
  {
   "cell_type": "markdown",
   "metadata": {},
   "source": [
    "### Training loop.\n",
    "\n",
    "Here we iterate for 1 epochs trought all the trajectories in the ensemble starting from trajectory index=2, further refining the transformer model. This is what we consider a 'sub-epoch'. In each sub-epoch the training set is the current trajectory from the loop, while the validation set is always the trajectory with index=0. The number of batches served in each sub-epoch is determined by the number chosen for the execution of the dataset_from_basin_trj function. \n",
    "\n",
    "The number of true 'epochs' is the number of times we iterate over the entire ensemble. Currently, this loop saves memory, but unfortunately recalculates the rama angles in each epoch. It does not seem to slow down the fit, but in future we may put everything in memory from the start.\n",
    "\n",
    "If the number of batches in 'dataset_from_basin_trj' is set to 'All', then the entire trajectory is served as a single batch, and the number of 'epochs' corresponds to the traditional definition of 'epoch' for the entire ensemble of trajectories."
   ]
  },
  {
   "cell_type": "code",
   "execution_count": null,
   "metadata": {
    "scrolled": true
   },
   "outputs": [],
   "source": [
    "# We fit for 10 epochs of 120 subepochs. Each subepoch is a trajectory \n",
    "# served as batches of 'batch_size' frames\n",
    "\n",
    "train_acc = []\n",
    "val_acc = []\n",
    "\n",
    "train_loss = []\n",
    "val_loss = []\n",
    "\n",
    "sub_epoch = 1\n",
    "epochs = 10\n",
    "\n",
    "trj_ind_list = list(range(0,n_trj))\n",
    "print(n_trj)\n",
    "\n",
    "for epoch in range(epochs):\n",
    "    \n",
    "    # In every epoch we reshuffle the trajectories\n",
    "    trj_ind_list_shuffled = random.sample(trj_ind_list,len(trj_ind_list))\n",
    "    print(f'Shuffled list of trajectories:')\n",
    "    print(trj_ind_list_shuffled,'\\n')\n",
    "    \n",
    "    for i in range(len(trj_ind_list_shuffled)):\n",
    "    # for i,trajectory in enumerate(adk_trans.trajectories[2:]):\n",
    "        trj_ind = trj_ind_list_shuffled[i]\n",
    "        # the universe is updated with the next trajectory from the ensemble\n",
    "        u = mda.Universe(ppi_topology, ppi_trajectories[trj_ind])\n",
    "        n_frames = len(u.trajectory)\n",
    "    #     print(f'There are {n_frames} frames in the trajectory')\n",
    "        protein = u.select_atoms('protein')\n",
    "        rama = dihedrals.Ramachandran(protein).run()\n",
    "        trj_phipsi = rama.results.angles\n",
    "        _,basins,_ = phipsi_to_basin(trj_phipsi,phi_shift=-120.,\n",
    "                                     cluster=False,\n",
    "                                     n_clusters=4,\n",
    "                                     plot=False)\n",
    " \n",
    "        _,_,_,dataset = dataset_from_basin_trj(basins,\n",
    "                                               reduce=True,\n",
    "                                               reduce_cycles=0,\n",
    "                                               skip_frames=6,\n",
    "                                               batch_size='All',\n",
    "                                               n_cpu=2,\n",
    "                                               n_fetch=1)      \n",
    "\n",
    "    # Here we train the network by fitting predictions to targets for 100 epochs,\n",
    "    # and we plot the loss over the epochs\n",
    "        print(f'Epoch {epoch+1} Trajectory {i+1} [Ensemble Trajectory {trj_ind}]')\n",
    "        history_transformer = transformer.fit(dataset,\n",
    "                                              validation_data=val_dataset,\n",
    "                                              epochs=sub_epoch)\n",
    "\n",
    "        train_acc.append(history_transformer.history[\"accuracy\"])\n",
    "        val_acc.append(history_transformer.history[\"val_accuracy\"])\n",
    "        train_loss.append(history_transformer.history[\"loss\"])\n",
    "        val_loss.append(history_transformer.history[\"val_loss\"])        "
   ]
  },
  {
   "cell_type": "code",
   "execution_count": 41,
   "metadata": {},
   "outputs": [
    {
     "data": {
      "image/png": "[encoded data removed]",
      "text/plain": [
       "<Figure size 576x432 with 1 Axes>"
      ]
     },
     "metadata": {
      "needs_background": "light"
     },
     "output_type": "display_data"
    },
    {
     "data": {
      "image/png": "[encoded data removed]",
      "text/plain": [
       "<Figure size 576x432 with 1 Axes>"
      ]
     },
     "metadata": {
      "needs_background": "light"
     },
     "output_type": "display_data"
    }
   ],
   "source": [
    "# Here we print the loss and accuracy\n",
    "epochs = range(1, len(train_acc) + 1)\n",
    "plt.figure(figsize=(8, 6))\n",
    "plt.plot(epochs, train_acc, \"b.\", markersize=2, label=\"Training accuracy\")\n",
    "plt.plot(epochs, val_acc, \"r.\", markersize=2, label=\"Validation accuracy\")\n",
    "# plt.title(\"Training and validation accuracy\",fontsize=16)\n",
    "plt.xlabel('Epoch',fontsize=16)\n",
    "plt.xticks(fontsize=14)\n",
    "plt.yticks(fontsize=14)\n",
    "plt.grid()\n",
    "plt.legend(fontsize=16)\n",
    "plt.show()\n",
    "\n",
    "plt.figure(figsize=(8, 6))\n",
    "plt.plot(epochs, train_loss, \"b.\", markersize=2, label=\"Training loss\")\n",
    "plt.plot(epochs, val_loss, \"r.\", markersize=2, label=\"Validation loss\")\n",
    "# plt.title(\"Training and validation loss\",fontsize=16)\n",
    "plt.xlabel('Epoch',fontsize=16)\n",
    "plt.xticks(fontsize=14)\n",
    "plt.yticks(fontsize=14)\n",
    "plt.grid()\n",
    "plt.legend(fontsize=16)\n",
    "plt.show()"
   ]
  },
  {
   "cell_type": "markdown",
   "metadata": {},
   "source": [
    "### Accuracy with the validation set"
   ]
  },
  {
   "cell_type": "code",
   "execution_count": 42,
   "metadata": {},
   "outputs": [
    {
     "name": "stdout",
     "output_type": "stream",
     "text": [
      "1/1 [==============================] - 0s 23ms/step - loss: 0.0356 - accuracy: 0.9894\n",
      "Validation acc: 0.989\n"
     ]
    }
   ],
   "source": [
    "print(f\"Validation acc: {transformer.evaluate(val_dataset)[1]:.3f}\")"
   ]
  },
  {
   "cell_type": "markdown",
   "metadata": {},
   "source": [
    "### Saving the model"
   ]
  },
  {
   "cell_type": "markdown",
   "metadata": {},
   "source": [
    "#### Saving only the weights"
   ]
  },
  {
   "cell_type": "code",
   "execution_count": 43,
   "metadata": {},
   "outputs": [],
   "source": [
    "transformer.save_weights('Transformer_v8.2_weights.h5', overwrite=True, save_format='h5', options=None)"
   ]
  },
  {
   "cell_type": "markdown",
   "metadata": {},
   "source": [
    "#### Saving the entire model"
   ]
  },
  {
   "cell_type": "code",
   "execution_count": 44,
   "metadata": {},
   "outputs": [],
   "source": [
    "# H5 FORMAT\n",
    "transformer.save('Transformer_v8.2_model.h5',\n",
    "        overwrite=True,include_optimizer=False,save_format='h5',signatures=None,options=None)\n",
    "# tf FORMAT (do not use, Keras still has problems with it)\n",
    "# transformer.save('Transformer_v8.0_model.tf',\n",
    "#         overwrite=True,include_optimizer=False,save_format='tf',signatures=None,options=None)"
   ]
  },
  {
   "cell_type": "markdown",
   "metadata": {},
   "source": [
    "#### Loading the saved model"
   ]
  },
  {
   "cell_type": "markdown",
   "metadata": {},
   "source": [
    "#### Entire model (use only h5 serialization, and then recompile!)"
   ]
  },
  {
   "cell_type": "code",
   "execution_count": 47,
   "metadata": {},
   "outputs": [],
   "source": [
    "# transformer = keras.models.load_model(\n",
    "#     \"Transformer_v8.0_model.h5\",\n",
    "#     custom_objects={\"TransformerEncoder\": TransformerEncoder,\n",
    "#                     \"TransformerDecoder\": TransformerDecoder,\n",
    "#                     \"PosEmbedding\": PosEmbedding}) \n",
    "\n",
    "# transformer.compile(optimizer=\"adam\", \n",
    "#                     loss=\"sparse_categorical_crossentropy\", \n",
    "#                     metrics=[\"accuracy\"])\n",
    "# transformer.summary()"
   ]
  },
  {
   "cell_type": "markdown",
   "metadata": {},
   "source": [
    "#### Only the weights (best loading method after recompiling the model)"
   ]
  },
  {
   "cell_type": "code",
   "execution_count": 48,
   "metadata": {},
   "outputs": [],
   "source": [
    "# transformer.load_weights('Transformer_v8.0_weights.h5')"
   ]
  },
  {
   "cell_type": "markdown",
   "metadata": {},
   "source": [
    "#### Check that prediction accuracy with the validation set has not changed using the saved model"
   ]
  },
  {
   "cell_type": "code",
   "execution_count": 49,
   "metadata": {
    "scrolled": true
   },
   "outputs": [],
   "source": [
    "# print(f\"Validation acc: {transformer.evaluate(val_dataset)[1]:.3f}\")"
   ]
  },
  {
   "cell_type": "markdown",
   "metadata": {},
   "source": [
    "#### Preparing a generic basin frame for prediction"
   ]
  },
  {
   "cell_type": "code",
   "execution_count": 50,
   "metadata": {},
   "outputs": [],
   "source": [
    "# # The following shows how the input is being modified during prediction by adding\n",
    "# # a new frame with only a 'start of sequence' = 4, and the rest as padding\n",
    "# input_frames = np.expand_dims(inputs_trj_basins_padded_1[-1:],axis=0)\n",
    "# print(input_frames.shape,type(input_frames),input_frames.dtype)\n",
    "\n",
    "# input1 = input_frames[0][0][:-3]\n",
    "# input1 = ' '.join(map(str,input1))\n",
    "# print(f'Input {input_frames.shape}:\\n\\n{input1}\\n\\n')\n",
    "\n",
    "# decoded_sentence = (np.ones((215,))*6).astype('int32')\n",
    "# decoded_sentence[0] = 4\n",
    "# decoded_sentence = np.expand_dims(decoded_sentence,axis=(0,1))\n",
    "# print(decoded_sentence.shape)\n",
    "# input_sentence = np.concatenate((input_frames,decoded_sentence),axis=1)\n",
    "\n",
    "# print(input_sentence.shape,type(input_sentence),input_sentence.dtype)\n",
    "\n",
    "# input1_2 = input_sentence[0][0][:]\n",
    "# input2_2 = input_sentence[0][1][:]\n",
    "\n",
    "# input1_2 = ' '.join(map(str,input1_2))\n",
    "# input2_2 = ' '.join(map(str,input2_2))\n",
    "# print(f'Input {input_sentence.shape}:\\n\\n{input1_2}\\n\\n{input2_2}\\n\\n')"
   ]
  },
  {
   "cell_type": "code",
   "execution_count": 45,
   "metadata": {},
   "outputs": [],
   "source": [
    "# Function to recursively predict the next position in the frame sequence from\n",
    "# the previous ones already calculated\n",
    "\n",
    "def predict_frame(input_sequence,model,mdsl,pad,startpad,endpad):\n",
    "    decoded_sequence = (np.ones((mdsl,))*pad).astype('int32')\n",
    "    decoded_sequence[0] = startpad\n",
    "    decoded_sequence = np.expand_dims(decoded_sequence,axis=0)    \n",
    "    end = np.array([endpad]).astype('int32')\n",
    "    for i in range(mdsl):\n",
    "        input_sequence_2 = [input_sequence,decoded_sequence] \n",
    "        prediction = model(input_sequence_2)\n",
    "        sampled_token = np.argmax(prediction[0, i, :])\n",
    "        if i+1 > mdsl:\n",
    "            break\n",
    "        decoded_sequence[:,i+1] = sampled_token\n",
    "        if sampled_token == end:\n",
    "            break            \n",
    "     \n",
    "    return decoded_sequence"
   ]
  },
  {
   "cell_type": "markdown",
   "metadata": {},
   "source": [
    "### Hand calculation of predictions with the validation set"
   ]
  },
  {
   "cell_type": "code",
   "execution_count": 52,
   "metadata": {
    "scrolled": false
   },
   "outputs": [],
   "source": [
    "# # Validation set predictions\n",
    "\n",
    "# n_frames = len(val_inputs1)\n",
    "# predicted_frames_list = []\n",
    "# diff_pred_target_pos_list = []\n",
    "# diff_pred_target_list = []\n",
    "# diff_pred_target_cum = 0.\n",
    "# diff_pred_input = 0.\n",
    "\n",
    "# start_frame = 0\n",
    "# end_frame = n_frames\n",
    "# n_cycle = 0\n",
    "\n",
    "# mdsl = 215 # max_decoded_sequence_length\n",
    "# pad = 6\n",
    "# startpad = 4\n",
    "# endpad = 5\n",
    "\n",
    "# for cycle,cycle_input in enumerate(zip(val_inputs1[start_frame:end_frame],val_targets[start_frame:end_frame])):\n",
    "#     n_cycle += 1\n",
    "    \n",
    "#     # Input frame\n",
    "#     input_frame = cycle_input[0]\n",
    "    \n",
    "#     # We remove all paddings from the target\n",
    "#     target = cycle_input[1][:-3] \n",
    "\n",
    "#     # We expand the dimensions so that the input frame appears to the network as a batch\n",
    "#     predicted_frame = predict_frame(np.expand_dims(input_frame,axis=0),transformer,mdsl,pad,startpad,endpad)\n",
    "#     predicted_frame = np.squeeze(predicted_frame)\n",
    "    \n",
    "#     # We remove all paddings from the prediction\n",
    "#     predicted_frame = predicted_frame[1:-2].astype('int32')\n",
    "#     predicted_frames_list.append([predicted_frame])\n",
    "    \n",
    "#     # Difference between the previous and current prediction\n",
    "#     if cycle == 0:\n",
    "#         previous_predicted_frame = np.copy(predicted_frame)\n",
    "#     diff_previous_current_pred_ind = previous_predicted_frame!=predicted_frame\n",
    "#     diff_previous_current_pred = sum(diff_previous_current_pred_ind)    \n",
    "#     print(f'Frame {cycle}')\n",
    "#     print(f'Current prediction vs previous      (number of positions): {diff_previous_current_pred}')\n",
    "\n",
    "#     # Difference between the current prediction and the target    \n",
    "#     diff_pred_target_ind = target!=predicted_frame    \n",
    "#     diff_pred_target_pos = np.where(diff_pred_target_ind[0])[0]\n",
    "#     diff_pred_target_pos_list.append([diff_pred_target_pos])\n",
    "#     diff_pred_target = sum(diff_pred_target_ind)\n",
    "#     diff_pred_target_list.append(diff_pred_target)\n",
    "#     diff_pred_target_cum += diff_pred_target\n",
    "    \n",
    "#     # print(f'Frame {cycle}')\n",
    "#     print(f'Current prediction vs target        (number of positions): {diff_pred_target}')\n",
    "#     # print(f'Cumulative predictions vs targets (fraction of positions): {diff_pred_target_cum:.4f}')\n",
    "\n",
    "# print(f'\\nNumber of frames in the validation set:     {n_cycle}')\n",
    "# print(f'Number of sequence positions in each frame: {sequence_length}')\n",
    "# print(f'Transformer Validation Accuracy:            {1.0-(diff_pred_target_cum/(sequence_length*n_cycle)):.4f}')    "
   ]
  },
  {
   "cell_type": "markdown",
   "metadata": {},
   "source": [
    "### Trajectory extension\n",
    "\n",
    "Rapid convergence on a sequence that remains unchanged in the following extension cycles is avoided by introducing entropy in the prediction. In this case, instead of taking the peak of the probability distribution for the next predicted basin symbol, we accept a lower than maximum value. The higher the temperature we select in the 'sample_next' function, the higher the entropy of the prediction, so that lower than maximum values of the probability distribution of the 4 symbols are taken. "
   ]
  },
  {
   "cell_type": "code",
   "execution_count": 46,
   "metadata": {},
   "outputs": [],
   "source": [
    "def sample_next(predictions, temperature=1.0):\n",
    "    predictions = np.asarray(predictions).astype(\"float64\")\n",
    "    predictions = np.log(predictions) / temperature\n",
    "    exp_preds = np.exp(predictions)\n",
    "    predictions = exp_preds / np.sum(exp_preds)\n",
    "    probas = np.random.multinomial(1, predictions, 1)\n",
    "    return probas\n",
    "\n",
    "def predict_frame_with_entropy(input_sequence,\n",
    "                               model,mdsl,\n",
    "                               pad,startpad,\n",
    "                               endpad,\n",
    "                               temperature):\n",
    "    \n",
    "    # global variables declared for debugging purpose\n",
    "    # global decoded_sequence, sampled_token\n",
    "    \n",
    "    decoded_sequence = (np.ones((mdsl,))*pad).astype('int32')\n",
    "    decoded_sequence[0] = startpad\n",
    "    decoded_sequence = np.expand_dims(decoded_sequence,axis=0)    \n",
    "    end = np.array([endpad]).astype('int32')\n",
    "    for i in range(mdsl):\n",
    "        input_sequence_2 = [input_sequence,decoded_sequence] \n",
    "        prediction = model(input_sequence_2)\n",
    "        next_token = sample_next(prediction[0, i, :],temperature)\n",
    "        sampled_token = np.argmax(next_token)\n",
    "        # if i+1 > mdsl:\n",
    "        if i+1 == mdsl:\n",
    "            break        \n",
    "        decoded_sequence[:,i+1] = sampled_token\n",
    "        if sampled_token == end:\n",
    "            break            \n",
    "\n",
    "    return decoded_sequence    "
   ]
  },
  {
   "cell_type": "markdown",
   "metadata": {},
   "source": [
    "#### Trajectory extension from an initial  frame of basins: example 1\n",
    "\n",
    "We choose a frame from the validation trajectory of basins. "
   ]
  },
  {
   "cell_type": "code",
   "execution_count": 47,
   "metadata": {},
   "outputs": [
    {
     "name": "stdout",
     "output_type": "stream",
     "text": [
      "(99,)\n",
      "0 0 0 0 0 0 1 1 1 1 1 1 1 1 1 1 0 0 0 0 1 0 0 0 1 1 1 1 1 1 1 1 1 1 1 1 1 1 1 2 1 0 0 1 1 0 1 1 0 0 0 1 1 1 0 1 1 1 1 1 1 2 0 1 0 0 0 1 1 1 1 1 1 1 1 1 1 1 1 1 1 0 0 1 0 0 1 1 1 1 1 1 1 0 0 1 6 6 6\n",
      "0 0 0 0 0 0 1 1 1 1 1 1 1 1 1 1 0 0 0 0 1 0 0 0 1 1 1 1 1 1 1 1 1 1 1 1 1 1 1 2 1 0 0 1 1 0 1 1 0 0 0 1 1 1 0 1 1 1 1 1 1 2 0 1 0 0 0 1 1 1 1 1 1 1 1 1 1 1 1 1 1 0 0 1 0 0 1 1 1 1 1 1 1 0 0 1\n"
     ]
    }
   ],
   "source": [
    "# Choose a frame from the validation trajectory of basins. This vector of basins \n",
    "# is used to extend the trajectory of basins. \n",
    "\n",
    "input_basin_frame_number = 96\n",
    "\n",
    "input_frame = np.concatenate((val_basins[input_basin_frame_number],[6,6,6]),axis=0)\n",
    "print(input_frame.shape)\n",
    "print(*input_frame)\n",
    "print(*input_frame[:-3])"
   ]
  },
  {
   "cell_type": "code",
   "execution_count": 48,
   "metadata": {
    "scrolled": true
   },
   "outputs": [
    {
     "name": "stdout",
     "output_type": "stream",
     "text": [
      "Input frame 1 (96,):\n",
      "0 0 0 0 0 0 1 1 1 1 1 1 1 1 1 1 0 0 0 0 1 0 0 0 1 1 1 1 1 1 1 1 1 1 1 1 1 1 1 2 1 0 0 1 1 0 1 1 0 0 0 1 1 1 0 1 1 1 1 1 1 2 0 1 0 0 0 1 1 1 1 1 1 1 1 1 1 1 1 1 1 0 0 1 0 0 1 1 1 1 1 1 1 0 0 1\n",
      "Predicted frame (96,):\n",
      "0 0 0 0 0 0 1 1 1 1 1 1 1 1 1 1 0 0 0 0 1 0 0 0 1 1 1 1 1 1 1 1 1 1 1 1 1 1 1 2 1 0 0 1 1 0 1 1 0 0 0 1 1 1 0 1 1 1 1 1 1 2 0 1 0 0 0 1 1 1 1 1 1 1 1 1 1 1 1 1 1 0 0 0 0 0 1 1 1 1 1 1 1 0 0 1\n",
      "Predicted frame marked for differences at positions:  [83]\n",
      "0 0 0 0 0 0 1 1 1 1 1 1 1 1 1 1 0 0 0 0 1 0 0 0 1 1 1 1 1 1 1 1 1 1 1 1 1 1 1 2 1 0 0 1 1 0 1 1 0 0 0 1 1 1 0 1 1 1 1 1 1 2 0 1 0 0 0 1 1 1 1 1 1 1 1 1 1 1 1 1 1 0 0 8 0 0 1 1 1 1 1 1 1 0 0 1 \n",
      "\n",
      "Input frame 2 (96,):\n",
      "0 0 0 0 0 0 1 1 1 1 1 1 1 1 1 1 0 0 0 0 1 0 0 0 1 1 1 1 1 1 1 1 1 1 1 1 1 1 1 2 1 0 0 1 1 0 1 1 0 0 0 1 1 1 0 1 1 1 1 1 1 2 0 1 0 0 0 1 1 1 1 1 1 1 1 1 1 1 1 1 1 0 0 0 0 0 1 1 1 1 1 1 1 0 0 1\n",
      "Predicted frame (96,):\n",
      "0 0 0 0 0 0 1 1 1 1 1 1 1 1 1 1 0 0 0 0 1 0 0 0 1 1 1 1 1 1 1 1 1 1 1 1 1 1 1 2 1 0 0 1 1 0 1 1 0 0 0 0 1 1 0 1 1 1 1 1 1 2 0 1 0 0 0 1 1 1 1 1 1 1 1 1 1 1 1 1 1 0 0 1 0 0 1 1 1 1 1 1 1 0 0 1\n",
      "Predicted frame marked for differences at positions:  [51, 83]\n",
      "0 0 0 0 0 0 1 1 1 1 1 1 1 1 1 1 0 0 0 0 1 0 0 0 1 1 1 1 1 1 1 1 1 1 1 1 1 1 1 2 1 0 0 1 1 0 1 1 0 0 0 8 1 1 0 1 1 1 1 1 1 2 0 1 0 0 0 1 1 1 1 1 1 1 1 1 1 1 1 1 1 0 0 8 0 0 1 1 1 1 1 1 1 0 0 1 \n",
      "\n",
      "Input frame 3 (96,):\n",
      "0 0 0 0 0 0 1 1 1 1 1 1 1 1 1 1 0 0 0 0 1 0 0 0 1 1 1 1 1 1 1 1 1 1 1 1 1 1 1 2 1 0 0 1 1 0 1 1 0 0 0 0 1 1 0 1 1 1 1 1 1 2 0 1 0 0 0 1 1 1 1 1 1 1 1 1 1 1 1 1 1 0 0 1 0 0 1 1 1 1 1 1 1 0 0 1\n",
      "Predicted frame (96,):\n",
      "0 0 0 0 0 0 1 1 1 1 1 1 1 1 1 1 0 0 0 0 1 0 0 0 1 1 1 1 1 1 1 1 1 1 1 1 1 1 1 2 1 0 0 1 1 1 1 1 0 0 0 1 1 1 0 1 1 1 1 1 1 2 0 1 0 0 0 1 1 0 1 1 1 1 1 1 1 1 1 1 1 0 0 1 0 0 1 1 1 1 1 1 1 0 0 1\n",
      "Predicted frame marked for differences at positions:  [45, 51, 69]\n",
      "0 0 0 0 0 0 1 1 1 1 1 1 1 1 1 1 0 0 0 0 1 0 0 0 1 1 1 1 1 1 1 1 1 1 1 1 1 1 1 2 1 0 0 1 1 8 1 1 0 0 0 8 1 1 0 1 1 1 1 1 1 2 0 1 0 0 0 1 1 8 1 1 1 1 1 1 1 1 1 1 1 0 0 1 0 0 1 1 1 1 1 1 1 0 0 1 \n",
      "\n",
      "Input frame 4 (96,):\n",
      "0 0 0 0 0 0 1 1 1 1 1 1 1 1 1 1 0 0 0 0 1 0 0 0 1 1 1 1 1 1 1 1 1 1 1 1 1 1 1 2 1 0 0 1 1 1 1 1 0 0 0 1 1 1 0 1 1 1 1 1 1 2 0 1 0 0 0 1 1 0 1 1 1 1 1 1 1 1 1 1 1 0 0 1 0 0 1 1 1 1 1 1 1 0 0 1\n",
      "Predicted frame (96,):\n",
      "0 0 0 0 0 0 1 1 1 1 1 1 1 1 1 1 0 0 0 0 1 0 0 0 1 1 1 1 1 1 1 1 1 1 1 1 1 1 1 2 1 0 0 1 1 1 1 1 0 0 1 1 1 1 0 1 1 1 1 1 1 2 0 1 0 0 0 1 1 0 1 1 1 1 1 1 1 1 1 1 1 0 0 1 0 0 1 1 1 1 1 1 1 0 0 1\n",
      "Predicted frame marked for differences at positions:  [50]\n",
      "0 0 0 0 0 0 1 1 1 1 1 1 1 1 1 1 0 0 0 0 1 0 0 0 1 1 1 1 1 1 1 1 1 1 1 1 1 1 1 2 1 0 0 1 1 1 1 1 0 0 8 1 1 1 0 1 1 1 1 1 1 2 0 1 0 0 0 1 1 0 1 1 1 1 1 1 1 1 1 1 1 0 0 1 0 0 1 1 1 1 1 1 1 0 0 1 \n",
      "\n",
      "Input frame 5 (96,):\n",
      "0 0 0 0 0 0 1 1 1 1 1 1 1 1 1 1 0 0 0 0 1 0 0 0 1 1 1 1 1 1 1 1 1 1 1 1 1 1 1 2 1 0 0 1 1 1 1 1 0 0 1 1 1 1 0 1 1 1 1 1 1 2 0 1 0 0 0 1 1 0 1 1 1 1 1 1 1 1 1 1 1 0 0 1 0 0 1 1 1 1 1 1 1 0 0 1\n",
      "Predicted frame (96,):\n",
      "0 0 0 0 0 0 1 1 1 1 1 1 1 1 1 1 3 0 0 0 1 0 0 0 1 1 1 1 1 1 1 1 1 1 1 1 1 1 1 2 1 0 0 1 1 0 1 1 0 0 1 1 1 1 0 1 1 1 1 1 1 2 0 1 0 0 0 1 1 0 1 1 1 1 1 1 1 1 1 1 1 0 0 1 3 0 1 1 1 1 1 1 1 0 0 1\n",
      "Predicted frame marked for differences at positions:  [16, 45, 84]\n",
      "0 0 0 0 0 0 1 1 1 1 1 1 1 1 1 1 8 0 0 0 1 0 0 0 1 1 1 1 1 1 1 1 1 1 1 1 1 1 1 2 1 0 0 1 1 8 1 1 0 0 1 1 1 1 0 1 1 1 1 1 1 2 0 1 0 0 0 1 1 0 1 1 1 1 1 1 1 1 1 1 1 0 0 1 8 0 1 1 1 1 1 1 1 0 0 1 \n",
      "\n",
      "Input frame 6 (96,):\n",
      "0 0 0 0 0 0 1 1 1 1 1 1 1 1 1 1 3 0 0 0 1 0 0 0 1 1 1 1 1 1 1 1 1 1 1 1 1 1 1 2 1 0 0 1 1 0 1 1 0 0 1 1 1 1 0 1 1 1 1 1 1 2 0 1 0 0 0 1 1 0 1 1 1 1 1 1 1 1 1 1 1 0 0 1 3 0 1 1 1 1 1 1 1 0 0 1\n",
      "Predicted frame (96,):\n",
      "0 0 0 0 0 0 1 1 1 1 1 1 1 1 1 1 0 0 0 0 1 0 0 0 1 1 1 1 1 1 1 1 1 1 1 1 1 1 1 2 1 0 0 1 1 1 1 1 0 0 0 1 1 1 0 1 1 1 1 1 1 2 0 1 3 0 0 1 1 1 1 1 1 1 1 1 1 1 1 1 1 0 0 1 3 0 1 1 1 1 1 1 1 0 0 1\n",
      "Predicted frame marked for differences at positions:  [16, 45, 50, 64, 69]\n",
      "0 0 0 0 0 0 1 1 1 1 1 1 1 1 1 1 8 0 0 0 1 0 0 0 1 1 1 1 1 1 1 1 1 1 1 1 1 1 1 2 1 0 0 1 1 8 1 1 0 0 8 1 1 1 0 1 1 1 1 1 1 2 0 1 8 0 0 1 1 8 1 1 1 1 1 1 1 1 1 1 1 0 0 1 3 0 1 1 1 1 1 1 1 0 0 1 \n",
      "\n",
      "Input frame 7 (96,):\n",
      "0 0 0 0 0 0 1 1 1 1 1 1 1 1 1 1 0 0 0 0 1 0 0 0 1 1 1 1 1 1 1 1 1 1 1 1 1 1 1 2 1 0 0 1 1 1 1 1 0 0 0 1 1 1 0 1 1 1 1 1 1 2 0 1 3 0 0 1 1 1 1 1 1 1 1 1 1 1 1 1 1 0 0 1 3 0 1 1 1 1 1 1 1 0 0 1\n",
      "Predicted frame (96,):\n",
      "0 0 0 0 0 0 1 1 1 1 1 1 1 1 1 1 3 0 1 0 1 0 0 0 1 1 1 1 1 1 1 1 1 1 1 1 1 1 1 2 1 0 0 1 1 1 1 1 0 0 0 1 1 1 0 1 1 1 1 1 1 2 0 1 0 0 0 1 1 1 1 1 1 1 1 1 1 1 1 1 1 0 0 0 3 0 1 1 1 1 1 1 1 0 0 1\n",
      "Predicted frame marked for differences at positions:  [16, 18, 64, 83]\n",
      "0 0 0 0 0 0 1 1 1 1 1 1 1 1 1 1 8 0 8 0 1 0 0 0 1 1 1 1 1 1 1 1 1 1 1 1 1 1 1 2 1 0 0 1 1 1 1 1 0 0 0 1 1 1 0 1 1 1 1 1 1 2 0 1 8 0 0 1 1 1 1 1 1 1 1 1 1 1 1 1 1 0 0 8 3 0 1 1 1 1 1 1 1 0 0 1 \n",
      "\n",
      "Input frame 8 (96,):\n",
      "0 0 0 0 0 0 1 1 1 1 1 1 1 1 1 1 3 0 1 0 1 0 0 0 1 1 1 1 1 1 1 1 1 1 1 1 1 1 1 2 1 0 0 1 1 1 1 1 0 0 0 1 1 1 0 1 1 1 1 1 1 2 0 1 0 0 0 1 1 1 1 1 1 1 1 1 1 1 1 1 1 0 0 0 3 0 1 1 1 1 1 1 1 0 0 1\n",
      "Predicted frame (96,):\n",
      "0 0 0 0 0 0 1 1 1 1 1 1 1 1 1 1 3 0 1 0 1 0 0 0 1 1 1 1 1 1 1 1 1 1 1 1 1 1 1 3 1 0 0 1 1 0 1 1 0 0 0 1 1 1 0 1 1 1 1 1 1 2 0 1 0 0 0 1 1 0 1 1 1 1 1 1 1 1 1 1 1 0 0 0 3 0 1 1 1 1 1 1 1 0 0 1\n",
      "Predicted frame marked for differences at positions:  [39, 45, 69]\n",
      "0 0 0 0 0 0 1 1 1 1 1 1 1 1 1 1 3 0 1 0 1 0 0 0 1 1 1 1 1 1 1 1 1 1 1 1 1 1 1 8 1 0 0 1 1 8 1 1 0 0 0 1 1 1 0 1 1 1 1 1 1 2 0 1 0 0 0 1 1 8 1 1 1 1 1 1 1 1 1 1 1 0 0 0 3 0 1 1 1 1 1 1 1 0 0 1 \n",
      "\n",
      "Input frame 9 (96,):\n",
      "0 0 0 0 0 0 1 1 1 1 1 1 1 1 1 1 3 0 1 0 1 0 0 0 1 1 1 1 1 1 1 1 1 1 1 1 1 1 1 3 1 0 0 1 1 0 1 1 0 0 0 1 1 1 0 1 1 1 1 1 1 2 0 1 0 0 0 1 1 0 1 1 1 1 1 1 1 1 1 1 1 0 0 0 3 0 1 1 1 1 1 1 1 0 0 1\n",
      "Predicted frame (96,):\n",
      "0 0 0 0 0 0 1 1 1 1 1 1 1 1 1 1 0 0 1 0 1 0 0 0 1 1 1 1 1 1 1 1 1 1 1 1 1 1 1 2 1 0 0 1 1 0 1 1 0 0 0 1 1 1 0 1 1 1 1 1 1 2 0 1 0 0 0 1 1 0 1 1 1 1 1 1 1 1 1 1 1 0 0 0 3 0 1 1 1 1 1 1 1 0 0 1\n",
      "Predicted frame marked for differences at positions:  [16, 39]\n",
      "0 0 0 0 0 0 1 1 1 1 1 1 1 1 1 1 8 0 1 0 1 0 0 0 1 1 1 1 1 1 1 1 1 1 1 1 1 1 1 8 1 0 0 1 1 0 1 1 0 0 0 1 1 1 0 1 1 1 1 1 1 2 0 1 0 0 0 1 1 0 1 1 1 1 1 1 1 1 1 1 1 0 0 0 3 0 1 1 1 1 1 1 1 0 0 1 \n",
      "\n",
      "Input frame 10 (96,):\n",
      "0 0 0 0 0 0 1 1 1 1 1 1 1 1 1 1 0 0 1 0 1 0 0 0 1 1 1 1 1 1 1 1 1 1 1 1 1 1 1 2 1 0 0 1 1 0 1 1 0 0 0 1 1 1 0 1 1 1 1 1 1 2 0 1 0 0 0 1 1 0 1 1 1 1 1 1 1 1 1 1 1 0 0 0 3 0 1 1 1 1 1 1 1 0 0 1\n",
      "Predicted frame (96,):\n",
      "0 0 0 0 0 0 1 1 1 1 1 1 1 1 1 1 0 0 1 0 1 0 0 0 1 1 1 1 1 1 1 1 1 1 1 1 1 1 1 2 1 0 0 1 1 1 1 1 0 0 0 1 1 1 0 1 1 1 1 1 1 2 0 1 0 0 0 1 1 1 1 1 1 1 1 1 1 1 1 1 1 0 0 1 3 0 1 1 1 1 1 1 1 0 0 1\n",
      "Predicted frame marked for differences at positions:  [45, 69, 83]\n",
      "0 0 0 0 0 0 1 1 1 1 1 1 1 1 1 1 0 0 1 0 1 0 0 0 1 1 1 1 1 1 1 1 1 1 1 1 1 1 1 2 1 0 0 1 1 8 1 1 0 0 0 1 1 1 0 1 1 1 1 1 1 2 0 1 0 0 0 1 1 8 1 1 1 1 1 1 1 1 1 1 1 0 0 8 3 0 1 1 1 1 1 1 1 0 0 1 \n",
      "\n",
      "Input frame 11 (96,):\n",
      "0 0 0 0 0 0 1 1 1 1 1 1 1 1 1 1 0 0 1 0 1 0 0 0 1 1 1 1 1 1 1 1 1 1 1 1 1 1 1 2 1 0 0 1 1 1 1 1 0 0 0 1 1 1 0 1 1 1 1 1 1 2 0 1 0 0 0 1 1 1 1 1 1 1 1 1 1 1 1 1 1 0 0 1 3 0 1 1 1 1 1 1 1 0 0 1\n",
      "Predicted frame (96,):\n",
      "0 0 0 0 0 0 1 1 1 1 1 1 1 1 1 1 3 0 1 0 1 0 0 0 1 1 1 1 1 1 1 1 1 1 1 1 1 1 1 2 1 0 0 1 1 1 1 1 0 0 0 1 1 1 0 1 1 1 1 1 1 2 0 1 0 0 0 1 1 0 1 1 1 1 1 1 1 1 1 1 1 0 0 1 3 0 1 1 1 1 1 1 1 0 0 1\n",
      "Predicted frame marked for differences at positions:  [16, 69]\n",
      "0 0 0 0 0 0 1 1 1 1 1 1 1 1 1 1 8 0 1 0 1 0 0 0 1 1 1 1 1 1 1 1 1 1 1 1 1 1 1 2 1 0 0 1 1 1 1 1 0 0 0 1 1 1 0 1 1 1 1 1 1 2 0 1 0 0 0 1 1 8 1 1 1 1 1 1 1 1 1 1 1 0 0 1 3 0 1 1 1 1 1 1 1 0 0 1 \n",
      "\n",
      "Input frame 12 (96,):\n",
      "0 0 0 0 0 0 1 1 1 1 1 1 1 1 1 1 3 0 1 0 1 0 0 0 1 1 1 1 1 1 1 1 1 1 1 1 1 1 1 2 1 0 0 1 1 1 1 1 0 0 0 1 1 1 0 1 1 1 1 1 1 2 0 1 0 0 0 1 1 0 1 1 1 1 1 1 1 1 1 1 1 0 0 1 3 0 1 1 1 1 1 1 1 0 0 1\n",
      "Predicted frame (96,):\n",
      "0 0 0 0 0 0 1 1 1 1 1 1 1 1 1 1 3 0 1 0 1 0 0 0 1 1 1 1 1 1 1 1 1 1 1 1 1 1 1 2 1 0 0 1 1 1 1 1 0 0 0 1 1 1 0 1 1 1 1 1 1 2 0 1 0 0 0 1 1 1 1 1 1 1 1 1 1 1 1 1 1 0 0 1 0 0 1 1 1 1 1 1 1 0 0 1\n",
      "Predicted frame marked for differences at positions:  [69, 84]\n",
      "0 0 0 0 0 0 1 1 1 1 1 1 1 1 1 1 3 0 1 0 1 0 0 0 1 1 1 1 1 1 1 1 1 1 1 1 1 1 1 2 1 0 0 1 1 1 1 1 0 0 0 1 1 1 0 1 1 1 1 1 1 2 0 1 0 0 0 1 1 8 1 1 1 1 1 1 1 1 1 1 1 0 0 1 8 0 1 1 1 1 1 1 1 0 0 1 \n",
      "\n"
     ]
    },
    {
     "name": "stdout",
     "output_type": "stream",
     "text": [
      "Input frame 13 (96,):\n",
      "0 0 0 0 0 0 1 1 1 1 1 1 1 1 1 1 3 0 1 0 1 0 0 0 1 1 1 1 1 1 1 1 1 1 1 1 1 1 1 2 1 0 0 1 1 1 1 1 0 0 0 1 1 1 0 1 1 1 1 1 1 2 0 1 0 0 0 1 1 1 1 1 1 1 1 1 1 1 1 1 1 0 0 1 0 0 1 1 1 1 1 1 1 0 0 1\n",
      "Predicted frame (96,):\n",
      "0 0 0 0 0 0 1 1 1 1 1 1 1 1 1 1 1 0 1 0 1 0 0 0 1 1 1 1 1 1 1 1 1 1 1 1 1 1 1 2 1 0 0 1 1 0 1 1 0 0 0 1 1 1 0 1 1 1 1 1 1 2 0 1 0 0 0 1 1 0 1 1 1 1 1 1 1 1 1 1 1 0 0 0 0 0 1 1 1 1 1 1 1 0 0 1\n",
      "Predicted frame marked for differences at positions:  [16, 45, 69, 83]\n",
      "0 0 0 0 0 0 1 1 1 1 1 1 1 1 1 1 8 0 1 0 1 0 0 0 1 1 1 1 1 1 1 1 1 1 1 1 1 1 1 2 1 0 0 1 1 8 1 1 0 0 0 1 1 1 0 1 1 1 1 1 1 2 0 1 0 0 0 1 1 8 1 1 1 1 1 1 1 1 1 1 1 0 0 8 0 0 1 1 1 1 1 1 1 0 0 1 \n",
      "\n",
      "Input frame 14 (96,):\n",
      "0 0 0 0 0 0 1 1 1 1 1 1 1 1 1 1 1 0 1 0 1 0 0 0 1 1 1 1 1 1 1 1 1 1 1 1 1 1 1 2 1 0 0 1 1 0 1 1 0 0 0 1 1 1 0 1 1 1 1 1 1 2 0 1 0 0 0 1 1 0 1 1 1 1 1 1 1 1 1 1 1 0 0 0 0 0 1 1 1 1 1 1 1 0 0 1\n",
      "Predicted frame (96,):\n",
      "0 0 0 0 0 0 1 1 1 1 1 1 1 1 1 1 2 0 1 0 1 0 0 0 1 1 1 1 1 1 1 1 1 1 1 1 1 1 1 2 1 0 0 1 1 0 1 1 0 0 0 1 1 1 0 1 1 1 1 1 1 2 0 1 0 0 0 1 1 0 1 1 1 1 1 1 1 1 1 1 1 0 0 1 1 0 1 1 1 1 1 1 1 0 0 1\n",
      "Predicted frame marked for differences at positions:  [16, 83, 84]\n",
      "0 0 0 0 0 0 1 1 1 1 1 1 1 1 1 1 8 0 1 0 1 0 0 0 1 1 1 1 1 1 1 1 1 1 1 1 1 1 1 2 1 0 0 1 1 0 1 1 0 0 0 1 1 1 0 1 1 1 1 1 1 2 0 1 0 0 0 1 1 0 1 1 1 1 1 1 1 1 1 1 1 0 0 8 8 0 1 1 1 1 1 1 1 0 0 1 \n",
      "\n",
      "Input frame 15 (96,):\n",
      "0 0 0 0 0 0 1 1 1 1 1 1 1 1 1 1 2 0 1 0 1 0 0 0 1 1 1 1 1 1 1 1 1 1 1 1 1 1 1 2 1 0 0 1 1 0 1 1 0 0 0 1 1 1 0 1 1 1 1 1 1 2 0 1 0 0 0 1 1 0 1 1 1 1 1 1 1 1 1 1 1 0 0 1 1 0 1 1 1 1 1 1 1 0 0 1\n",
      "Predicted frame (96,):\n",
      "0 0 0 0 0 0 1 1 1 1 1 1 1 1 1 1 2 0 1 0 1 0 0 0 1 1 1 1 1 1 1 1 1 1 1 1 1 1 1 2 1 0 0 1 1 1 1 1 0 0 0 1 1 1 0 1 1 1 1 1 1 2 0 1 0 0 0 1 1 0 1 1 1 1 1 1 1 1 1 1 1 0 0 0 1 0 1 1 1 1 1 1 1 0 0 1\n",
      "Predicted frame marked for differences at positions:  [45, 83]\n",
      "0 0 0 0 0 0 1 1 1 1 1 1 1 1 1 1 2 0 1 0 1 0 0 0 1 1 1 1 1 1 1 1 1 1 1 1 1 1 1 2 1 0 0 1 1 8 1 1 0 0 0 1 1 1 0 1 1 1 1 1 1 2 0 1 0 0 0 1 1 0 1 1 1 1 1 1 1 1 1 1 1 0 0 8 1 0 1 1 1 1 1 1 1 0 0 1 \n",
      "\n",
      "Input frame 16 (96,):\n",
      "0 0 0 0 0 0 1 1 1 1 1 1 1 1 1 1 2 0 1 0 1 0 0 0 1 1 1 1 1 1 1 1 1 1 1 1 1 1 1 2 1 0 0 1 1 1 1 1 0 0 0 1 1 1 0 1 1 1 1 1 1 2 0 1 0 0 0 1 1 0 1 1 1 1 1 1 1 1 1 1 1 0 0 0 1 0 1 1 1 1 1 1 1 0 0 1\n",
      "Predicted frame (96,):\n",
      "0 0 0 0 0 0 1 1 1 1 1 1 1 1 1 1 2 0 1 0 1 0 0 0 1 1 1 1 1 1 1 1 1 1 1 1 1 1 1 2 1 0 0 1 1 1 1 1 0 0 0 1 1 1 0 1 1 1 1 1 1 2 0 1 0 0 0 1 1 1 1 1 1 1 1 1 1 1 1 1 1 0 0 1 1 0 1 1 1 1 1 1 1 0 0 1\n",
      "Predicted frame marked for differences at positions:  [69, 83]\n",
      "0 0 0 0 0 0 1 1 1 1 1 1 1 1 1 1 2 0 1 0 1 0 0 0 1 1 1 1 1 1 1 1 1 1 1 1 1 1 1 2 1 0 0 1 1 1 1 1 0 0 0 1 1 1 0 1 1 1 1 1 1 2 0 1 0 0 0 1 1 8 1 1 1 1 1 1 1 1 1 1 1 0 0 8 1 0 1 1 1 1 1 1 1 0 0 1 \n",
      "\n",
      "Input frame 17 (96,):\n",
      "0 0 0 0 0 0 1 1 1 1 1 1 1 1 1 1 2 0 1 0 1 0 0 0 1 1 1 1 1 1 1 1 1 1 1 1 1 1 1 2 1 0 0 1 1 1 1 1 0 0 0 1 1 1 0 1 1 1 1 1 1 2 0 1 0 0 0 1 1 1 1 1 1 1 1 1 1 1 1 1 1 0 0 1 1 0 1 1 1 1 1 1 1 0 0 1\n",
      "Predicted frame (96,):\n",
      "0 0 0 0 0 0 1 1 1 1 1 1 1 1 1 1 2 0 1 0 1 0 0 0 1 1 1 1 1 1 1 1 1 1 1 1 1 1 1 2 1 0 0 1 1 1 1 1 0 0 0 1 1 1 0 1 1 1 1 1 1 2 0 1 0 0 0 1 1 1 1 1 1 1 1 1 1 1 1 1 1 0 0 1 1 0 1 1 1 1 1 1 1 0 0 1\n",
      "Predicted frame marked for differences at positions:  []\n",
      "0 0 0 0 0 0 1 1 1 1 1 1 1 1 1 1 2 0 1 0 1 0 0 0 1 1 1 1 1 1 1 1 1 1 1 1 1 1 1 2 1 0 0 1 1 1 1 1 0 0 0 1 1 1 0 1 1 1 1 1 1 2 0 1 0 0 0 1 1 1 1 1 1 1 1 1 1 1 1 1 1 0 0 1 1 0 1 1 1 1 1 1 1 0 0 1 \n",
      "\n",
      "Input frame 18 (96,):\n",
      "0 0 0 0 0 0 1 1 1 1 1 1 1 1 1 1 2 0 1 0 1 0 0 0 1 1 1 1 1 1 1 1 1 1 1 1 1 1 1 2 1 0 0 1 1 1 1 1 0 0 0 1 1 1 0 1 1 1 1 1 1 2 0 1 0 0 0 1 1 1 1 1 1 1 1 1 1 1 1 1 1 0 0 1 1 0 1 1 1 1 1 1 1 0 0 1\n",
      "Predicted frame (96,):\n",
      "0 0 0 0 0 0 1 1 1 1 1 1 1 1 1 1 2 0 1 0 1 0 0 0 1 1 1 1 1 1 1 1 1 1 1 1 1 1 1 2 1 0 0 1 1 1 1 1 0 0 0 1 1 1 0 1 1 1 1 1 1 2 0 1 0 0 0 1 1 1 1 1 1 1 1 1 1 1 1 1 1 0 0 1 3 0 1 1 1 1 1 1 1 0 0 1\n",
      "Predicted frame marked for differences at positions:  [84]\n",
      "0 0 0 0 0 0 1 1 1 1 1 1 1 1 1 1 2 0 1 0 1 0 0 0 1 1 1 1 1 1 1 1 1 1 1 1 1 1 1 2 1 0 0 1 1 1 1 1 0 0 0 1 1 1 0 1 1 1 1 1 1 2 0 1 0 0 0 1 1 1 1 1 1 1 1 1 1 1 1 1 1 0 0 1 8 0 1 1 1 1 1 1 1 0 0 1 \n",
      "\n",
      "Input frame 19 (96,):\n",
      "0 0 0 0 0 0 1 1 1 1 1 1 1 1 1 1 2 0 1 0 1 0 0 0 1 1 1 1 1 1 1 1 1 1 1 1 1 1 1 2 1 0 0 1 1 1 1 1 0 0 0 1 1 1 0 1 1 1 1 1 1 2 0 1 0 0 0 1 1 1 1 1 1 1 1 1 1 1 1 1 1 0 0 1 3 0 1 1 1 1 1 1 1 0 0 1\n",
      "Predicted frame (96,):\n",
      "0 0 0 0 0 0 1 1 1 1 1 1 1 1 1 1 2 0 1 0 1 0 0 0 1 1 1 1 1 1 1 1 1 1 1 1 1 1 1 2 1 0 0 1 1 1 1 1 0 0 0 1 1 1 0 1 1 1 1 1 1 2 0 1 0 0 0 1 1 1 1 1 1 1 1 1 1 1 1 1 1 0 0 1 3 0 1 1 1 1 1 1 1 0 0 1\n",
      "Predicted frame marked for differences at positions:  []\n",
      "0 0 0 0 0 0 1 1 1 1 1 1 1 1 1 1 2 0 1 0 1 0 0 0 1 1 1 1 1 1 1 1 1 1 1 1 1 1 1 2 1 0 0 1 1 1 1 1 0 0 0 1 1 1 0 1 1 1 1 1 1 2 0 1 0 0 0 1 1 1 1 1 1 1 1 1 1 1 1 1 1 0 0 1 3 0 1 1 1 1 1 1 1 0 0 1 \n",
      "\n",
      "Input frame 20 (96,):\n",
      "0 0 0 0 0 0 1 1 1 1 1 1 1 1 1 1 2 0 1 0 1 0 0 0 1 1 1 1 1 1 1 1 1 1 1 1 1 1 1 2 1 0 0 1 1 1 1 1 0 0 0 1 1 1 0 1 1 1 1 1 1 2 0 1 0 0 0 1 1 1 1 1 1 1 1 1 1 1 1 1 1 0 0 1 3 0 1 1 1 1 1 1 1 0 0 1\n",
      "Predicted frame (96,):\n",
      "0 0 0 0 0 0 1 1 1 1 1 1 1 1 1 1 2 0 1 0 1 0 0 0 1 1 1 1 1 1 1 1 1 1 1 1 1 1 1 0 1 0 0 1 1 1 1 1 0 0 0 1 1 1 0 1 1 1 1 1 1 2 0 1 0 0 0 1 1 1 1 1 1 1 1 1 1 1 1 1 1 0 0 1 3 0 1 1 1 1 1 1 1 0 0 1\n",
      "Predicted frame marked for differences at positions:  [39]\n",
      "0 0 0 0 0 0 1 1 1 1 1 1 1 1 1 1 2 0 1 0 1 0 0 0 1 1 1 1 1 1 1 1 1 1 1 1 1 1 1 8 1 0 0 1 1 1 1 1 0 0 0 1 1 1 0 1 1 1 1 1 1 2 0 1 0 0 0 1 1 1 1 1 1 1 1 1 1 1 1 1 1 0 0 1 3 0 1 1 1 1 1 1 1 0 0 1 \n",
      "\n",
      "Input frame 21 (96,):\n",
      "0 0 0 0 0 0 1 1 1 1 1 1 1 1 1 1 2 0 1 0 1 0 0 0 1 1 1 1 1 1 1 1 1 1 1 1 1 1 1 0 1 0 0 1 1 1 1 1 0 0 0 1 1 1 0 1 1 1 1 1 1 2 0 1 0 0 0 1 1 1 1 1 1 1 1 1 1 1 1 1 1 0 0 1 3 0 1 1 1 1 1 1 1 0 0 1\n",
      "Predicted frame (96,):\n",
      "0 0 0 0 0 0 1 1 1 1 1 1 1 1 1 1 2 0 1 0 1 0 0 0 1 1 1 1 1 1 1 1 1 1 1 1 1 1 1 2 1 0 0 1 1 1 1 1 0 0 0 1 1 1 0 1 1 1 1 1 1 2 0 1 1 0 0 1 1 0 1 1 1 1 1 1 1 1 1 1 1 0 0 0 3 0 1 1 1 1 1 1 1 0 0 1\n",
      "Predicted frame marked for differences at positions:  [39, 64, 69, 83]\n",
      "0 0 0 0 0 0 1 1 1 1 1 1 1 1 1 1 2 0 1 0 1 0 0 0 1 1 1 1 1 1 1 1 1 1 1 1 1 1 1 8 1 0 0 1 1 1 1 1 0 0 0 1 1 1 0 1 1 1 1 1 1 2 0 1 8 0 0 1 1 8 1 1 1 1 1 1 1 1 1 1 1 0 0 8 3 0 1 1 1 1 1 1 1 0 0 1 \n",
      "\n",
      "Input frame 22 (96,):\n",
      "0 0 0 0 0 0 1 1 1 1 1 1 1 1 1 1 2 0 1 0 1 0 0 0 1 1 1 1 1 1 1 1 1 1 1 1 1 1 1 2 1 0 0 1 1 1 1 1 0 0 0 1 1 1 0 1 1 1 1 1 1 2 0 1 1 0 0 1 1 0 1 1 1 1 1 1 1 1 1 1 1 0 0 0 3 0 1 1 1 1 1 1 1 0 0 1\n",
      "Predicted frame (96,):\n",
      "1 0 0 0 0 0 1 1 1 1 1 1 1 1 1 1 2 0 1 0 1 0 0 0 1 1 1 1 1 1 1 1 1 1 1 1 1 1 1 2 1 0 0 1 1 1 1 1 0 0 0 1 1 1 0 1 1 1 1 1 1 2 0 1 0 0 0 1 1 1 1 1 1 1 1 1 1 1 1 1 1 0 1 1 3 0 1 1 1 1 1 1 1 0 0 1\n",
      "Predicted frame marked for differences at positions:  [0, 64, 69, 82, 83]\n",
      "8 0 0 0 0 0 1 1 1 1 1 1 1 1 1 1 2 0 1 0 1 0 0 0 1 1 1 1 1 1 1 1 1 1 1 1 1 1 1 2 1 0 0 1 1 1 1 1 0 0 0 1 1 1 0 1 1 1 1 1 1 2 0 1 8 0 0 1 1 8 1 1 1 1 1 1 1 1 1 1 1 0 8 8 3 0 1 1 1 1 1 1 1 0 0 1 \n",
      "\n",
      "Input frame 23 (96,):\n",
      "1 0 0 0 0 0 1 1 1 1 1 1 1 1 1 1 2 0 1 0 1 0 0 0 1 1 1 1 1 1 1 1 1 1 1 1 1 1 1 2 1 0 0 1 1 1 1 1 0 0 0 1 1 1 0 1 1 1 1 1 1 2 0 1 0 0 0 1 1 1 1 1 1 1 1 1 1 1 1 1 1 0 1 1 3 0 1 1 1 1 1 1 1 0 0 1\n",
      "Predicted frame (96,):\n",
      "0 0 0 0 0 0 1 1 1 1 1 1 1 1 1 1 2 0 1 0 1 0 0 0 1 1 1 1 1 1 1 1 1 1 1 1 1 1 1 2 1 0 0 1 1 0 1 1 0 0 0 1 1 1 0 1 1 1 1 1 1 2 0 1 0 0 0 1 1 1 1 1 1 1 1 1 1 1 1 1 1 0 0 0 0 0 1 1 1 1 1 1 1 0 0 1\n",
      "Predicted frame marked for differences at positions:  [0, 45, 82, 83, 84]\n",
      "8 0 0 0 0 0 1 1 1 1 1 1 1 1 1 1 2 0 1 0 1 0 0 0 1 1 1 1 1 1 1 1 1 1 1 1 1 1 1 2 1 0 0 1 1 8 1 1 0 0 0 1 1 1 0 1 1 1 1 1 1 2 0 1 0 0 0 1 1 1 1 1 1 1 1 1 1 1 1 1 1 0 8 8 8 0 1 1 1 1 1 1 1 0 0 1 \n",
      "\n",
      "Input frame 24 (96,):\n",
      "0 0 0 0 0 0 1 1 1 1 1 1 1 1 1 1 2 0 1 0 1 0 0 0 1 1 1 1 1 1 1 1 1 1 1 1 1 1 1 2 1 0 0 1 1 0 1 1 0 0 0 1 1 1 0 1 1 1 1 1 1 2 0 1 0 0 0 1 1 1 1 1 1 1 1 1 1 1 1 1 1 0 0 0 0 0 1 1 1 1 1 1 1 0 0 1\n",
      "Predicted frame (96,):\n",
      "0 0 0 0 0 0 1 1 1 1 1 1 1 1 1 1 2 0 1 0 1 0 0 0 1 1 1 1 1 1 1 1 1 1 1 1 1 1 1 1 1 0 0 1 1 0 1 1 0 0 0 1 1 1 0 1 1 1 1 1 1 2 0 1 0 0 0 1 1 1 1 1 1 1 1 1 1 1 1 1 1 0 0 0 0 0 1 1 1 1 1 1 1 0 0 1\n",
      "Predicted frame marked for differences at positions:  [39]\n",
      "0 0 0 0 0 0 1 1 1 1 1 1 1 1 1 1 2 0 1 0 1 0 0 0 1 1 1 1 1 1 1 1 1 1 1 1 1 1 1 8 1 0 0 1 1 0 1 1 0 0 0 1 1 1 0 1 1 1 1 1 1 2 0 1 0 0 0 1 1 1 1 1 1 1 1 1 1 1 1 1 1 0 0 0 0 0 1 1 1 1 1 1 1 0 0 1 \n",
      "\n"
     ]
    },
    {
     "name": "stdout",
     "output_type": "stream",
     "text": [
      "Input frame 25 (96,):\n",
      "0 0 0 0 0 0 1 1 1 1 1 1 1 1 1 1 2 0 1 0 1 0 0 0 1 1 1 1 1 1 1 1 1 1 1 1 1 1 1 1 1 0 0 1 1 0 1 1 0 0 0 1 1 1 0 1 1 1 1 1 1 2 0 1 0 0 0 1 1 1 1 1 1 1 1 1 1 1 1 1 1 0 0 0 0 0 1 1 1 1 1 1 1 0 0 1\n",
      "Predicted frame (96,):\n",
      "0 0 0 0 0 0 1 1 1 1 1 1 1 1 1 1 2 0 1 0 1 0 0 0 1 1 1 1 1 1 1 1 1 1 1 1 1 1 1 3 1 0 0 1 1 1 1 1 0 0 0 1 1 1 0 1 1 1 1 1 1 2 0 1 0 0 0 1 1 1 1 1 1 1 1 1 1 1 1 1 1 0 0 1 0 0 1 1 1 1 1 1 1 0 0 1\n",
      "Predicted frame marked for differences at positions:  [39, 45, 83]\n",
      "0 0 0 0 0 0 1 1 1 1 1 1 1 1 1 1 2 0 1 0 1 0 0 0 1 1 1 1 1 1 1 1 1 1 1 1 1 1 1 8 1 0 0 1 1 8 1 1 0 0 0 1 1 1 0 1 1 1 1 1 1 2 0 1 0 0 0 1 1 1 1 1 1 1 1 1 1 1 1 1 1 0 0 8 0 0 1 1 1 1 1 1 1 0 0 1 \n",
      "\n",
      "Input frame 26 (96,):\n",
      "0 0 0 0 0 0 1 1 1 1 1 1 1 1 1 1 2 0 1 0 1 0 0 0 1 1 1 1 1 1 1 1 1 1 1 1 1 1 1 3 1 0 0 1 1 1 1 1 0 0 0 1 1 1 0 1 1 1 1 1 1 2 0 1 0 0 0 1 1 1 1 1 1 1 1 1 1 1 1 1 1 0 0 1 0 0 1 1 1 1 1 1 1 0 0 1\n",
      "Predicted frame (96,):\n",
      "0 0 0 0 0 0 1 1 1 1 1 1 1 1 1 1 2 0 1 0 1 0 0 0 1 1 1 1 1 1 1 1 1 1 1 1 1 1 1 2 1 0 0 1 1 1 1 1 0 0 0 1 1 1 0 1 1 1 1 1 1 2 0 1 0 0 0 1 1 1 1 1 1 1 1 1 1 1 1 1 1 0 0 1 1 0 1 1 1 1 1 1 1 0 0 1\n",
      "Predicted frame marked for differences at positions:  [39, 84]\n",
      "0 0 0 0 0 0 1 1 1 1 1 1 1 1 1 1 2 0 1 0 1 0 0 0 1 1 1 1 1 1 1 1 1 1 1 1 1 1 1 8 1 0 0 1 1 1 1 1 0 0 0 1 1 1 0 1 1 1 1 1 1 2 0 1 0 0 0 1 1 1 1 1 1 1 1 1 1 1 1 1 1 0 0 1 8 0 1 1 1 1 1 1 1 0 0 1 \n",
      "\n",
      "Input frame 27 (96,):\n",
      "0 0 0 0 0 0 1 1 1 1 1 1 1 1 1 1 2 0 1 0 1 0 0 0 1 1 1 1 1 1 1 1 1 1 1 1 1 1 1 2 1 0 0 1 1 1 1 1 0 0 0 1 1 1 0 1 1 1 1 1 1 2 0 1 0 0 0 1 1 1 1 1 1 1 1 1 1 1 1 1 1 0 0 1 1 0 1 1 1 1 1 1 1 0 0 1\n",
      "Predicted frame (96,):\n",
      "0 0 0 0 0 0 1 1 1 1 1 1 1 1 1 1 2 0 1 0 1 0 0 0 1 1 1 1 1 1 1 1 1 1 1 1 1 1 1 3 1 0 0 1 1 1 1 1 0 0 0 1 1 1 0 1 1 1 1 1 1 2 0 1 0 0 0 1 1 1 1 1 1 1 1 1 1 1 1 1 1 0 0 0 0 0 1 1 1 1 1 1 1 0 0 1\n",
      "Predicted frame marked for differences at positions:  [39, 83, 84]\n",
      "0 0 0 0 0 0 1 1 1 1 1 1 1 1 1 1 2 0 1 0 1 0 0 0 1 1 1 1 1 1 1 1 1 1 1 1 1 1 1 8 1 0 0 1 1 1 1 1 0 0 0 1 1 1 0 1 1 1 1 1 1 2 0 1 0 0 0 1 1 1 1 1 1 1 1 1 1 1 1 1 1 0 0 8 8 0 1 1 1 1 1 1 1 0 0 1 \n",
      "\n",
      "Input frame 28 (96,):\n",
      "0 0 0 0 0 0 1 1 1 1 1 1 1 1 1 1 2 0 1 0 1 0 0 0 1 1 1 1 1 1 1 1 1 1 1 1 1 1 1 3 1 0 0 1 1 1 1 1 0 0 0 1 1 1 0 1 1 1 1 1 1 2 0 1 0 0 0 1 1 1 1 1 1 1 1 1 1 1 1 1 1 0 0 0 0 0 1 1 1 1 1 1 1 0 0 1\n",
      "Predicted frame (96,):\n",
      "0 0 0 0 0 0 1 1 1 1 1 1 1 1 1 1 2 0 1 0 1 0 0 0 1 1 1 1 1 1 1 1 1 1 1 1 1 1 1 2 1 0 0 1 1 1 1 1 0 0 0 1 1 1 0 1 1 1 1 1 1 2 0 1 0 0 0 1 1 1 1 1 1 1 1 1 1 1 1 1 1 0 0 0 3 0 1 1 1 1 1 1 1 0 0 1\n",
      "Predicted frame marked for differences at positions:  [39, 84]\n",
      "0 0 0 0 0 0 1 1 1 1 1 1 1 1 1 1 2 0 1 0 1 0 0 0 1 1 1 1 1 1 1 1 1 1 1 1 1 1 1 8 1 0 0 1 1 1 1 1 0 0 0 1 1 1 0 1 1 1 1 1 1 2 0 1 0 0 0 1 1 1 1 1 1 1 1 1 1 1 1 1 1 0 0 0 8 0 1 1 1 1 1 1 1 0 0 1 \n",
      "\n",
      "Input frame 29 (96,):\n",
      "0 0 0 0 0 0 1 1 1 1 1 1 1 1 1 1 2 0 1 0 1 0 0 0 1 1 1 1 1 1 1 1 1 1 1 1 1 1 1 2 1 0 0 1 1 1 1 1 0 0 0 1 1 1 0 1 1 1 1 1 1 2 0 1 0 0 0 1 1 1 1 1 1 1 1 1 1 1 1 1 1 0 0 0 3 0 1 1 1 1 1 1 1 0 0 1\n",
      "Predicted frame (96,):\n",
      "1 0 0 0 0 0 1 1 1 1 1 1 1 1 1 1 2 0 1 0 1 0 0 0 1 1 1 1 1 1 1 1 1 1 1 1 1 1 1 2 1 0 0 1 1 0 1 1 0 0 0 1 1 1 0 1 1 1 1 1 1 2 0 1 0 0 0 1 1 0 1 1 1 1 1 1 1 1 1 1 1 0 0 1 3 0 1 1 1 1 1 1 1 0 0 1\n",
      "Predicted frame marked for differences at positions:  [0, 45, 69, 83]\n",
      "8 0 0 0 0 0 1 1 1 1 1 1 1 1 1 1 2 0 1 0 1 0 0 0 1 1 1 1 1 1 1 1 1 1 1 1 1 1 1 2 1 0 0 1 1 8 1 1 0 0 0 1 1 1 0 1 1 1 1 1 1 2 0 1 0 0 0 1 1 8 1 1 1 1 1 1 1 1 1 1 1 0 0 8 3 0 1 1 1 1 1 1 1 0 0 1 \n",
      "\n",
      "Input frame 30 (96,):\n",
      "1 0 0 0 0 0 1 1 1 1 1 1 1 1 1 1 2 0 1 0 1 0 0 0 1 1 1 1 1 1 1 1 1 1 1 1 1 1 1 2 1 0 0 1 1 0 1 1 0 0 0 1 1 1 0 1 1 1 1 1 1 2 0 1 0 0 0 1 1 0 1 1 1 1 1 1 1 1 1 1 1 0 0 1 3 0 1 1 1 1 1 1 1 0 0 1\n",
      "Predicted frame (96,):\n",
      "1 0 0 0 0 0 1 1 1 1 1 1 1 1 1 1 2 0 1 0 1 0 0 0 1 1 1 1 1 1 1 1 1 1 1 1 1 1 1 2 1 0 0 1 1 1 1 1 0 0 1 1 1 1 0 1 1 1 1 1 1 2 0 1 0 0 0 1 1 1 1 1 1 1 1 1 1 1 1 1 1 0 0 0 3 0 1 1 1 1 1 1 1 0 0 1\n",
      "Predicted frame marked for differences at positions:  [45, 50, 69, 83]\n",
      "1 0 0 0 0 0 1 1 1 1 1 1 1 1 1 1 2 0 1 0 1 0 0 0 1 1 1 1 1 1 1 1 1 1 1 1 1 1 1 2 1 0 0 1 1 8 1 1 0 0 8 1 1 1 0 1 1 1 1 1 1 2 0 1 0 0 0 1 1 8 1 1 1 1 1 1 1 1 1 1 1 0 0 8 3 0 1 1 1 1 1 1 1 0 0 1 \n",
      "\n",
      "Input frame 31 (96,):\n",
      "1 0 0 0 0 0 1 1 1 1 1 1 1 1 1 1 2 0 1 0 1 0 0 0 1 1 1 1 1 1 1 1 1 1 1 1 1 1 1 2 1 0 0 1 1 1 1 1 0 0 1 1 1 1 0 1 1 1 1 1 1 2 0 1 0 0 0 1 1 1 1 1 1 1 1 1 1 1 1 1 1 0 0 0 3 0 1 1 1 1 1 1 1 0 0 1\n",
      "Predicted frame (96,):\n",
      "0 0 0 0 0 0 1 1 1 1 1 1 1 1 1 1 2 0 1 0 1 0 0 0 1 1 1 1 1 1 1 1 1 1 1 1 1 1 1 2 1 0 0 1 1 1 1 1 0 0 0 1 1 1 0 1 1 1 1 1 1 2 0 1 0 0 0 1 1 1 1 1 1 1 1 1 1 1 1 1 1 0 0 0 0 0 1 1 1 1 1 1 1 0 0 1\n",
      "Predicted frame marked for differences at positions:  [0, 50, 84]\n",
      "8 0 0 0 0 0 1 1 1 1 1 1 1 1 1 1 2 0 1 0 1 0 0 0 1 1 1 1 1 1 1 1 1 1 1 1 1 1 1 2 1 0 0 1 1 1 1 1 0 0 8 1 1 1 0 1 1 1 1 1 1 2 0 1 0 0 0 1 1 1 1 1 1 1 1 1 1 1 1 1 1 0 0 0 8 0 1 1 1 1 1 1 1 0 0 1 \n",
      "\n",
      "Input frame 32 (96,):\n",
      "0 0 0 0 0 0 1 1 1 1 1 1 1 1 1 1 2 0 1 0 1 0 0 0 1 1 1 1 1 1 1 1 1 1 1 1 1 1 1 2 1 0 0 1 1 1 1 1 0 0 0 1 1 1 0 1 1 1 1 1 1 2 0 1 0 0 0 1 1 1 1 1 1 1 1 1 1 1 1 1 1 0 0 0 0 0 1 1 1 1 1 1 1 0 0 1\n",
      "Predicted frame (96,):\n",
      "0 0 0 0 0 0 1 1 1 1 1 1 1 1 1 1 2 0 1 0 1 0 0 0 1 1 1 1 1 1 1 1 1 1 1 1 1 1 1 2 1 0 0 1 1 1 1 1 0 0 0 1 1 1 0 1 1 1 1 1 1 2 0 1 0 0 0 1 1 1 1 1 1 1 1 1 1 1 1 1 1 0 0 0 1 0 1 1 1 1 1 1 1 0 0 1\n",
      "Predicted frame marked for differences at positions:  [84]\n",
      "0 0 0 0 0 0 1 1 1 1 1 1 1 1 1 1 2 0 1 0 1 0 0 0 1 1 1 1 1 1 1 1 1 1 1 1 1 1 1 2 1 0 0 1 1 1 1 1 0 0 0 1 1 1 0 1 1 1 1 1 1 2 0 1 0 0 0 1 1 1 1 1 1 1 1 1 1 1 1 1 1 0 0 0 8 0 1 1 1 1 1 1 1 0 0 1 \n",
      "\n",
      "Input frame 33 (96,):\n",
      "0 0 0 0 0 0 1 1 1 1 1 1 1 1 1 1 2 0 1 0 1 0 0 0 1 1 1 1 1 1 1 1 1 1 1 1 1 1 1 2 1 0 0 1 1 1 1 1 0 0 0 1 1 1 0 1 1 1 1 1 1 2 0 1 0 0 0 1 1 1 1 1 1 1 1 1 1 1 1 1 1 0 0 0 1 0 1 1 1 1 1 1 1 0 0 1\n",
      "Predicted frame (96,):\n",
      "0 0 0 0 0 0 1 1 1 1 1 1 1 1 1 1 2 0 1 0 1 0 0 0 1 1 1 1 1 1 1 1 1 1 1 1 1 1 1 2 1 0 0 1 1 0 1 1 0 0 0 1 1 1 0 1 1 1 1 1 1 2 0 1 0 0 0 1 1 0 1 1 1 1 1 1 1 1 1 1 1 0 0 1 1 0 1 1 1 1 1 1 1 0 0 1\n",
      "Predicted frame marked for differences at positions:  [45, 69, 83]\n",
      "0 0 0 0 0 0 1 1 1 1 1 1 1 1 1 1 2 0 1 0 1 0 0 0 1 1 1 1 1 1 1 1 1 1 1 1 1 1 1 2 1 0 0 1 1 8 1 1 0 0 0 1 1 1 0 1 1 1 1 1 1 2 0 1 0 0 0 1 1 8 1 1 1 1 1 1 1 1 1 1 1 0 0 8 1 0 1 1 1 1 1 1 1 0 0 1 \n",
      "\n",
      "Input frame 34 (96,):\n",
      "0 0 0 0 0 0 1 1 1 1 1 1 1 1 1 1 2 0 1 0 1 0 0 0 1 1 1 1 1 1 1 1 1 1 1 1 1 1 1 2 1 0 0 1 1 0 1 1 0 0 0 1 1 1 0 1 1 1 1 1 1 2 0 1 0 0 0 1 1 0 1 1 1 1 1 1 1 1 1 1 1 0 0 1 1 0 1 1 1 1 1 1 1 0 0 1\n",
      "Predicted frame (96,):\n",
      "0 0 0 0 0 0 1 1 1 1 1 1 1 1 1 1 2 0 1 0 1 0 0 0 1 1 1 1 1 1 1 1 1 1 1 1 1 1 1 2 1 0 0 1 1 0 1 1 0 0 0 1 1 1 0 1 1 1 1 1 1 2 0 1 0 0 0 1 1 1 1 1 1 1 1 1 1 1 1 1 1 0 0 1 0 0 1 1 1 1 1 1 1 0 0 1\n",
      "Predicted frame marked for differences at positions:  [69, 84]\n",
      "0 0 0 0 0 0 1 1 1 1 1 1 1 1 1 1 2 0 1 0 1 0 0 0 1 1 1 1 1 1 1 1 1 1 1 1 1 1 1 2 1 0 0 1 1 0 1 1 0 0 0 1 1 1 0 1 1 1 1 1 1 2 0 1 0 0 0 1 1 8 1 1 1 1 1 1 1 1 1 1 1 0 0 1 8 0 1 1 1 1 1 1 1 0 0 1 \n",
      "\n",
      "Input frame 35 (96,):\n",
      "0 0 0 0 0 0 1 1 1 1 1 1 1 1 1 1 2 0 1 0 1 0 0 0 1 1 1 1 1 1 1 1 1 1 1 1 1 1 1 2 1 0 0 1 1 0 1 1 0 0 0 1 1 1 0 1 1 1 1 1 1 2 0 1 0 0 0 1 1 1 1 1 1 1 1 1 1 1 1 1 1 0 0 1 0 0 1 1 1 1 1 1 1 0 0 1\n",
      "Predicted frame (96,):\n",
      "0 0 0 0 0 0 1 1 1 1 1 1 1 1 1 1 2 0 1 0 1 0 0 0 1 1 1 1 1 1 1 1 1 1 1 1 1 1 1 2 1 0 0 1 1 0 1 1 0 0 0 1 1 1 0 1 1 1 1 1 1 2 0 1 0 0 0 1 1 0 1 1 1 1 1 1 1 1 1 1 1 0 0 1 0 0 1 1 1 1 1 1 1 0 0 1\n",
      "Predicted frame marked for differences at positions:  [69]\n",
      "0 0 0 0 0 0 1 1 1 1 1 1 1 1 1 1 2 0 1 0 1 0 0 0 1 1 1 1 1 1 1 1 1 1 1 1 1 1 1 2 1 0 0 1 1 0 1 1 0 0 0 1 1 1 0 1 1 1 1 1 1 2 0 1 0 0 0 1 1 8 1 1 1 1 1 1 1 1 1 1 1 0 0 1 0 0 1 1 1 1 1 1 1 0 0 1 \n",
      "\n",
      "Input frame 36 (96,):\n",
      "0 0 0 0 0 0 1 1 1 1 1 1 1 1 1 1 2 0 1 0 1 0 0 0 1 1 1 1 1 1 1 1 1 1 1 1 1 1 1 2 1 0 0 1 1 0 1 1 0 0 0 1 1 1 0 1 1 1 1 1 1 2 0 1 0 0 0 1 1 0 1 1 1 1 1 1 1 1 1 1 1 0 0 1 0 0 1 1 1 1 1 1 1 0 0 1\n",
      "Predicted frame (96,):\n",
      "0 0 0 0 0 0 1 1 1 1 1 1 1 1 1 1 2 0 1 0 1 0 0 0 1 1 1 1 1 1 1 1 1 1 1 1 1 1 1 2 1 0 0 1 1 0 1 1 0 0 0 1 1 1 0 1 1 1 1 1 1 2 0 1 0 0 0 1 1 0 1 1 1 1 1 1 1 1 1 1 1 0 0 0 0 0 1 1 1 1 1 1 1 0 0 1\n",
      "Predicted frame marked for differences at positions:  [83]\n",
      "0 0 0 0 0 0 1 1 1 1 1 1 1 1 1 1 2 0 1 0 1 0 0 0 1 1 1 1 1 1 1 1 1 1 1 1 1 1 1 2 1 0 0 1 1 0 1 1 0 0 0 1 1 1 0 1 1 1 1 1 1 2 0 1 0 0 0 1 1 0 1 1 1 1 1 1 1 1 1 1 1 0 0 8 0 0 1 1 1 1 1 1 1 0 0 1 \n",
      "\n"
     ]
    },
    {
     "name": "stdout",
     "output_type": "stream",
     "text": [
      "Input frame 37 (96,):\n",
      "0 0 0 0 0 0 1 1 1 1 1 1 1 1 1 1 2 0 1 0 1 0 0 0 1 1 1 1 1 1 1 1 1 1 1 1 1 1 1 2 1 0 0 1 1 0 1 1 0 0 0 1 1 1 0 1 1 1 1 1 1 2 0 1 0 0 0 1 1 0 1 1 1 1 1 1 1 1 1 1 1 0 0 0 0 0 1 1 1 1 1 1 1 0 0 1\n",
      "Predicted frame (96,):\n",
      "0 0 0 0 0 0 1 1 1 1 1 1 1 1 1 1 2 0 1 0 1 0 0 0 1 1 1 1 1 1 1 1 1 1 1 1 1 1 1 2 1 0 0 1 1 1 1 1 0 0 0 1 1 1 0 1 1 1 1 1 1 2 0 1 0 0 0 1 1 0 1 1 1 1 1 1 1 1 1 1 1 0 0 0 0 0 1 1 1 1 1 1 1 0 0 1\n",
      "Predicted frame marked for differences at positions:  [45]\n",
      "0 0 0 0 0 0 1 1 1 1 1 1 1 1 1 1 2 0 1 0 1 0 0 0 1 1 1 1 1 1 1 1 1 1 1 1 1 1 1 2 1 0 0 1 1 8 1 1 0 0 0 1 1 1 0 1 1 1 1 1 1 2 0 1 0 0 0 1 1 0 1 1 1 1 1 1 1 1 1 1 1 0 0 0 0 0 1 1 1 1 1 1 1 0 0 1 \n",
      "\n",
      "Input frame 38 (96,):\n",
      "0 0 0 0 0 0 1 1 1 1 1 1 1 1 1 1 2 0 1 0 1 0 0 0 1 1 1 1 1 1 1 1 1 1 1 1 1 1 1 2 1 0 0 1 1 1 1 1 0 0 0 1 1 1 0 1 1 1 1 1 1 2 0 1 0 0 0 1 1 0 1 1 1 1 1 1 1 1 1 1 1 0 0 0 0 0 1 1 1 1 1 1 1 0 0 1\n",
      "Predicted frame (96,):\n",
      "0 0 0 0 0 0 1 1 1 1 1 1 1 1 1 1 2 0 1 0 1 0 0 0 1 1 1 1 1 1 1 1 1 1 1 1 1 1 1 2 1 0 0 1 1 1 1 1 0 0 0 1 1 1 0 1 1 1 1 1 1 2 0 1 0 0 0 1 1 1 1 1 1 1 1 1 1 1 1 1 1 0 0 0 1 0 1 1 1 1 1 1 1 0 0 1\n",
      "Predicted frame marked for differences at positions:  [69, 84]\n",
      "0 0 0 0 0 0 1 1 1 1 1 1 1 1 1 1 2 0 1 0 1 0 0 0 1 1 1 1 1 1 1 1 1 1 1 1 1 1 1 2 1 0 0 1 1 1 1 1 0 0 0 1 1 1 0 1 1 1 1 1 1 2 0 1 0 0 0 1 1 8 1 1 1 1 1 1 1 1 1 1 1 0 0 0 8 0 1 1 1 1 1 1 1 0 0 1 \n",
      "\n",
      "Input frame 39 (96,):\n",
      "0 0 0 0 0 0 1 1 1 1 1 1 1 1 1 1 2 0 1 0 1 0 0 0 1 1 1 1 1 1 1 1 1 1 1 1 1 1 1 2 1 0 0 1 1 1 1 1 0 0 0 1 1 1 0 1 1 1 1 1 1 2 0 1 0 0 0 1 1 1 1 1 1 1 1 1 1 1 1 1 1 0 0 0 1 0 1 1 1 1 1 1 1 0 0 1\n",
      "Predicted frame (96,):\n",
      "0 0 0 0 0 0 1 1 1 1 1 1 1 1 1 1 2 0 1 0 1 0 0 0 1 1 1 1 1 1 1 1 1 1 1 1 1 1 1 2 1 0 0 1 1 1 1 1 0 0 0 1 1 1 0 1 1 1 1 1 1 2 0 1 0 0 0 1 1 0 1 1 1 1 1 1 1 1 1 1 1 0 0 1 0 0 1 1 1 1 1 1 1 0 0 1\n",
      "Predicted frame marked for differences at positions:  [69, 83, 84]\n",
      "0 0 0 0 0 0 1 1 1 1 1 1 1 1 1 1 2 0 1 0 1 0 0 0 1 1 1 1 1 1 1 1 1 1 1 1 1 1 1 2 1 0 0 1 1 1 1 1 0 0 0 1 1 1 0 1 1 1 1 1 1 2 0 1 0 0 0 1 1 8 1 1 1 1 1 1 1 1 1 1 1 0 0 8 8 0 1 1 1 1 1 1 1 0 0 1 \n",
      "\n",
      "Input frame 40 (96,):\n",
      "0 0 0 0 0 0 1 1 1 1 1 1 1 1 1 1 2 0 1 0 1 0 0 0 1 1 1 1 1 1 1 1 1 1 1 1 1 1 1 2 1 0 0 1 1 1 1 1 0 0 0 1 1 1 0 1 1 1 1 1 1 2 0 1 0 0 0 1 1 0 1 1 1 1 1 1 1 1 1 1 1 0 0 1 0 0 1 1 1 1 1 1 1 0 0 1\n",
      "Predicted frame (96,):\n",
      "0 0 0 0 0 0 1 1 1 1 1 1 1 1 1 1 2 0 1 0 1 0 0 0 1 1 1 1 1 1 1 1 1 1 1 1 1 1 1 2 1 0 0 1 1 0 1 1 0 0 0 1 1 1 0 1 1 1 1 1 1 2 0 1 0 0 0 1 1 0 1 1 1 1 1 1 1 1 1 1 1 0 0 1 3 0 1 1 1 1 1 1 1 0 0 1\n",
      "Predicted frame marked for differences at positions:  [45, 84]\n",
      "0 0 0 0 0 0 1 1 1 1 1 1 1 1 1 1 2 0 1 0 1 0 0 0 1 1 1 1 1 1 1 1 1 1 1 1 1 1 1 2 1 0 0 1 1 8 1 1 0 0 0 1 1 1 0 1 1 1 1 1 1 2 0 1 0 0 0 1 1 0 1 1 1 1 1 1 1 1 1 1 1 0 0 1 8 0 1 1 1 1 1 1 1 0 0 1 \n",
      "\n",
      "Input frame 41 (96,):\n",
      "0 0 0 0 0 0 1 1 1 1 1 1 1 1 1 1 2 0 1 0 1 0 0 0 1 1 1 1 1 1 1 1 1 1 1 1 1 1 1 2 1 0 0 1 1 0 1 1 0 0 0 1 1 1 0 1 1 1 1 1 1 2 0 1 0 0 0 1 1 0 1 1 1 1 1 1 1 1 1 1 1 0 0 1 3 0 1 1 1 1 1 1 1 0 0 1\n",
      "Predicted frame (96,):\n",
      "0 0 0 0 0 0 1 1 1 1 1 1 1 1 1 1 2 0 1 0 1 0 0 0 1 1 1 1 1 1 1 1 1 1 1 1 1 1 1 3 1 0 0 1 1 1 1 1 0 0 0 1 1 1 0 1 1 1 1 1 1 2 0 1 0 0 0 1 1 1 1 1 1 1 1 1 1 1 1 1 1 0 0 1 3 0 1 1 1 1 1 1 1 0 0 1\n",
      "Predicted frame marked for differences at positions:  [39, 45, 69]\n",
      "0 0 0 0 0 0 1 1 1 1 1 1 1 1 1 1 2 0 1 0 1 0 0 0 1 1 1 1 1 1 1 1 1 1 1 1 1 1 1 8 1 0 0 1 1 8 1 1 0 0 0 1 1 1 0 1 1 1 1 1 1 2 0 1 0 0 0 1 1 8 1 1 1 1 1 1 1 1 1 1 1 0 0 1 3 0 1 1 1 1 1 1 1 0 0 1 \n",
      "\n",
      "Input frame 42 (96,):\n",
      "0 0 0 0 0 0 1 1 1 1 1 1 1 1 1 1 2 0 1 0 1 0 0 0 1 1 1 1 1 1 1 1 1 1 1 1 1 1 1 3 1 0 0 1 1 1 1 1 0 0 0 1 1 1 0 1 1 1 1 1 1 2 0 1 0 0 0 1 1 1 1 1 1 1 1 1 1 1 1 1 1 0 0 1 3 0 1 1 1 1 1 1 1 0 0 1\n",
      "Predicted frame (96,):\n",
      "0 0 0 0 0 0 1 1 1 1 1 1 1 1 1 1 2 0 1 0 1 0 0 0 1 1 1 1 1 1 1 1 1 1 1 1 1 1 1 2 1 0 0 1 1 1 1 1 0 0 0 1 1 1 0 1 1 1 1 1 1 2 0 1 0 0 0 1 1 1 1 1 1 1 1 1 1 1 1 1 1 0 0 0 3 0 1 1 1 1 1 1 1 0 0 1\n",
      "Predicted frame marked for differences at positions:  [39, 83]\n",
      "0 0 0 0 0 0 1 1 1 1 1 1 1 1 1 1 2 0 1 0 1 0 0 0 1 1 1 1 1 1 1 1 1 1 1 1 1 1 1 8 1 0 0 1 1 1 1 1 0 0 0 1 1 1 0 1 1 1 1 1 1 2 0 1 0 0 0 1 1 1 1 1 1 1 1 1 1 1 1 1 1 0 0 8 3 0 1 1 1 1 1 1 1 0 0 1 \n",
      "\n",
      "Input frame 43 (96,):\n",
      "0 0 0 0 0 0 1 1 1 1 1 1 1 1 1 1 2 0 1 0 1 0 0 0 1 1 1 1 1 1 1 1 1 1 1 1 1 1 1 2 1 0 0 1 1 1 1 1 0 0 0 1 1 1 0 1 1 1 1 1 1 2 0 1 0 0 0 1 1 1 1 1 1 1 1 1 1 1 1 1 1 0 0 0 3 0 1 1 1 1 1 1 1 0 0 1\n",
      "Predicted frame (96,):\n",
      "0 0 0 0 0 0 1 1 1 1 1 1 1 1 1 1 2 0 1 0 1 0 0 0 1 1 1 1 1 1 1 1 1 1 1 1 1 1 1 2 1 0 0 1 1 1 1 1 0 0 0 1 1 1 0 1 1 1 1 1 1 2 0 1 0 0 0 1 1 1 1 1 1 1 1 1 1 1 1 1 1 0 0 1 3 0 1 1 1 1 1 1 1 0 0 1\n",
      "Predicted frame marked for differences at positions:  [83]\n",
      "0 0 0 0 0 0 1 1 1 1 1 1 1 1 1 1 2 0 1 0 1 0 0 0 1 1 1 1 1 1 1 1 1 1 1 1 1 1 1 2 1 0 0 1 1 1 1 1 0 0 0 1 1 1 0 1 1 1 1 1 1 2 0 1 0 0 0 1 1 1 1 1 1 1 1 1 1 1 1 1 1 0 0 8 3 0 1 1 1 1 1 1 1 0 0 1 \n",
      "\n",
      "Input frame 44 (96,):\n",
      "0 0 0 0 0 0 1 1 1 1 1 1 1 1 1 1 2 0 1 0 1 0 0 0 1 1 1 1 1 1 1 1 1 1 1 1 1 1 1 2 1 0 0 1 1 1 1 1 0 0 0 1 1 1 0 1 1 1 1 1 1 2 0 1 0 0 0 1 1 1 1 1 1 1 1 1 1 1 1 1 1 0 0 1 3 0 1 1 1 1 1 1 1 0 0 1\n",
      "Predicted frame (96,):\n",
      "0 0 0 0 0 0 1 1 1 1 1 1 1 1 1 1 2 0 1 0 1 0 0 0 1 1 1 1 1 1 1 1 1 1 1 1 1 1 1 2 1 0 0 1 1 1 1 1 0 0 0 1 1 1 0 1 1 1 1 1 1 2 0 1 0 0 0 1 1 1 1 1 1 1 1 1 1 1 1 1 1 0 0 1 0 0 1 1 1 1 1 1 1 0 0 1\n",
      "Predicted frame marked for differences at positions:  [84]\n",
      "0 0 0 0 0 0 1 1 1 1 1 1 1 1 1 1 2 0 1 0 1 0 0 0 1 1 1 1 1 1 1 1 1 1 1 1 1 1 1 2 1 0 0 1 1 1 1 1 0 0 0 1 1 1 0 1 1 1 1 1 1 2 0 1 0 0 0 1 1 1 1 1 1 1 1 1 1 1 1 1 1 0 0 1 8 0 1 1 1 1 1 1 1 0 0 1 \n",
      "\n",
      "Input frame 45 (96,):\n",
      "0 0 0 0 0 0 1 1 1 1 1 1 1 1 1 1 2 0 1 0 1 0 0 0 1 1 1 1 1 1 1 1 1 1 1 1 1 1 1 2 1 0 0 1 1 1 1 1 0 0 0 1 1 1 0 1 1 1 1 1 1 2 0 1 0 0 0 1 1 1 1 1 1 1 1 1 1 1 1 1 1 0 0 1 0 0 1 1 1 1 1 1 1 0 0 1\n",
      "Predicted frame (96,):\n",
      "0 0 0 0 0 0 1 1 1 1 1 1 1 1 1 1 2 0 1 0 1 0 0 0 1 1 1 1 1 1 1 1 1 1 1 1 1 1 1 3 1 0 0 1 1 0 1 1 0 0 0 1 1 1 0 1 1 1 1 1 1 2 0 1 0 0 0 1 1 0 1 1 1 1 1 1 1 1 1 1 1 0 0 0 3 0 1 1 1 1 1 1 1 0 0 1\n",
      "Predicted frame marked for differences at positions:  [39, 45, 69, 83, 84]\n",
      "0 0 0 0 0 0 1 1 1 1 1 1 1 1 1 1 2 0 1 0 1 0 0 0 1 1 1 1 1 1 1 1 1 1 1 1 1 1 1 8 1 0 0 1 1 8 1 1 0 0 0 1 1 1 0 1 1 1 1 1 1 2 0 1 0 0 0 1 1 8 1 1 1 1 1 1 1 1 1 1 1 0 0 8 8 0 1 1 1 1 1 1 1 0 0 1 \n",
      "\n",
      "Input frame 46 (96,):\n",
      "0 0 0 0 0 0 1 1 1 1 1 1 1 1 1 1 2 0 1 0 1 0 0 0 1 1 1 1 1 1 1 1 1 1 1 1 1 1 1 3 1 0 0 1 1 0 1 1 0 0 0 1 1 1 0 1 1 1 1 1 1 2 0 1 0 0 0 1 1 0 1 1 1 1 1 1 1 1 1 1 1 0 0 0 3 0 1 1 1 1 1 1 1 0 0 1\n",
      "Predicted frame (96,):\n",
      "0 0 0 0 0 0 1 1 1 1 1 1 1 1 1 1 2 0 1 0 1 0 0 0 1 1 1 1 1 1 1 1 1 1 1 1 1 1 1 2 1 0 0 1 1 1 1 1 0 0 0 1 1 1 0 1 1 1 1 1 1 2 0 1 0 0 0 1 1 0 1 1 1 1 1 1 1 1 1 1 1 0 0 1 3 0 1 1 1 1 1 1 1 0 0 1\n",
      "Predicted frame marked for differences at positions:  [39, 45, 83]\n",
      "0 0 0 0 0 0 1 1 1 1 1 1 1 1 1 1 2 0 1 0 1 0 0 0 1 1 1 1 1 1 1 1 1 1 1 1 1 1 1 8 1 0 0 1 1 8 1 1 0 0 0 1 1 1 0 1 1 1 1 1 1 2 0 1 0 0 0 1 1 0 1 1 1 1 1 1 1 1 1 1 1 0 0 8 3 0 1 1 1 1 1 1 1 0 0 1 \n",
      "\n",
      "Input frame 47 (96,):\n",
      "0 0 0 0 0 0 1 1 1 1 1 1 1 1 1 1 2 0 1 0 1 0 0 0 1 1 1 1 1 1 1 1 1 1 1 1 1 1 1 2 1 0 0 1 1 1 1 1 0 0 0 1 1 1 0 1 1 1 1 1 1 2 0 1 0 0 0 1 1 0 1 1 1 1 1 1 1 1 1 1 1 0 0 1 3 0 1 1 1 1 1 1 1 0 0 1\n",
      "Predicted frame (96,):\n",
      "0 0 0 0 0 0 1 1 1 1 1 1 1 1 1 1 2 0 1 0 1 0 0 0 1 1 1 1 1 1 1 1 1 1 1 1 1 1 1 2 1 0 0 1 1 1 1 1 0 0 0 1 1 1 0 1 1 1 1 1 1 2 0 1 0 0 0 1 1 1 1 6 1 1 1 1 1 1 1 1 1 0 0 1 3 0 1 1 1 1 1 1 1 0 0 1\n",
      "Predicted frame marked for differences at positions:  [69, 71]\n",
      "0 0 0 0 0 0 1 1 1 1 1 1 1 1 1 1 2 0 1 0 1 0 0 0 1 1 1 1 1 1 1 1 1 1 1 1 1 1 1 2 1 0 0 1 1 1 1 1 0 0 0 1 1 1 0 1 1 1 1 1 1 2 0 1 0 0 0 1 1 8 1 8 1 1 1 1 1 1 1 1 1 0 0 1 3 0 1 1 1 1 1 1 1 0 0 1 \n",
      "\n",
      "Extension error at frame 47\n",
      "Input frame 48 (96,):\n",
      "0 0 0 0 0 0 1 1 1 1 1 1 1 1 1 1 2 0 1 0 1 0 0 0 1 1 1 1 1 1 1 1 1 1 1 1 1 1 1 2 1 0 0 1 1 1 1 1 0 0 0 1 1 1 0 1 1 1 1 1 1 2 0 1 0 0 0 1 1 1 1 6 1 1 1 1 1 1 1 1 1 0 0 1 3 0 1 1 1 1 1 1 1 0 0 1\n",
      "Predicted frame (96,):\n",
      "0 0 0 0 0 0 1 1 1 1 1 1 1 1 1 1 2 0 1 0 1 0 0 0 1 1 1 1 1 1 1 1 1 1 1 1 1 1 1 2 1 0 0 1 1 1 1 1 0 0 0 1 1 1 0 1 1 1 1 1 1 2 0 1 0 0 0 1 1 1 1 1 1 1 1 1 1 1 1 1 1 0 0 1 3 0 1 1 1 1 1 1 1 0 0 1\n",
      "Predicted frame marked for differences at positions:  [71]\n",
      "0 0 0 0 0 0 1 1 1 1 1 1 1 1 1 1 2 0 1 0 1 0 0 0 1 1 1 1 1 1 1 1 1 1 1 1 1 1 1 2 1 0 0 1 1 1 1 1 0 0 0 1 1 1 0 1 1 1 1 1 1 2 0 1 0 0 0 1 1 1 1 8 1 1 1 1 1 1 1 1 1 0 0 1 3 0 1 1 1 1 1 1 1 0 0 1 \n",
      "\n"
     ]
    },
    {
     "name": "stdout",
     "output_type": "stream",
     "text": [
      "Input frame 49 (96,):\n",
      "0 0 0 0 0 0 1 1 1 1 1 1 1 1 1 1 2 0 1 0 1 0 0 0 1 1 1 1 1 1 1 1 1 1 1 1 1 1 1 2 1 0 0 1 1 1 1 1 0 0 0 1 1 1 0 1 1 1 1 1 1 2 0 1 0 0 0 1 1 1 1 1 1 1 1 1 1 1 1 1 1 0 0 1 3 0 1 1 1 1 1 1 1 0 0 1\n",
      "Predicted frame (96,):\n",
      "0 0 0 0 0 0 1 1 1 1 1 1 1 1 1 1 2 0 1 0 1 0 0 0 1 1 1 1 1 1 1 1 1 1 1 1 1 1 1 2 1 0 0 1 1 0 1 1 0 0 0 1 1 1 0 1 1 1 1 1 1 2 0 1 0 0 0 1 1 1 1 1 1 1 1 1 1 1 1 1 1 0 1 0 3 0 1 1 1 1 1 1 1 0 0 1\n",
      "Predicted frame marked for differences at positions:  [45, 82, 83]\n",
      "0 0 0 0 0 0 1 1 1 1 1 1 1 1 1 1 2 0 1 0 1 0 0 0 1 1 1 1 1 1 1 1 1 1 1 1 1 1 1 2 1 0 0 1 1 8 1 1 0 0 0 1 1 1 0 1 1 1 1 1 1 2 0 1 0 0 0 1 1 1 1 1 1 1 1 1 1 1 1 1 1 0 8 8 3 0 1 1 1 1 1 1 1 0 0 1 \n",
      "\n",
      "Input frame 50 (96,):\n",
      "0 0 0 0 0 0 1 1 1 1 1 1 1 1 1 1 2 0 1 0 1 0 0 0 1 1 1 1 1 1 1 1 1 1 1 1 1 1 1 2 1 0 0 1 1 0 1 1 0 0 0 1 1 1 0 1 1 1 1 1 1 2 0 1 0 0 0 1 1 1 1 1 1 1 1 1 1 1 1 1 1 0 1 0 3 0 1 1 1 1 1 1 1 0 0 1\n",
      "Predicted frame (96,):\n",
      "0 0 0 0 0 0 1 1 1 1 1 1 1 1 1 1 2 0 1 0 1 0 0 0 1 1 1 1 1 1 1 1 1 1 1 1 1 1 1 2 1 0 0 1 1 1 1 1 0 0 0 1 1 1 0 1 1 1 1 1 1 2 0 1 0 0 0 1 1 1 1 1 1 1 1 1 1 1 1 1 1 0 0 1 3 0 1 1 1 1 1 1 1 0 0 1\n",
      "Predicted frame marked for differences at positions:  [45, 82, 83]\n",
      "0 0 0 0 0 0 1 1 1 1 1 1 1 1 1 1 2 0 1 0 1 0 0 0 1 1 1 1 1 1 1 1 1 1 1 1 1 1 1 2 1 0 0 1 1 8 1 1 0 0 0 1 1 1 0 1 1 1 1 1 1 2 0 1 0 0 0 1 1 1 1 1 1 1 1 1 1 1 1 1 1 0 8 8 3 0 1 1 1 1 1 1 1 0 0 1 \n",
      "\n",
      "Input frame 51 (96,):\n",
      "0 0 0 0 0 0 1 1 1 1 1 1 1 1 1 1 2 0 1 0 1 0 0 0 1 1 1 1 1 1 1 1 1 1 1 1 1 1 1 2 1 0 0 1 1 1 1 1 0 0 0 1 1 1 0 1 1 1 1 1 1 2 0 1 0 0 0 1 1 1 1 1 1 1 1 1 1 1 1 1 1 0 0 1 3 0 1 1 1 1 1 1 1 0 0 1\n",
      "Predicted frame (96,):\n",
      "0 0 0 0 0 0 1 1 1 1 1 1 1 1 1 1 2 0 1 0 1 0 0 0 1 1 1 1 1 1 1 1 1 1 1 1 1 1 1 2 1 0 0 1 1 0 1 1 0 0 0 1 1 1 0 1 1 1 1 1 1 2 0 1 0 0 0 1 1 1 1 1 1 1 1 1 1 1 1 1 1 0 0 0 3 0 1 1 1 1 1 1 1 0 0 1\n",
      "Predicted frame marked for differences at positions:  [45, 83]\n",
      "0 0 0 0 0 0 1 1 1 1 1 1 1 1 1 1 2 0 1 0 1 0 0 0 1 1 1 1 1 1 1 1 1 1 1 1 1 1 1 2 1 0 0 1 1 8 1 1 0 0 0 1 1 1 0 1 1 1 1 1 1 2 0 1 0 0 0 1 1 1 1 1 1 1 1 1 1 1 1 1 1 0 0 8 3 0 1 1 1 1 1 1 1 0 0 1 \n",
      "\n",
      "Input frame 52 (96,):\n",
      "0 0 0 0 0 0 1 1 1 1 1 1 1 1 1 1 2 0 1 0 1 0 0 0 1 1 1 1 1 1 1 1 1 1 1 1 1 1 1 2 1 0 0 1 1 0 1 1 0 0 0 1 1 1 0 1 1 1 1 1 1 2 0 1 0 0 0 1 1 1 1 1 1 1 1 1 1 1 1 1 1 0 0 0 3 0 1 1 1 1 1 1 1 0 0 1\n",
      "Predicted frame (96,):\n",
      "0 0 0 0 0 0 1 1 1 1 1 1 1 1 1 1 2 0 1 0 1 0 0 0 1 1 1 1 1 1 1 1 1 1 1 1 1 1 1 2 1 0 0 1 1 0 1 1 0 0 0 1 1 1 0 1 1 1 1 1 1 2 0 1 0 0 0 1 1 1 1 1 1 1 1 1 1 1 1 1 1 0 0 0 3 0 1 1 1 1 1 1 1 0 0 1\n",
      "Predicted frame marked for differences at positions:  []\n",
      "0 0 0 0 0 0 1 1 1 1 1 1 1 1 1 1 2 0 1 0 1 0 0 0 1 1 1 1 1 1 1 1 1 1 1 1 1 1 1 2 1 0 0 1 1 0 1 1 0 0 0 1 1 1 0 1 1 1 1 1 1 2 0 1 0 0 0 1 1 1 1 1 1 1 1 1 1 1 1 1 1 0 0 0 3 0 1 1 1 1 1 1 1 0 0 1 \n",
      "\n",
      "Input frame 53 (96,):\n",
      "0 0 0 0 0 0 1 1 1 1 1 1 1 1 1 1 2 0 1 0 1 0 0 0 1 1 1 1 1 1 1 1 1 1 1 1 1 1 1 2 1 0 0 1 1 0 1 1 0 0 0 1 1 1 0 1 1 1 1 1 1 2 0 1 0 0 0 1 1 1 1 1 1 1 1 1 1 1 1 1 1 0 0 0 3 0 1 1 1 1 1 1 1 0 0 1\n",
      "Predicted frame (96,):\n",
      "0 0 0 0 0 0 1 1 1 1 1 1 1 1 1 1 2 0 1 0 1 0 0 0 1 1 1 1 1 1 1 1 1 1 1 1 1 1 1 2 1 0 0 1 1 1 1 1 0 0 0 1 1 1 0 1 1 1 1 1 1 2 0 1 0 0 0 1 1 1 1 1 1 1 1 1 1 1 1 1 1 0 0 1 3 0 1 1 1 1 1 1 1 0 0 1\n",
      "Predicted frame marked for differences at positions:  [45, 83]\n",
      "0 0 0 0 0 0 1 1 1 1 1 1 1 1 1 1 2 0 1 0 1 0 0 0 1 1 1 1 1 1 1 1 1 1 1 1 1 1 1 2 1 0 0 1 1 8 1 1 0 0 0 1 1 1 0 1 1 1 1 1 1 2 0 1 0 0 0 1 1 1 1 1 1 1 1 1 1 1 1 1 1 0 0 8 3 0 1 1 1 1 1 1 1 0 0 1 \n",
      "\n",
      "Input frame 54 (96,):\n",
      "0 0 0 0 0 0 1 1 1 1 1 1 1 1 1 1 2 0 1 0 1 0 0 0 1 1 1 1 1 1 1 1 1 1 1 1 1 1 1 2 1 0 0 1 1 1 1 1 0 0 0 1 1 1 0 1 1 1 1 1 1 2 0 1 0 0 0 1 1 1 1 1 1 1 1 1 1 1 1 1 1 0 0 1 3 0 1 1 1 1 1 1 1 0 0 1\n",
      "Predicted frame (96,):\n",
      "0 0 0 0 0 0 1 1 1 1 1 1 1 1 1 1 1 0 1 0 1 0 0 0 1 1 1 1 1 1 1 1 1 1 1 1 1 1 1 2 1 0 0 1 1 1 1 1 0 0 0 1 1 1 0 1 1 1 1 1 1 2 0 1 0 0 0 1 1 1 1 1 1 1 1 1 1 1 1 1 1 0 1 1 0 0 1 1 1 1 1 1 1 0 0 1\n",
      "Predicted frame marked for differences at positions:  [16, 82, 84]\n",
      "0 0 0 0 0 0 1 1 1 1 1 1 1 1 1 1 8 0 1 0 1 0 0 0 1 1 1 1 1 1 1 1 1 1 1 1 1 1 1 2 1 0 0 1 1 1 1 1 0 0 0 1 1 1 0 1 1 1 1 1 1 2 0 1 0 0 0 1 1 1 1 1 1 1 1 1 1 1 1 1 1 0 8 1 8 0 1 1 1 1 1 1 1 0 0 1 \n",
      "\n",
      "Input frame 55 (96,):\n",
      "0 0 0 0 0 0 1 1 1 1 1 1 1 1 1 1 1 0 1 0 1 0 0 0 1 1 1 1 1 1 1 1 1 1 1 1 1 1 1 2 1 0 0 1 1 1 1 1 0 0 0 1 1 1 0 1 1 1 1 1 1 2 0 1 0 0 0 1 1 1 1 1 1 1 1 1 1 1 1 1 1 0 1 1 0 0 1 1 1 1 1 1 1 0 0 1\n",
      "Predicted frame (96,):\n",
      "0 0 0 0 0 0 1 1 1 1 1 1 1 1 1 1 0 0 1 0 1 0 0 0 1 1 1 1 1 1 1 1 1 1 1 1 1 1 1 2 1 0 0 1 1 0 1 1 0 0 0 1 1 1 0 1 1 1 1 1 1 2 0 1 0 0 0 1 1 1 1 1 1 1 1 1 1 1 1 1 1 0 1 1 3 0 1 1 1 1 1 1 1 0 0 1\n",
      "Predicted frame marked for differences at positions:  [16, 45, 84]\n",
      "0 0 0 0 0 0 1 1 1 1 1 1 1 1 1 1 8 0 1 0 1 0 0 0 1 1 1 1 1 1 1 1 1 1 1 1 1 1 1 2 1 0 0 1 1 8 1 1 0 0 0 1 1 1 0 1 1 1 1 1 1 2 0 1 0 0 0 1 1 1 1 1 1 1 1 1 1 1 1 1 1 0 1 1 8 0 1 1 1 1 1 1 1 0 0 1 \n",
      "\n",
      "Input frame 56 (96,):\n",
      "0 0 0 0 0 0 1 1 1 1 1 1 1 1 1 1 0 0 1 0 1 0 0 0 1 1 1 1 1 1 1 1 1 1 1 1 1 1 1 2 1 0 0 1 1 0 1 1 0 0 0 1 1 1 0 1 1 1 1 1 1 2 0 1 0 0 0 1 1 1 1 1 1 1 1 1 1 1 1 1 1 0 1 1 3 0 1 1 1 1 1 1 1 0 0 1\n",
      "Predicted frame (96,):\n",
      "0 0 0 0 0 0 1 1 1 1 1 1 1 1 1 1 3 0 1 0 1 0 0 0 1 1 1 1 1 1 1 1 1 1 1 1 1 1 1 2 1 0 0 1 1 0 1 1 0 0 0 1 1 1 0 1 1 1 1 1 1 2 0 1 0 0 0 1 1 1 1 1 1 1 1 1 1 1 1 1 1 0 0 0 3 0 1 1 1 1 1 1 1 0 0 1\n",
      "Predicted frame marked for differences at positions:  [16, 82, 83]\n",
      "0 0 0 0 0 0 1 1 1 1 1 1 1 1 1 1 8 0 1 0 1 0 0 0 1 1 1 1 1 1 1 1 1 1 1 1 1 1 1 2 1 0 0 1 1 0 1 1 0 0 0 1 1 1 0 1 1 1 1 1 1 2 0 1 0 0 0 1 1 1 1 1 1 1 1 1 1 1 1 1 1 0 8 8 3 0 1 1 1 1 1 1 1 0 0 1 \n",
      "\n",
      "Input frame 57 (96,):\n",
      "0 0 0 0 0 0 1 1 1 1 1 1 1 1 1 1 3 0 1 0 1 0 0 0 1 1 1 1 1 1 1 1 1 1 1 1 1 1 1 2 1 0 0 1 1 0 1 1 0 0 0 1 1 1 0 1 1 1 1 1 1 2 0 1 0 0 0 1 1 1 1 1 1 1 1 1 1 1 1 1 1 0 0 0 3 0 1 1 1 1 1 1 1 0 0 1\n",
      "Predicted frame (96,):\n",
      "0 0 0 0 0 0 1 1 1 1 1 1 1 1 1 1 1 0 1 0 1 0 0 0 1 1 1 1 1 1 1 1 1 1 1 1 1 1 1 2 1 0 0 1 1 1 1 1 0 0 0 1 1 1 0 1 1 1 1 1 1 2 0 1 0 0 0 1 1 1 1 1 1 1 1 1 1 1 1 1 1 0 0 1 3 0 1 1 1 1 1 1 1 0 0 1\n",
      "Predicted frame marked for differences at positions:  [16, 45, 83]\n",
      "0 0 0 0 0 0 1 1 1 1 1 1 1 1 1 1 8 0 1 0 1 0 0 0 1 1 1 1 1 1 1 1 1 1 1 1 1 1 1 2 1 0 0 1 1 8 1 1 0 0 0 1 1 1 0 1 1 1 1 1 1 2 0 1 0 0 0 1 1 1 1 1 1 1 1 1 1 1 1 1 1 0 0 8 3 0 1 1 1 1 1 1 1 0 0 1 \n",
      "\n",
      "Input frame 58 (96,):\n",
      "0 0 0 0 0 0 1 1 1 1 1 1 1 1 1 1 1 0 1 0 1 0 0 0 1 1 1 1 1 1 1 1 1 1 1 1 1 1 1 2 1 0 0 1 1 1 1 1 0 0 0 1 1 1 0 1 1 1 1 1 1 2 0 1 0 0 0 1 1 1 1 1 1 1 1 1 1 1 1 1 1 0 0 1 3 0 1 1 1 1 1 1 1 0 0 1\n",
      "Predicted frame (96,):\n",
      "0 0 0 0 0 0 1 1 1 1 1 1 1 1 1 1 2 0 1 0 1 0 0 0 1 1 1 1 1 1 1 1 1 1 1 1 1 1 1 2 1 0 0 1 1 1 1 1 0 0 0 1 1 1 0 1 1 1 1 1 1 2 0 1 0 0 0 1 1 1 1 1 1 1 1 1 1 1 1 1 1 0 0 1 3 0 1 1 1 1 1 1 1 0 0 1\n",
      "Predicted frame marked for differences at positions:  [16]\n",
      "0 0 0 0 0 0 1 1 1 1 1 1 1 1 1 1 8 0 1 0 1 0 0 0 1 1 1 1 1 1 1 1 1 1 1 1 1 1 1 2 1 0 0 1 1 1 1 1 0 0 0 1 1 1 0 1 1 1 1 1 1 2 0 1 0 0 0 1 1 1 1 1 1 1 1 1 1 1 1 1 1 0 0 1 3 0 1 1 1 1 1 1 1 0 0 1 \n",
      "\n",
      "Input frame 59 (96,):\n",
      "0 0 0 0 0 0 1 1 1 1 1 1 1 1 1 1 2 0 1 0 1 0 0 0 1 1 1 1 1 1 1 1 1 1 1 1 1 1 1 2 1 0 0 1 1 1 1 1 0 0 0 1 1 1 0 1 1 1 1 1 1 2 0 1 0 0 0 1 1 1 1 1 1 1 1 1 1 1 1 1 1 0 0 1 3 0 1 1 1 1 1 1 1 0 0 1\n",
      "Predicted frame (96,):\n",
      "0 0 0 0 0 0 1 1 1 1 1 1 1 1 1 1 2 0 1 0 1 0 0 0 1 1 1 1 1 1 1 1 1 1 1 1 1 1 1 2 1 0 0 1 1 0 1 1 0 0 0 1 1 1 0 1 1 1 1 1 1 2 0 1 0 0 0 1 1 1 1 1 1 1 1 1 1 1 1 1 1 0 0 0 3 0 1 1 1 1 1 1 1 0 0 1\n",
      "Predicted frame marked for differences at positions:  [45, 83]\n",
      "0 0 0 0 0 0 1 1 1 1 1 1 1 1 1 1 2 0 1 0 1 0 0 0 1 1 1 1 1 1 1 1 1 1 1 1 1 1 1 2 1 0 0 1 1 8 1 1 0 0 0 1 1 1 0 1 1 1 1 1 1 2 0 1 0 0 0 1 1 1 1 1 1 1 1 1 1 1 1 1 1 0 0 8 3 0 1 1 1 1 1 1 1 0 0 1 \n",
      "\n",
      "Input frame 60 (96,):\n",
      "0 0 0 0 0 0 1 1 1 1 1 1 1 1 1 1 2 0 1 0 1 0 0 0 1 1 1 1 1 1 1 1 1 1 1 1 1 1 1 2 1 0 0 1 1 0 1 1 0 0 0 1 1 1 0 1 1 1 1 1 1 2 0 1 0 0 0 1 1 1 1 1 1 1 1 1 1 1 1 1 1 0 0 0 3 0 1 1 1 1 1 1 1 0 0 1\n",
      "Predicted frame (96,):\n",
      "0 0 0 0 0 0 1 1 1 1 1 1 1 1 1 1 2 0 1 0 1 0 0 0 1 1 1 1 1 1 1 1 1 1 1 1 1 1 1 2 1 0 0 1 1 1 1 1 0 0 0 1 1 1 0 1 1 1 1 1 1 2 0 1 0 0 0 1 1 1 1 1 1 1 1 1 1 1 1 1 1 0 0 0 0 0 1 1 1 1 1 1 1 0 0 1\n",
      "Predicted frame marked for differences at positions:  [45, 84]\n",
      "0 0 0 0 0 0 1 1 1 1 1 1 1 1 1 1 2 0 1 0 1 0 0 0 1 1 1 1 1 1 1 1 1 1 1 1 1 1 1 2 1 0 0 1 1 8 1 1 0 0 0 1 1 1 0 1 1 1 1 1 1 2 0 1 0 0 0 1 1 1 1 1 1 1 1 1 1 1 1 1 1 0 0 0 8 0 1 1 1 1 1 1 1 0 0 1 \n",
      "\n"
     ]
    },
    {
     "name": "stdout",
     "output_type": "stream",
     "text": [
      "Input frame 61 (96,):\n",
      "0 0 0 0 0 0 1 1 1 1 1 1 1 1 1 1 2 0 1 0 1 0 0 0 1 1 1 1 1 1 1 1 1 1 1 1 1 1 1 2 1 0 0 1 1 1 1 1 0 0 0 1 1 1 0 1 1 1 1 1 1 2 0 1 0 0 0 1 1 1 1 1 1 1 1 1 1 1 1 1 1 0 0 0 0 0 1 1 1 1 1 1 1 0 0 1\n",
      "Predicted frame (96,):\n",
      "0 0 0 0 0 0 1 1 1 1 1 1 1 1 1 1 2 0 1 0 1 0 0 0 1 1 1 1 1 1 1 1 1 1 1 1 1 1 1 2 1 0 0 1 1 1 1 1 0 0 0 1 1 1 0 1 1 1 1 1 1 2 0 1 0 0 0 1 1 1 1 1 1 1 1 1 1 1 1 1 1 0 0 1 3 0 1 1 1 1 1 1 1 0 0 1\n",
      "Predicted frame marked for differences at positions:  [83, 84]\n",
      "0 0 0 0 0 0 1 1 1 1 1 1 1 1 1 1 2 0 1 0 1 0 0 0 1 1 1 1 1 1 1 1 1 1 1 1 1 1 1 2 1 0 0 1 1 1 1 1 0 0 0 1 1 1 0 1 1 1 1 1 1 2 0 1 0 0 0 1 1 1 1 1 1 1 1 1 1 1 1 1 1 0 0 8 8 0 1 1 1 1 1 1 1 0 0 1 \n",
      "\n",
      "Input frame 62 (96,):\n",
      "0 0 0 0 0 0 1 1 1 1 1 1 1 1 1 1 2 0 1 0 1 0 0 0 1 1 1 1 1 1 1 1 1 1 1 1 1 1 1 2 1 0 0 1 1 1 1 1 0 0 0 1 1 1 0 1 1 1 1 1 1 2 0 1 0 0 0 1 1 1 1 1 1 1 1 1 1 1 1 1 1 0 0 1 3 0 1 1 1 1 1 1 1 0 0 1\n",
      "Predicted frame (96,):\n",
      "0 0 0 0 0 0 1 1 1 1 1 1 1 1 1 1 1 0 1 0 1 0 0 0 1 1 1 1 1 1 1 1 1 1 1 1 1 1 1 3 1 0 0 1 1 0 1 1 0 0 0 1 1 1 0 1 1 1 1 1 1 2 0 1 0 0 0 1 1 1 1 1 1 1 1 1 1 1 1 1 1 0 0 0 3 0 1 1 1 1 1 1 1 0 0 1\n",
      "Predicted frame marked for differences at positions:  [16, 39, 45, 83]\n",
      "0 0 0 0 0 0 1 1 1 1 1 1 1 1 1 1 8 0 1 0 1 0 0 0 1 1 1 1 1 1 1 1 1 1 1 1 1 1 1 8 1 0 0 1 1 8 1 1 0 0 0 1 1 1 0 1 1 1 1 1 1 2 0 1 0 0 0 1 1 1 1 1 1 1 1 1 1 1 1 1 1 0 0 8 3 0 1 1 1 1 1 1 1 0 0 1 \n",
      "\n",
      "Input frame 63 (96,):\n",
      "0 0 0 0 0 0 1 1 1 1 1 1 1 1 1 1 1 0 1 0 1 0 0 0 1 1 1 1 1 1 1 1 1 1 1 1 1 1 1 3 1 0 0 1 1 0 1 1 0 0 0 1 1 1 0 1 1 1 1 1 1 2 0 1 0 0 0 1 1 1 1 1 1 1 1 1 1 1 1 1 1 0 0 0 3 0 1 1 1 1 1 1 1 0 0 1\n",
      "Predicted frame (96,):\n",
      "0 0 0 0 0 0 1 1 1 1 1 1 1 1 1 1 0 0 1 0 1 0 0 0 1 1 1 1 1 1 1 1 1 1 1 1 1 1 1 2 1 0 0 1 1 0 1 1 0 0 0 1 1 1 0 1 1 1 1 1 1 2 0 1 0 0 0 1 1 0 1 1 1 1 1 1 1 1 1 1 1 0 0 0 3 0 1 1 1 1 1 1 1 0 0 1\n",
      "Predicted frame marked for differences at positions:  [16, 39, 69]\n",
      "0 0 0 0 0 0 1 1 1 1 1 1 1 1 1 1 8 0 1 0 1 0 0 0 1 1 1 1 1 1 1 1 1 1 1 1 1 1 1 8 1 0 0 1 1 0 1 1 0 0 0 1 1 1 0 1 1 1 1 1 1 2 0 1 0 0 0 1 1 8 1 1 1 1 1 1 1 1 1 1 1 0 0 0 3 0 1 1 1 1 1 1 1 0 0 1 \n",
      "\n",
      "Input frame 64 (96,):\n",
      "0 0 0 0 0 0 1 1 1 1 1 1 1 1 1 1 0 0 1 0 1 0 0 0 1 1 1 1 1 1 1 1 1 1 1 1 1 1 1 2 1 0 0 1 1 0 1 1 0 0 0 1 1 1 0 1 1 1 1 1 1 2 0 1 0 0 0 1 1 0 1 1 1 1 1 1 1 1 1 1 1 0 0 0 3 0 1 1 1 1 1 1 1 0 0 1\n",
      "Predicted frame (96,):\n",
      "0 0 0 0 0 0 1 1 1 1 1 1 1 1 1 1 0 0 1 0 1 0 0 0 1 1 1 1 1 1 1 1 1 1 1 1 1 1 1 2 1 0 0 1 1 0 1 1 0 0 0 1 1 1 0 1 1 1 1 1 1 2 0 1 0 0 0 1 1 0 1 1 1 1 1 1 1 1 1 1 1 0 0 0 0 0 1 1 1 1 1 1 1 0 0 1\n",
      "Predicted frame marked for differences at positions:  [84]\n",
      "0 0 0 0 0 0 1 1 1 1 1 1 1 1 1 1 0 0 1 0 1 0 0 0 1 1 1 1 1 1 1 1 1 1 1 1 1 1 1 2 1 0 0 1 1 0 1 1 0 0 0 1 1 1 0 1 1 1 1 1 1 2 0 1 0 0 0 1 1 0 1 1 1 1 1 1 1 1 1 1 1 0 0 0 8 0 1 1 1 1 1 1 1 0 0 1 \n",
      "\n",
      "Input frame 65 (96,):\n",
      "0 0 0 0 0 0 1 1 1 1 1 1 1 1 1 1 0 0 1 0 1 0 0 0 1 1 1 1 1 1 1 1 1 1 1 1 1 1 1 2 1 0 0 1 1 0 1 1 0 0 0 1 1 1 0 1 1 1 1 1 1 2 0 1 0 0 0 1 1 0 1 1 1 1 1 1 1 1 1 1 1 0 0 0 0 0 1 1 1 1 1 1 1 0 0 1\n",
      "Predicted frame (96,):\n",
      "0 0 0 0 0 0 1 1 1 1 1 1 1 1 1 1 0 0 1 0 1 0 0 0 1 1 1 1 1 1 1 1 1 1 1 1 1 1 1 1 1 0 0 1 1 0 1 1 0 0 0 1 1 1 0 1 1 1 1 1 1 2 0 1 0 0 0 1 1 1 1 1 1 1 1 1 1 1 1 1 1 0 0 0 1 0 1 1 1 1 1 1 1 0 0 1\n",
      "Predicted frame marked for differences at positions:  [39, 69, 84]\n",
      "0 0 0 0 0 0 1 1 1 1 1 1 1 1 1 1 0 0 1 0 1 0 0 0 1 1 1 1 1 1 1 1 1 1 1 1 1 1 1 8 1 0 0 1 1 0 1 1 0 0 0 1 1 1 0 1 1 1 1 1 1 2 0 1 0 0 0 1 1 8 1 1 1 1 1 1 1 1 1 1 1 0 0 0 8 0 1 1 1 1 1 1 1 0 0 1 \n",
      "\n",
      "Input frame 66 (96,):\n",
      "0 0 0 0 0 0 1 1 1 1 1 1 1 1 1 1 0 0 1 0 1 0 0 0 1 1 1 1 1 1 1 1 1 1 1 1 1 1 1 1 1 0 0 1 1 0 1 1 0 0 0 1 1 1 0 1 1 1 1 1 1 2 0 1 0 0 0 1 1 1 1 1 1 1 1 1 1 1 1 1 1 0 0 0 1 0 1 1 1 1 1 1 1 0 0 1\n",
      "Predicted frame (96,):\n",
      "0 0 0 0 0 0 1 1 1 1 1 1 1 1 1 1 0 0 1 0 1 0 0 0 1 1 1 1 1 1 1 1 1 1 1 1 1 1 1 2 1 0 0 1 1 0 1 1 0 0 0 1 1 1 0 1 1 1 1 1 1 2 0 1 0 0 0 1 1 1 1 1 1 1 1 1 1 1 1 1 1 0 0 0 0 0 1 1 1 1 1 1 1 0 0 1\n",
      "Predicted frame marked for differences at positions:  [39, 84]\n",
      "0 0 0 0 0 0 1 1 1 1 1 1 1 1 1 1 0 0 1 0 1 0 0 0 1 1 1 1 1 1 1 1 1 1 1 1 1 1 1 8 1 0 0 1 1 0 1 1 0 0 0 1 1 1 0 1 1 1 1 1 1 2 0 1 0 0 0 1 1 1 1 1 1 1 1 1 1 1 1 1 1 0 0 0 8 0 1 1 1 1 1 1 1 0 0 1 \n",
      "\n",
      "Input frame 67 (96,):\n",
      "0 0 0 0 0 0 1 1 1 1 1 1 1 1 1 1 0 0 1 0 1 0 0 0 1 1 1 1 1 1 1 1 1 1 1 1 1 1 1 2 1 0 0 1 1 0 1 1 0 0 0 1 1 1 0 1 1 1 1 1 1 2 0 1 0 0 0 1 1 1 1 1 1 1 1 1 1 1 1 1 1 0 0 0 0 0 1 1 1 1 1 1 1 0 0 1\n",
      "Predicted frame (96,):\n",
      "0 0 0 0 0 0 1 1 1 1 1 1 1 1 1 1 0 0 1 0 1 0 0 0 1 1 1 1 1 1 1 1 1 1 1 1 1 1 1 2 1 0 0 1 1 0 1 1 0 0 0 1 1 1 0 1 1 1 1 1 1 2 0 1 0 0 0 1 1 1 1 1 1 1 1 1 1 1 1 1 1 0 0 0 0 0 1 1 1 1 1 1 1 0 0 1\n",
      "Predicted frame marked for differences at positions:  []\n",
      "0 0 0 0 0 0 1 1 1 1 1 1 1 1 1 1 0 0 1 0 1 0 0 0 1 1 1 1 1 1 1 1 1 1 1 1 1 1 1 2 1 0 0 1 1 0 1 1 0 0 0 1 1 1 0 1 1 1 1 1 1 2 0 1 0 0 0 1 1 1 1 1 1 1 1 1 1 1 1 1 1 0 0 0 0 0 1 1 1 1 1 1 1 0 0 1 \n",
      "\n",
      "Input frame 68 (96,):\n",
      "0 0 0 0 0 0 1 1 1 1 1 1 1 1 1 1 0 0 1 0 1 0 0 0 1 1 1 1 1 1 1 1 1 1 1 1 1 1 1 2 1 0 0 1 1 0 1 1 0 0 0 1 1 1 0 1 1 1 1 1 1 2 0 1 0 0 0 1 1 1 1 1 1 1 1 1 1 1 1 1 1 0 0 0 0 0 1 1 1 1 1 1 1 0 0 1\n",
      "Predicted frame (96,):\n",
      "1 0 0 0 0 0 1 1 1 1 1 1 1 1 1 1 0 0 1 0 1 0 0 0 1 1 1 1 1 1 1 1 1 1 1 1 1 1 1 2 1 0 0 1 1 1 1 1 0 0 0 1 1 1 0 1 1 1 1 1 1 2 0 1 0 0 0 1 1 1 1 1 1 1 1 1 1 1 1 1 1 0 0 0 0 0 1 1 1 1 1 1 1 0 0 1\n",
      "Predicted frame marked for differences at positions:  [0, 45]\n",
      "8 0 0 0 0 0 1 1 1 1 1 1 1 1 1 1 0 0 1 0 1 0 0 0 1 1 1 1 1 1 1 1 1 1 1 1 1 1 1 2 1 0 0 1 1 8 1 1 0 0 0 1 1 1 0 1 1 1 1 1 1 2 0 1 0 0 0 1 1 1 1 1 1 1 1 1 1 1 1 1 1 0 0 0 0 0 1 1 1 1 1 1 1 0 0 1 \n",
      "\n",
      "Input frame 69 (96,):\n",
      "1 0 0 0 0 0 1 1 1 1 1 1 1 1 1 1 0 0 1 0 1 0 0 0 1 1 1 1 1 1 1 1 1 1 1 1 1 1 1 2 1 0 0 1 1 1 1 1 0 0 0 1 1 1 0 1 1 1 1 1 1 2 0 1 0 0 0 1 1 1 1 1 1 1 1 1 1 1 1 1 1 0 0 0 0 0 1 1 1 1 1 1 1 0 0 1\n",
      "Predicted frame (96,):\n",
      "0 0 0 0 0 0 1 1 1 1 1 1 1 1 1 1 0 0 1 0 1 0 0 0 1 1 1 1 1 1 1 1 1 1 1 1 1 1 1 3 1 0 0 1 1 0 1 1 0 0 1 1 1 1 0 1 1 1 1 1 1 2 0 1 0 0 0 1 1 0 1 1 1 1 1 1 1 1 1 1 1 0 0 1 3 0 1 1 1 1 1 1 1 0 0 1\n",
      "Predicted frame marked for differences at positions:  [0, 39, 45, 50, 69, 83, 84]\n",
      "8 0 0 0 0 0 1 1 1 1 1 1 1 1 1 1 0 0 1 0 1 0 0 0 1 1 1 1 1 1 1 1 1 1 1 1 1 1 1 8 1 0 0 1 1 8 1 1 0 0 8 1 1 1 0 1 1 1 1 1 1 2 0 1 0 0 0 1 1 8 1 1 1 1 1 1 1 1 1 1 1 0 0 8 8 0 1 1 1 1 1 1 1 0 0 1 \n",
      "\n",
      "Input frame 70 (96,):\n",
      "0 0 0 0 0 0 1 1 1 1 1 1 1 1 1 1 0 0 1 0 1 0 0 0 1 1 1 1 1 1 1 1 1 1 1 1 1 1 1 3 1 0 0 1 1 0 1 1 0 0 1 1 1 1 0 1 1 1 1 1 1 2 0 1 0 0 0 1 1 0 1 1 1 1 1 1 1 1 1 1 1 0 0 1 3 0 1 1 1 1 1 1 1 0 0 1\n",
      "Predicted frame (96,):\n",
      "0 0 0 0 0 0 1 1 1 1 1 1 1 1 1 1 2 0 1 0 1 0 0 0 1 1 1 1 1 1 1 1 1 1 1 1 1 1 1 2 1 0 0 1 1 1 1 1 0 0 0 1 1 1 0 1 1 1 1 1 1 2 0 1 0 0 0 1 1 0 1 1 1 1 1 1 1 1 1 1 1 0 0 0 3 0 1 1 1 1 1 1 1 0 0 1\n",
      "Predicted frame marked for differences at positions:  [16, 39, 45, 50, 83]\n",
      "0 0 0 0 0 0 1 1 1 1 1 1 1 1 1 1 8 0 1 0 1 0 0 0 1 1 1 1 1 1 1 1 1 1 1 1 1 1 1 8 1 0 0 1 1 8 1 1 0 0 8 1 1 1 0 1 1 1 1 1 1 2 0 1 0 0 0 1 1 0 1 1 1 1 1 1 1 1 1 1 1 0 0 8 3 0 1 1 1 1 1 1 1 0 0 1 \n",
      "\n",
      "Input frame 71 (96,):\n",
      "0 0 0 0 0 0 1 1 1 1 1 1 1 1 1 1 2 0 1 0 1 0 0 0 1 1 1 1 1 1 1 1 1 1 1 1 1 1 1 2 1 0 0 1 1 1 1 1 0 0 0 1 1 1 0 1 1 1 1 1 1 2 0 1 0 0 0 1 1 0 1 1 1 1 1 1 1 1 1 1 1 0 0 0 3 0 1 1 1 1 1 1 1 0 0 1\n",
      "Predicted frame (96,):\n",
      "0 0 0 0 0 0 1 1 1 1 1 1 1 1 1 1 2 0 1 0 1 0 0 0 1 1 1 1 1 1 1 1 1 1 1 1 1 1 1 3 1 0 0 1 1 1 1 1 0 0 0 1 1 1 0 1 1 1 1 1 1 2 0 1 0 0 0 1 1 1 1 1 1 1 1 1 1 1 1 1 1 0 0 1 3 0 1 1 1 1 1 1 1 0 0 1\n",
      "Predicted frame marked for differences at positions:  [39, 69, 83]\n",
      "0 0 0 0 0 0 1 1 1 1 1 1 1 1 1 1 2 0 1 0 1 0 0 0 1 1 1 1 1 1 1 1 1 1 1 1 1 1 1 8 1 0 0 1 1 1 1 1 0 0 0 1 1 1 0 1 1 1 1 1 1 2 0 1 0 0 0 1 1 8 1 1 1 1 1 1 1 1 1 1 1 0 0 8 3 0 1 1 1 1 1 1 1 0 0 1 \n",
      "\n",
      "Input frame 72 (96,):\n",
      "0 0 0 0 0 0 1 1 1 1 1 1 1 1 1 1 2 0 1 0 1 0 0 0 1 1 1 1 1 1 1 1 1 1 1 1 1 1 1 3 1 0 0 1 1 1 1 1 0 0 0 1 1 1 0 1 1 1 1 1 1 2 0 1 0 0 0 1 1 1 1 1 1 1 1 1 1 1 1 1 1 0 0 1 3 0 1 1 1 1 1 1 1 0 0 1\n",
      "Predicted frame (96,):\n",
      "0 0 0 0 0 0 1 1 1 1 1 1 1 1 1 1 2 0 1 0 1 0 0 0 1 1 1 1 1 1 1 1 1 1 1 1 1 1 1 2 1 0 0 1 1 1 1 1 0 0 0 1 1 1 0 1 1 1 1 1 1 2 0 1 0 0 0 1 1 0 1 1 1 1 1 1 1 1 1 1 1 0 0 1 3 0 1 1 1 1 1 1 1 0 0 1\n",
      "Predicted frame marked for differences at positions:  [39, 69]\n",
      "0 0 0 0 0 0 1 1 1 1 1 1 1 1 1 1 2 0 1 0 1 0 0 0 1 1 1 1 1 1 1 1 1 1 1 1 1 1 1 8 1 0 0 1 1 1 1 1 0 0 0 1 1 1 0 1 1 1 1 1 1 2 0 1 0 0 0 1 1 8 1 1 1 1 1 1 1 1 1 1 1 0 0 1 3 0 1 1 1 1 1 1 1 0 0 1 \n",
      "\n"
     ]
    },
    {
     "name": "stdout",
     "output_type": "stream",
     "text": [
      "Input frame 73 (96,):\n",
      "0 0 0 0 0 0 1 1 1 1 1 1 1 1 1 1 2 0 1 0 1 0 0 0 1 1 1 1 1 1 1 1 1 1 1 1 1 1 1 2 1 0 0 1 1 1 1 1 0 0 0 1 1 1 0 1 1 1 1 1 1 2 0 1 0 0 0 1 1 0 1 1 1 1 1 1 1 1 1 1 1 0 0 1 3 0 1 1 1 1 1 1 1 0 0 1\n",
      "Predicted frame (96,):\n",
      "0 0 0 0 0 0 1 1 1 1 1 1 1 1 1 1 2 0 1 0 1 0 0 0 1 1 1 1 1 1 1 1 1 1 1 1 1 1 1 2 1 0 0 1 1 1 1 1 0 0 0 1 1 1 0 1 1 1 1 1 1 2 0 1 0 0 0 1 1 1 1 1 1 1 1 1 1 1 1 1 1 0 0 1 3 0 1 1 1 1 1 1 1 0 0 1\n",
      "Predicted frame marked for differences at positions:  [69]\n",
      "0 0 0 0 0 0 1 1 1 1 1 1 1 1 1 1 2 0 1 0 1 0 0 0 1 1 1 1 1 1 1 1 1 1 1 1 1 1 1 2 1 0 0 1 1 1 1 1 0 0 0 1 1 1 0 1 1 1 1 1 1 2 0 1 0 0 0 1 1 8 1 1 1 1 1 1 1 1 1 1 1 0 0 1 3 0 1 1 1 1 1 1 1 0 0 1 \n",
      "\n",
      "Input frame 74 (96,):\n",
      "0 0 0 0 0 0 1 1 1 1 1 1 1 1 1 1 2 0 1 0 1 0 0 0 1 1 1 1 1 1 1 1 1 1 1 1 1 1 1 2 1 0 0 1 1 1 1 1 0 0 0 1 1 1 0 1 1 1 1 1 1 2 0 1 0 0 0 1 1 1 1 1 1 1 1 1 1 1 1 1 1 0 0 1 3 0 1 1 1 1 1 1 1 0 0 1\n",
      "Predicted frame (96,):\n",
      "0 0 0 0 0 0 1 1 1 1 1 1 1 1 1 1 2 0 1 0 1 0 0 0 1 1 1 1 1 1 1 1 1 1 1 1 1 1 1 3 1 0 0 1 1 1 1 1 0 0 0 1 1 1 0 1 1 1 1 1 1 2 0 1 0 0 0 1 1 1 1 1 1 1 1 1 1 1 1 1 1 0 0 0 3 0 1 1 1 1 1 1 1 0 0 1\n",
      "Predicted frame marked for differences at positions:  [39, 83]\n",
      "0 0 0 0 0 0 1 1 1 1 1 1 1 1 1 1 2 0 1 0 1 0 0 0 1 1 1 1 1 1 1 1 1 1 1 1 1 1 1 8 1 0 0 1 1 1 1 1 0 0 0 1 1 1 0 1 1 1 1 1 1 2 0 1 0 0 0 1 1 1 1 1 1 1 1 1 1 1 1 1 1 0 0 8 3 0 1 1 1 1 1 1 1 0 0 1 \n",
      "\n",
      "Input frame 75 (96,):\n",
      "0 0 0 0 0 0 1 1 1 1 1 1 1 1 1 1 2 0 1 0 1 0 0 0 1 1 1 1 1 1 1 1 1 1 1 1 1 1 1 3 1 0 0 1 1 1 1 1 0 0 0 1 1 1 0 1 1 1 1 1 1 2 0 1 0 0 0 1 1 1 1 1 1 1 1 1 1 1 1 1 1 0 0 0 3 0 1 1 1 1 1 1 1 0 0 1\n",
      "Predicted frame (96,):\n",
      "0 0 0 0 0 0 1 1 1 1 1 1 1 1 1 1 2 0 1 0 1 0 0 0 1 1 1 1 1 1 1 1 1 1 1 1 1 1 1 2 1 0 0 1 1 1 1 1 0 0 0 1 1 1 0 1 1 1 1 1 1 2 0 1 0 0 0 1 1 0 1 1 1 1 1 1 1 1 1 1 1 0 0 0 3 0 1 1 1 1 1 1 1 0 0 1\n",
      "Predicted frame marked for differences at positions:  [39, 69]\n",
      "0 0 0 0 0 0 1 1 1 1 1 1 1 1 1 1 2 0 1 0 1 0 0 0 1 1 1 1 1 1 1 1 1 1 1 1 1 1 1 8 1 0 0 1 1 1 1 1 0 0 0 1 1 1 0 1 1 1 1 1 1 2 0 1 0 0 0 1 1 8 1 1 1 1 1 1 1 1 1 1 1 0 0 0 3 0 1 1 1 1 1 1 1 0 0 1 \n",
      "\n",
      "Input frame 76 (96,):\n",
      "0 0 0 0 0 0 1 1 1 1 1 1 1 1 1 1 2 0 1 0 1 0 0 0 1 1 1 1 1 1 1 1 1 1 1 1 1 1 1 2 1 0 0 1 1 1 1 1 0 0 0 1 1 1 0 1 1 1 1 1 1 2 0 1 0 0 0 1 1 0 1 1 1 1 1 1 1 1 1 1 1 0 0 0 3 0 1 1 1 1 1 1 1 0 0 1\n",
      "Predicted frame (96,):\n",
      "1 0 0 0 0 0 1 1 1 1 1 1 1 1 1 1 2 0 1 0 1 0 0 0 1 1 1 1 1 1 1 1 1 1 1 1 1 1 1 2 1 0 0 1 1 1 1 1 0 0 0 1 1 1 0 1 1 1 1 1 1 2 0 1 3 0 0 1 1 1 1 1 1 1 1 1 1 1 1 1 1 0 0 0 3 0 1 1 1 1 1 1 1 0 0 1\n",
      "Predicted frame marked for differences at positions:  [0, 64, 69]\n",
      "8 0 0 0 0 0 1 1 1 1 1 1 1 1 1 1 2 0 1 0 1 0 0 0 1 1 1 1 1 1 1 1 1 1 1 1 1 1 1 2 1 0 0 1 1 1 1 1 0 0 0 1 1 1 0 1 1 1 1 1 1 2 0 1 8 0 0 1 1 8 1 1 1 1 1 1 1 1 1 1 1 0 0 0 3 0 1 1 1 1 1 1 1 0 0 1 \n",
      "\n",
      "Input frame 77 (96,):\n",
      "1 0 0 0 0 0 1 1 1 1 1 1 1 1 1 1 2 0 1 0 1 0 0 0 1 1 1 1 1 1 1 1 1 1 1 1 1 1 1 2 1 0 0 1 1 1 1 1 0 0 0 1 1 1 0 1 1 1 1 1 1 2 0 1 3 0 0 1 1 1 1 1 1 1 1 1 1 1 1 1 1 0 0 0 3 0 1 1 1 1 1 1 1 0 0 1\n",
      "Predicted frame (96,):\n",
      "0 0 0 0 0 0 1 1 1 1 1 1 1 1 1 1 2 0 1 0 1 0 0 0 1 1 1 1 1 1 1 1 1 1 1 1 1 1 1 2 1 0 0 1 1 1 1 1 0 0 0 1 1 1 0 1 1 1 1 1 1 2 0 1 0 0 0 1 1 0 1 1 1 1 1 1 1 1 1 1 1 0 0 0 3 0 1 1 1 1 1 1 1 0 0 1\n",
      "Predicted frame marked for differences at positions:  [0, 64, 69]\n",
      "8 0 0 0 0 0 1 1 1 1 1 1 1 1 1 1 2 0 1 0 1 0 0 0 1 1 1 1 1 1 1 1 1 1 1 1 1 1 1 2 1 0 0 1 1 1 1 1 0 0 0 1 1 1 0 1 1 1 1 1 1 2 0 1 8 0 0 1 1 8 1 1 1 1 1 1 1 1 1 1 1 0 0 0 3 0 1 1 1 1 1 1 1 0 0 1 \n",
      "\n",
      "Input frame 78 (96,):\n",
      "0 0 0 0 0 0 1 1 1 1 1 1 1 1 1 1 2 0 1 0 1 0 0 0 1 1 1 1 1 1 1 1 1 1 1 1 1 1 1 2 1 0 0 1 1 1 1 1 0 0 0 1 1 1 0 1 1 1 1 1 1 2 0 1 0 0 0 1 1 0 1 1 1 1 1 1 1 1 1 1 1 0 0 0 3 0 1 1 1 1 1 1 1 0 0 1\n",
      "Predicted frame (96,):\n",
      "0 0 0 0 0 0 1 1 1 1 1 1 1 1 1 1 2 0 1 0 1 0 0 0 1 1 1 1 1 1 1 1 1 1 1 1 1 1 1 2 1 0 0 1 1 1 1 1 0 0 0 1 1 1 0 1 1 1 1 1 1 2 0 1 0 0 0 1 1 1 1 1 1 1 1 1 1 1 1 1 1 0 0 1 3 0 1 1 1 1 1 1 1 0 0 1\n",
      "Predicted frame marked for differences at positions:  [69, 83]\n",
      "0 0 0 0 0 0 1 1 1 1 1 1 1 1 1 1 2 0 1 0 1 0 0 0 1 1 1 1 1 1 1 1 1 1 1 1 1 1 1 2 1 0 0 1 1 1 1 1 0 0 0 1 1 1 0 1 1 1 1 1 1 2 0 1 0 0 0 1 1 8 1 1 1 1 1 1 1 1 1 1 1 0 0 8 3 0 1 1 1 1 1 1 1 0 0 1 \n",
      "\n",
      "Input frame 79 (96,):\n",
      "0 0 0 0 0 0 1 1 1 1 1 1 1 1 1 1 2 0 1 0 1 0 0 0 1 1 1 1 1 1 1 1 1 1 1 1 1 1 1 2 1 0 0 1 1 1 1 1 0 0 0 1 1 1 0 1 1 1 1 1 1 2 0 1 0 0 0 1 1 1 1 1 1 1 1 1 1 1 1 1 1 0 0 1 3 0 1 1 1 1 1 1 1 0 0 1\n",
      "Predicted frame (96,):\n",
      "0 0 0 0 0 0 1 1 1 1 1 1 1 1 1 1 2 0 1 0 1 0 0 0 1 1 1 1 1 1 1 1 1 1 1 1 1 1 1 2 1 0 0 1 1 1 1 1 0 0 0 1 1 1 0 1 1 1 1 1 1 2 0 1 0 0 0 1 1 1 1 1 1 1 1 1 1 1 1 1 1 0 0 1 0 0 1 1 1 1 1 1 1 0 0 1\n",
      "Predicted frame marked for differences at positions:  [84]\n",
      "0 0 0 0 0 0 1 1 1 1 1 1 1 1 1 1 2 0 1 0 1 0 0 0 1 1 1 1 1 1 1 1 1 1 1 1 1 1 1 2 1 0 0 1 1 1 1 1 0 0 0 1 1 1 0 1 1 1 1 1 1 2 0 1 0 0 0 1 1 1 1 1 1 1 1 1 1 1 1 1 1 0 0 1 8 0 1 1 1 1 1 1 1 0 0 1 \n",
      "\n",
      "Input frame 80 (96,):\n",
      "0 0 0 0 0 0 1 1 1 1 1 1 1 1 1 1 2 0 1 0 1 0 0 0 1 1 1 1 1 1 1 1 1 1 1 1 1 1 1 2 1 0 0 1 1 1 1 1 0 0 0 1 1 1 0 1 1 1 1 1 1 2 0 1 0 0 0 1 1 1 1 1 1 1 1 1 1 1 1 1 1 0 0 1 0 0 1 1 1 1 1 1 1 0 0 1\n",
      "Predicted frame (96,):\n",
      "0 0 0 0 0 0 1 1 1 1 1 1 1 1 1 1 2 0 1 0 1 0 0 0 1 1 1 1 1 1 1 1 1 1 1 1 1 1 1 2 1 0 0 1 1 1 1 1 0 0 0 1 1 1 0 1 1 1 1 1 1 2 0 1 0 0 0 1 1 1 1 1 1 1 1 1 1 1 1 1 1 0 0 1 0 0 1 1 1 1 1 1 1 0 0 1\n",
      "Predicted frame marked for differences at positions:  []\n",
      "0 0 0 0 0 0 1 1 1 1 1 1 1 1 1 1 2 0 1 0 1 0 0 0 1 1 1 1 1 1 1 1 1 1 1 1 1 1 1 2 1 0 0 1 1 1 1 1 0 0 0 1 1 1 0 1 1 1 1 1 1 2 0 1 0 0 0 1 1 1 1 1 1 1 1 1 1 1 1 1 1 0 0 1 0 0 1 1 1 1 1 1 1 0 0 1 \n",
      "\n",
      "Input frame 81 (96,):\n",
      "0 0 0 0 0 0 1 1 1 1 1 1 1 1 1 1 2 0 1 0 1 0 0 0 1 1 1 1 1 1 1 1 1 1 1 1 1 1 1 2 1 0 0 1 1 1 1 1 0 0 0 1 1 1 0 1 1 1 1 1 1 2 0 1 0 0 0 1 1 1 1 1 1 1 1 1 1 1 1 1 1 0 0 1 0 0 1 1 1 1 1 1 1 0 0 1\n",
      "Predicted frame (96,):\n",
      "0 0 0 0 0 0 1 1 1 1 1 1 1 1 1 1 2 0 1 0 1 0 0 0 1 1 1 1 1 1 1 1 1 1 1 1 1 1 1 2 1 0 0 1 1 1 1 1 0 0 0 1 1 1 0 1 1 1 1 1 1 2 0 1 0 0 0 1 1 1 1 1 1 1 1 1 1 1 1 1 1 0 0 1 0 0 1 1 1 1 1 1 1 0 0 1\n",
      "Predicted frame marked for differences at positions:  []\n",
      "0 0 0 0 0 0 1 1 1 1 1 1 1 1 1 1 2 0 1 0 1 0 0 0 1 1 1 1 1 1 1 1 1 1 1 1 1 1 1 2 1 0 0 1 1 1 1 1 0 0 0 1 1 1 0 1 1 1 1 1 1 2 0 1 0 0 0 1 1 1 1 1 1 1 1 1 1 1 1 1 1 0 0 1 0 0 1 1 1 1 1 1 1 0 0 1 \n",
      "\n",
      "Input frame 82 (96,):\n",
      "0 0 0 0 0 0 1 1 1 1 1 1 1 1 1 1 2 0 1 0 1 0 0 0 1 1 1 1 1 1 1 1 1 1 1 1 1 1 1 2 1 0 0 1 1 1 1 1 0 0 0 1 1 1 0 1 1 1 1 1 1 2 0 1 0 0 0 1 1 1 1 1 1 1 1 1 1 1 1 1 1 0 0 1 0 0 1 1 1 1 1 1 1 0 0 1\n",
      "Predicted frame (96,):\n",
      "0 0 0 0 0 0 1 1 1 1 1 1 1 1 1 1 2 0 1 0 1 0 0 0 1 1 1 1 1 1 1 1 1 1 1 1 1 1 1 2 1 0 0 1 1 0 1 1 0 0 0 1 1 1 0 1 1 1 1 1 1 2 0 1 0 0 0 1 1 1 1 1 1 1 1 1 1 1 1 1 1 0 0 1 0 0 1 1 1 1 1 1 1 0 0 1\n",
      "Predicted frame marked for differences at positions:  [45]\n",
      "0 0 0 0 0 0 1 1 1 1 1 1 1 1 1 1 2 0 1 0 1 0 0 0 1 1 1 1 1 1 1 1 1 1 1 1 1 1 1 2 1 0 0 1 1 8 1 1 0 0 0 1 1 1 0 1 1 1 1 1 1 2 0 1 0 0 0 1 1 1 1 1 1 1 1 1 1 1 1 1 1 0 0 1 0 0 1 1 1 1 1 1 1 0 0 1 \n",
      "\n",
      "Input frame 83 (96,):\n",
      "0 0 0 0 0 0 1 1 1 1 1 1 1 1 1 1 2 0 1 0 1 0 0 0 1 1 1 1 1 1 1 1 1 1 1 1 1 1 1 2 1 0 0 1 1 0 1 1 0 0 0 1 1 1 0 1 1 1 1 1 1 2 0 1 0 0 0 1 1 1 1 1 1 1 1 1 1 1 1 1 1 0 0 1 0 0 1 1 1 1 1 1 1 0 0 1\n",
      "Predicted frame (96,):\n",
      "0 0 0 0 0 0 1 1 1 1 1 1 1 1 1 1 2 0 1 0 1 0 0 0 1 1 1 1 1 1 1 1 1 1 1 1 1 1 1 2 1 0 0 1 1 1 1 1 0 0 0 1 1 1 0 1 1 1 1 1 1 2 0 1 0 0 0 1 1 1 1 1 1 1 1 1 1 1 1 1 1 0 0 0 0 0 1 1 1 1 1 1 1 0 0 1\n",
      "Predicted frame marked for differences at positions:  [45, 83]\n",
      "0 0 0 0 0 0 1 1 1 1 1 1 1 1 1 1 2 0 1 0 1 0 0 0 1 1 1 1 1 1 1 1 1 1 1 1 1 1 1 2 1 0 0 1 1 8 1 1 0 0 0 1 1 1 0 1 1 1 1 1 1 2 0 1 0 0 0 1 1 1 1 1 1 1 1 1 1 1 1 1 1 0 0 8 0 0 1 1 1 1 1 1 1 0 0 1 \n",
      "\n",
      "Input frame 84 (96,):\n",
      "0 0 0 0 0 0 1 1 1 1 1 1 1 1 1 1 2 0 1 0 1 0 0 0 1 1 1 1 1 1 1 1 1 1 1 1 1 1 1 2 1 0 0 1 1 1 1 1 0 0 0 1 1 1 0 1 1 1 1 1 1 2 0 1 0 0 0 1 1 1 1 1 1 1 1 1 1 1 1 1 1 0 0 0 0 0 1 1 1 1 1 1 1 0 0 1\n",
      "Predicted frame (96,):\n",
      "0 0 0 0 0 0 1 1 1 1 1 1 1 1 1 1 2 0 1 0 1 0 0 0 1 1 1 1 1 1 1 1 1 1 1 1 1 1 1 2 1 0 0 1 1 1 1 1 0 0 0 1 1 1 0 1 1 1 1 1 1 2 0 1 0 0 0 1 1 1 1 1 1 1 1 1 1 1 1 1 1 0 0 1 3 0 1 1 1 1 1 1 1 0 0 1\n",
      "Predicted frame marked for differences at positions:  [83, 84]\n",
      "0 0 0 0 0 0 1 1 1 1 1 1 1 1 1 1 2 0 1 0 1 0 0 0 1 1 1 1 1 1 1 1 1 1 1 1 1 1 1 2 1 0 0 1 1 1 1 1 0 0 0 1 1 1 0 1 1 1 1 1 1 2 0 1 0 0 0 1 1 1 1 1 1 1 1 1 1 1 1 1 1 0 0 8 8 0 1 1 1 1 1 1 1 0 0 1 \n",
      "\n"
     ]
    },
    {
     "name": "stdout",
     "output_type": "stream",
     "text": [
      "Input frame 85 (96,):\n",
      "0 0 0 0 0 0 1 1 1 1 1 1 1 1 1 1 2 0 1 0 1 0 0 0 1 1 1 1 1 1 1 1 1 1 1 1 1 1 1 2 1 0 0 1 1 1 1 1 0 0 0 1 1 1 0 1 1 1 1 1 1 2 0 1 0 0 0 1 1 1 1 1 1 1 1 1 1 1 1 1 1 0 0 1 3 0 1 1 1 1 1 1 1 0 0 1\n",
      "Predicted frame (96,):\n",
      "0 0 0 0 0 0 1 1 1 1 1 1 1 1 1 1 3 0 1 0 1 0 0 0 1 1 1 1 1 1 1 1 1 1 1 1 1 1 1 2 1 0 0 1 1 0 1 1 0 0 0 1 1 1 0 1 1 1 1 1 1 2 0 1 0 0 0 1 1 1 1 1 1 1 1 1 1 1 1 1 1 0 0 1 3 0 1 1 1 1 1 1 1 0 0 1\n",
      "Predicted frame marked for differences at positions:  [16, 45]\n",
      "0 0 0 0 0 0 1 1 1 1 1 1 1 1 1 1 8 0 1 0 1 0 0 0 1 1 1 1 1 1 1 1 1 1 1 1 1 1 1 2 1 0 0 1 1 8 1 1 0 0 0 1 1 1 0 1 1 1 1 1 1 2 0 1 0 0 0 1 1 1 1 1 1 1 1 1 1 1 1 1 1 0 0 1 3 0 1 1 1 1 1 1 1 0 0 1 \n",
      "\n",
      "Input frame 86 (96,):\n",
      "0 0 0 0 0 0 1 1 1 1 1 1 1 1 1 1 3 0 1 0 1 0 0 0 1 1 1 1 1 1 1 1 1 1 1 1 1 1 1 2 1 0 0 1 1 0 1 1 0 0 0 1 1 1 0 1 1 1 1 1 1 2 0 1 0 0 0 1 1 1 1 1 1 1 1 1 1 1 1 1 1 0 0 1 3 0 1 1 1 1 1 1 1 0 0 1\n",
      "Predicted frame (96,):\n",
      "0 0 0 0 0 0 1 1 1 1 1 1 1 1 1 1 0 0 1 0 1 0 0 0 1 1 1 1 1 1 1 1 1 1 1 1 1 1 1 2 1 0 0 1 1 0 1 1 0 0 0 1 1 1 0 1 1 1 1 1 1 2 0 1 0 0 0 1 1 1 1 1 1 1 1 1 1 1 1 1 1 0 0 1 3 0 1 1 1 1 1 1 1 0 0 1\n",
      "Predicted frame marked for differences at positions:  [16]\n",
      "0 0 0 0 0 0 1 1 1 1 1 1 1 1 1 1 8 0 1 0 1 0 0 0 1 1 1 1 1 1 1 1 1 1 1 1 1 1 1 2 1 0 0 1 1 0 1 1 0 0 0 1 1 1 0 1 1 1 1 1 1 2 0 1 0 0 0 1 1 1 1 1 1 1 1 1 1 1 1 1 1 0 0 1 3 0 1 1 1 1 1 1 1 0 0 1 \n",
      "\n",
      "Input frame 87 (96,):\n",
      "0 0 0 0 0 0 1 1 1 1 1 1 1 1 1 1 0 0 1 0 1 0 0 0 1 1 1 1 1 1 1 1 1 1 1 1 1 1 1 2 1 0 0 1 1 0 1 1 0 0 0 1 1 1 0 1 1 1 1 1 1 2 0 1 0 0 0 1 1 1 1 1 1 1 1 1 1 1 1 1 1 0 0 1 3 0 1 1 1 1 1 1 1 0 0 1\n",
      "Predicted frame (96,):\n",
      "0 0 0 0 0 0 1 1 1 1 1 1 1 1 1 1 0 0 1 0 1 0 0 0 1 1 1 1 1 1 1 1 1 1 1 1 1 1 1 2 1 0 0 1 1 0 1 1 0 0 0 1 1 1 0 1 1 1 1 1 1 2 0 1 0 0 0 1 1 1 1 1 1 1 1 1 1 1 1 1 1 0 0 1 3 0 1 1 1 1 1 1 1 0 0 1\n",
      "Predicted frame marked for differences at positions:  []\n",
      "0 0 0 0 0 0 1 1 1 1 1 1 1 1 1 1 0 0 1 0 1 0 0 0 1 1 1 1 1 1 1 1 1 1 1 1 1 1 1 2 1 0 0 1 1 0 1 1 0 0 0 1 1 1 0 1 1 1 1 1 1 2 0 1 0 0 0 1 1 1 1 1 1 1 1 1 1 1 1 1 1 0 0 1 3 0 1 1 1 1 1 1 1 0 0 1 \n",
      "\n",
      "Input frame 88 (96,):\n",
      "0 0 0 0 0 0 1 1 1 1 1 1 1 1 1 1 0 0 1 0 1 0 0 0 1 1 1 1 1 1 1 1 1 1 1 1 1 1 1 2 1 0 0 1 1 0 1 1 0 0 0 1 1 1 0 1 1 1 1 1 1 2 0 1 0 0 0 1 1 1 1 1 1 1 1 1 1 1 1 1 1 0 0 1 3 0 1 1 1 1 1 1 1 0 0 1\n",
      "Predicted frame (96,):\n",
      "0 0 0 0 0 0 1 1 1 1 1 1 1 1 1 1 0 0 1 0 1 0 0 0 1 1 1 1 1 1 1 1 1 1 1 1 1 1 1 2 1 0 0 1 1 1 1 1 0 0 0 1 1 1 0 1 1 1 1 1 1 2 0 1 0 0 0 1 1 1 1 1 1 1 1 1 1 1 1 1 1 0 0 0 0 0 1 1 1 1 1 1 1 0 0 1\n",
      "Predicted frame marked for differences at positions:  [45, 83, 84]\n",
      "0 0 0 0 0 0 1 1 1 1 1 1 1 1 1 1 0 0 1 0 1 0 0 0 1 1 1 1 1 1 1 1 1 1 1 1 1 1 1 2 1 0 0 1 1 8 1 1 0 0 0 1 1 1 0 1 1 1 1 1 1 2 0 1 0 0 0 1 1 1 1 1 1 1 1 1 1 1 1 1 1 0 0 8 8 0 1 1 1 1 1 1 1 0 0 1 \n",
      "\n",
      "Input frame 89 (96,):\n",
      "0 0 0 0 0 0 1 1 1 1 1 1 1 1 1 1 0 0 1 0 1 0 0 0 1 1 1 1 1 1 1 1 1 1 1 1 1 1 1 2 1 0 0 1 1 1 1 1 0 0 0 1 1 1 0 1 1 1 1 1 1 2 0 1 0 0 0 1 1 1 1 1 1 1 1 1 1 1 1 1 1 0 0 0 0 0 1 1 1 1 1 1 1 0 0 1\n",
      "Predicted frame (96,):\n",
      "0 0 0 0 0 0 1 1 1 1 1 1 1 1 1 1 0 0 0 0 1 0 0 0 1 1 1 1 1 1 1 1 1 1 1 1 1 1 1 2 1 0 0 1 1 0 1 1 0 0 0 1 1 1 0 1 1 1 1 1 1 2 0 1 0 0 0 1 1 1 1 1 1 1 1 1 1 1 1 1 1 0 0 0 3 0 1 1 1 1 1 1 1 0 0 1\n",
      "Predicted frame marked for differences at positions:  [18, 45, 84]\n",
      "0 0 0 0 0 0 1 1 1 1 1 1 1 1 1 1 0 0 8 0 1 0 0 0 1 1 1 1 1 1 1 1 1 1 1 1 1 1 1 2 1 0 0 1 1 8 1 1 0 0 0 1 1 1 0 1 1 1 1 1 1 2 0 1 0 0 0 1 1 1 1 1 1 1 1 1 1 1 1 1 1 0 0 0 8 0 1 1 1 1 1 1 1 0 0 1 \n",
      "\n",
      "Input frame 90 (96,):\n",
      "0 0 0 0 0 0 1 1 1 1 1 1 1 1 1 1 0 0 0 0 1 0 0 0 1 1 1 1 1 1 1 1 1 1 1 1 1 1 1 2 1 0 0 1 1 0 1 1 0 0 0 1 1 1 0 1 1 1 1 1 1 2 0 1 0 0 0 1 1 1 1 1 1 1 1 1 1 1 1 1 1 0 0 0 3 0 1 1 1 1 1 1 1 0 0 1\n",
      "Predicted frame (96,):\n",
      "0 0 0 0 0 0 1 1 1 1 1 1 1 1 1 1 0 0 0 0 1 0 0 0 1 1 1 1 1 1 1 1 1 1 1 1 1 1 1 2 1 0 0 1 1 1 1 1 0 0 0 1 1 1 0 1 1 1 1 1 1 2 0 1 0 0 0 1 1 1 1 1 1 1 1 1 1 1 1 1 1 0 0 0 3 0 1 1 1 1 1 1 1 0 0 1\n",
      "Predicted frame marked for differences at positions:  [45]\n",
      "0 0 0 0 0 0 1 1 1 1 1 1 1 1 1 1 0 0 0 0 1 0 0 0 1 1 1 1 1 1 1 1 1 1 1 1 1 1 1 2 1 0 0 1 1 8 1 1 0 0 0 1 1 1 0 1 1 1 1 1 1 2 0 1 0 0 0 1 1 1 1 1 1 1 1 1 1 1 1 1 1 0 0 0 3 0 1 1 1 1 1 1 1 0 0 1 \n",
      "\n",
      "Input frame 91 (96,):\n",
      "0 0 0 0 0 0 1 1 1 1 1 1 1 1 1 1 0 0 0 0 1 0 0 0 1 1 1 1 1 1 1 1 1 1 1 1 1 1 1 2 1 0 0 1 1 1 1 1 0 0 0 1 1 1 0 1 1 1 1 1 1 2 0 1 0 0 0 1 1 1 1 1 1 1 1 1 1 1 1 1 1 0 0 0 3 0 1 1 1 1 1 1 1 0 0 1\n",
      "Predicted frame (96,):\n",
      "0 0 0 0 0 0 1 1 1 1 1 1 1 1 1 1 3 0 0 0 1 0 0 0 1 1 1 1 1 1 1 1 1 1 1 1 1 1 1 2 1 0 0 1 1 1 1 1 0 0 0 1 1 1 0 1 1 1 1 1 1 2 0 1 0 0 0 1 1 1 1 1 1 1 1 1 1 1 1 1 1 0 0 1 3 0 1 1 1 1 1 1 1 0 0 1\n",
      "Predicted frame marked for differences at positions:  [16, 83]\n",
      "0 0 0 0 0 0 1 1 1 1 1 1 1 1 1 1 8 0 0 0 1 0 0 0 1 1 1 1 1 1 1 1 1 1 1 1 1 1 1 2 1 0 0 1 1 1 1 1 0 0 0 1 1 1 0 1 1 1 1 1 1 2 0 1 0 0 0 1 1 1 1 1 1 1 1 1 1 1 1 1 1 0 0 8 3 0 1 1 1 1 1 1 1 0 0 1 \n",
      "\n",
      "Input frame 92 (96,):\n",
      "0 0 0 0 0 0 1 1 1 1 1 1 1 1 1 1 3 0 0 0 1 0 0 0 1 1 1 1 1 1 1 1 1 1 1 1 1 1 1 2 1 0 0 1 1 1 1 1 0 0 0 1 1 1 0 1 1 1 1 1 1 2 0 1 0 0 0 1 1 1 1 1 1 1 1 1 1 1 1 1 1 0 0 1 3 0 1 1 1 1 1 1 1 0 0 1\n",
      "Predicted frame (96,):\n",
      "1 0 0 0 0 0 1 1 1 1 1 1 1 1 1 1 2 0 0 0 1 0 0 0 1 1 1 1 1 1 1 1 1 1 1 1 1 1 1 2 1 0 0 1 1 1 1 1 0 0 0 1 1 1 0 1 1 1 1 1 1 2 0 1 0 0 0 1 1 0 1 1 1 1 1 1 1 1 1 1 1 0 0 1 0 0 1 1 1 1 1 1 1 0 0 1\n",
      "Predicted frame marked for differences at positions:  [0, 16, 69, 84]\n",
      "8 0 0 0 0 0 1 1 1 1 1 1 1 1 1 1 8 0 0 0 1 0 0 0 1 1 1 1 1 1 1 1 1 1 1 1 1 1 1 2 1 0 0 1 1 1 1 1 0 0 0 1 1 1 0 1 1 1 1 1 1 2 0 1 0 0 0 1 1 8 1 1 1 1 1 1 1 1 1 1 1 0 0 1 8 0 1 1 1 1 1 1 1 0 0 1 \n",
      "\n",
      "Input frame 93 (96,):\n",
      "1 0 0 0 0 0 1 1 1 1 1 1 1 1 1 1 2 0 0 0 1 0 0 0 1 1 1 1 1 1 1 1 1 1 1 1 1 1 1 2 1 0 0 1 1 1 1 1 0 0 0 1 1 1 0 1 1 1 1 1 1 2 0 1 0 0 0 1 1 0 1 1 1 1 1 1 1 1 1 1 1 0 0 1 0 0 1 1 1 1 1 1 1 0 0 1\n",
      "Predicted frame (96,):\n",
      "1 0 0 0 0 0 1 1 1 1 1 1 1 1 1 1 2 0 0 0 1 0 0 0 1 1 1 1 1 1 1 1 1 1 1 1 1 1 1 1 1 0 0 1 1 0 1 1 0 0 0 1 1 1 0 1 1 1 1 1 1 2 0 1 0 0 0 1 1 1 1 1 1 1 1 1 1 1 1 1 1 0 0 0 2 0 1 1 1 1 1 1 1 0 0 1\n",
      "Predicted frame marked for differences at positions:  [39, 45, 69, 83, 84]\n",
      "1 0 0 0 0 0 1 1 1 1 1 1 1 1 1 1 2 0 0 0 1 0 0 0 1 1 1 1 1 1 1 1 1 1 1 1 1 1 1 8 1 0 0 1 1 8 1 1 0 0 0 1 1 1 0 1 1 1 1 1 1 2 0 1 0 0 0 1 1 8 1 1 1 1 1 1 1 1 1 1 1 0 0 8 8 0 1 1 1 1 1 1 1 0 0 1 \n",
      "\n",
      "Input frame 94 (96,):\n",
      "1 0 0 0 0 0 1 1 1 1 1 1 1 1 1 1 2 0 0 0 1 0 0 0 1 1 1 1 1 1 1 1 1 1 1 1 1 1 1 1 1 0 0 1 1 0 1 1 0 0 0 1 1 1 0 1 1 1 1 1 1 2 0 1 0 0 0 1 1 1 1 1 1 1 1 1 1 1 1 1 1 0 0 0 2 0 1 1 1 1 1 1 1 0 0 1\n",
      "Predicted frame (96,):\n",
      "1 0 0 0 0 0 1 1 1 1 1 1 1 1 1 1 2 0 0 0 1 0 0 0 1 1 1 1 1 1 1 1 1 1 1 1 1 1 1 3 1 0 0 1 1 1 1 1 0 0 0 1 1 1 0 1 1 1 1 1 1 2 0 1 0 0 0 1 1 1 1 1 1 1 1 1 1 1 1 1 1 0 0 0 2 0 1 1 1 1 1 1 1 0 0 1\n",
      "Predicted frame marked for differences at positions:  [39, 45]\n",
      "1 0 0 0 0 0 1 1 1 1 1 1 1 1 1 1 2 0 0 0 1 0 0 0 1 1 1 1 1 1 1 1 1 1 1 1 1 1 1 8 1 0 0 1 1 8 1 1 0 0 0 1 1 1 0 1 1 1 1 1 1 2 0 1 0 0 0 1 1 1 1 1 1 1 1 1 1 1 1 1 1 0 0 0 2 0 1 1 1 1 1 1 1 0 0 1 \n",
      "\n",
      "Input frame 95 (96,):\n",
      "1 0 0 0 0 0 1 1 1 1 1 1 1 1 1 1 2 0 0 0 1 0 0 0 1 1 1 1 1 1 1 1 1 1 1 1 1 1 1 3 1 0 0 1 1 1 1 1 0 0 0 1 1 1 0 1 1 1 1 1 1 2 0 1 0 0 0 1 1 1 1 1 1 1 1 1 1 1 1 1 1 0 0 0 2 0 1 1 1 1 1 1 1 0 0 1\n",
      "Predicted frame (96,):\n",
      "1 0 0 0 0 0 1 1 1 1 1 1 1 1 1 1 2 0 0 0 1 0 0 0 1 1 1 1 1 1 1 1 1 1 1 1 1 1 1 2 1 0 0 1 1 1 1 1 0 0 0 1 1 1 0 1 1 1 1 1 1 2 0 1 0 0 0 1 1 1 1 1 1 1 1 1 1 1 1 1 1 0 0 0 2 0 1 1 1 1 1 1 1 0 0 1\n",
      "Predicted frame marked for differences at positions:  [39]\n",
      "1 0 0 0 0 0 1 1 1 1 1 1 1 1 1 1 2 0 0 0 1 0 0 0 1 1 1 1 1 1 1 1 1 1 1 1 1 1 1 8 1 0 0 1 1 1 1 1 0 0 0 1 1 1 0 1 1 1 1 1 1 2 0 1 0 0 0 1 1 1 1 1 1 1 1 1 1 1 1 1 1 0 0 0 2 0 1 1 1 1 1 1 1 0 0 1 \n",
      "\n",
      "Input frame 96 (96,):\n",
      "1 0 0 0 0 0 1 1 1 1 1 1 1 1 1 1 2 0 0 0 1 0 0 0 1 1 1 1 1 1 1 1 1 1 1 1 1 1 1 2 1 0 0 1 1 1 1 1 0 0 0 1 1 1 0 1 1 1 1 1 1 2 0 1 0 0 0 1 1 1 1 1 1 1 1 1 1 1 1 1 1 0 0 0 2 0 1 1 1 1 1 1 1 0 0 1\n",
      "Predicted frame (96,):\n",
      "0 0 0 0 0 0 1 1 1 1 1 1 1 1 1 1 2 0 0 0 1 0 0 0 1 1 1 1 1 1 1 1 1 1 1 1 1 1 1 2 1 0 0 1 1 1 1 1 0 0 0 1 1 1 0 1 1 1 1 1 1 2 0 1 0 0 0 1 1 1 1 1 1 1 1 1 1 1 1 1 1 0 0 1 3 0 1 1 1 1 1 1 1 0 0 1\n",
      "Predicted frame marked for differences at positions:  [0, 83, 84]\n",
      "8 0 0 0 0 0 1 1 1 1 1 1 1 1 1 1 2 0 0 0 1 0 0 0 1 1 1 1 1 1 1 1 1 1 1 1 1 1 1 2 1 0 0 1 1 1 1 1 0 0 0 1 1 1 0 1 1 1 1 1 1 2 0 1 0 0 0 1 1 1 1 1 1 1 1 1 1 1 1 1 1 0 0 8 8 0 1 1 1 1 1 1 1 0 0 1 \n",
      "\n"
     ]
    },
    {
     "name": "stdout",
     "output_type": "stream",
     "text": [
      "Input frame 97 (96,):\n",
      "0 0 0 0 0 0 1 1 1 1 1 1 1 1 1 1 2 0 0 0 1 0 0 0 1 1 1 1 1 1 1 1 1 1 1 1 1 1 1 2 1 0 0 1 1 1 1 1 0 0 0 1 1 1 0 1 1 1 1 1 1 2 0 1 0 0 0 1 1 1 1 1 1 1 1 1 1 1 1 1 1 0 0 1 3 0 1 1 1 1 1 1 1 0 0 1\n",
      "Predicted frame (96,):\n",
      "0 0 0 0 0 0 1 1 1 1 1 1 1 1 1 1 2 0 0 0 1 0 0 0 1 1 1 1 1 1 1 1 1 1 1 1 1 1 1 2 1 0 0 1 1 1 1 1 0 0 0 1 1 1 0 1 1 1 1 1 1 2 0 1 0 0 0 1 1 1 1 1 1 1 1 1 1 1 1 1 1 0 0 1 0 0 1 1 1 1 1 1 1 0 0 1\n",
      "Predicted frame marked for differences at positions:  [84]\n",
      "0 0 0 0 0 0 1 1 1 1 1 1 1 1 1 1 2 0 0 0 1 0 0 0 1 1 1 1 1 1 1 1 1 1 1 1 1 1 1 2 1 0 0 1 1 1 1 1 0 0 0 1 1 1 0 1 1 1 1 1 1 2 0 1 0 0 0 1 1 1 1 1 1 1 1 1 1 1 1 1 1 0 0 1 8 0 1 1 1 1 1 1 1 0 0 1 \n",
      "\n",
      "Input frame 98 (96,):\n",
      "0 0 0 0 0 0 1 1 1 1 1 1 1 1 1 1 2 0 0 0 1 0 0 0 1 1 1 1 1 1 1 1 1 1 1 1 1 1 1 2 1 0 0 1 1 1 1 1 0 0 0 1 1 1 0 1 1 1 1 1 1 2 0 1 0 0 0 1 1 1 1 1 1 1 1 1 1 1 1 1 1 0 0 1 0 0 1 1 1 1 1 1 1 0 0 1\n",
      "Predicted frame (96,):\n",
      "0 0 0 0 0 0 1 1 1 1 1 1 1 1 1 1 2 0 0 0 1 0 0 0 1 1 1 1 1 1 1 1 1 1 1 1 1 1 1 2 1 0 0 1 1 1 1 1 0 0 0 1 1 1 0 1 1 1 1 1 1 2 0 1 0 0 0 1 1 0 1 1 1 1 1 1 1 1 1 1 1 0 0 1 0 0 1 1 1 1 1 1 1 0 0 1\n",
      "Predicted frame marked for differences at positions:  [69]\n",
      "0 0 0 0 0 0 1 1 1 1 1 1 1 1 1 1 2 0 0 0 1 0 0 0 1 1 1 1 1 1 1 1 1 1 1 1 1 1 1 2 1 0 0 1 1 1 1 1 0 0 0 1 1 1 0 1 1 1 1 1 1 2 0 1 0 0 0 1 1 8 1 1 1 1 1 1 1 1 1 1 1 0 0 1 0 0 1 1 1 1 1 1 1 0 0 1 \n",
      "\n",
      "Input frame 99 (96,):\n",
      "0 0 0 0 0 0 1 1 1 1 1 1 1 1 1 1 2 0 0 0 1 0 0 0 1 1 1 1 1 1 1 1 1 1 1 1 1 1 1 2 1 0 0 1 1 1 1 1 0 0 0 1 1 1 0 1 1 1 1 1 1 2 0 1 0 0 0 1 1 0 1 1 1 1 1 1 1 1 1 1 1 0 0 1 0 0 1 1 1 1 1 1 1 0 0 1\n",
      "Predicted frame (96,):\n",
      "0 0 0 0 0 0 1 1 1 1 1 1 1 1 1 1 2 0 0 0 1 0 0 0 1 1 1 1 1 1 1 1 1 1 1 1 1 1 1 2 1 0 0 1 1 1 1 1 0 0 1 1 1 1 0 1 1 1 1 1 1 2 0 1 0 0 0 1 1 0 1 1 1 1 1 1 1 1 1 1 1 0 0 1 0 0 1 1 1 1 1 1 1 0 0 1\n",
      "Predicted frame marked for differences at positions:  [50]\n",
      "0 0 0 0 0 0 1 1 1 1 1 1 1 1 1 1 2 0 0 0 1 0 0 0 1 1 1 1 1 1 1 1 1 1 1 1 1 1 1 2 1 0 0 1 1 1 1 1 0 0 8 1 1 1 0 1 1 1 1 1 1 2 0 1 0 0 0 1 1 0 1 1 1 1 1 1 1 1 1 1 1 0 0 1 0 0 1 1 1 1 1 1 1 0 0 1 \n",
      "\n",
      "Input frame 100 (96,):\n",
      "0 0 0 0 0 0 1 1 1 1 1 1 1 1 1 1 2 0 0 0 1 0 0 0 1 1 1 1 1 1 1 1 1 1 1 1 1 1 1 2 1 0 0 1 1 1 1 1 0 0 1 1 1 1 0 1 1 1 1 1 1 2 0 1 0 0 0 1 1 0 1 1 1 1 1 1 1 1 1 1 1 0 0 1 0 0 1 1 1 1 1 1 1 0 0 1\n",
      "Predicted frame (96,):\n",
      "0 0 0 0 0 0 1 1 1 1 1 1 1 1 1 1 2 0 0 0 1 0 0 0 1 1 1 1 1 1 1 1 1 1 1 1 1 1 1 2 1 0 0 1 1 1 1 1 0 0 0 1 1 1 0 1 1 1 1 1 1 2 0 1 0 0 0 1 1 0 1 1 1 1 1 1 1 1 1 1 1 0 0 1 3 0 0 1 1 1 1 1 1 0 0 1\n",
      "Predicted frame marked for differences at positions:  [50, 84, 86]\n",
      "0 0 0 0 0 0 1 1 1 1 1 1 1 1 1 1 2 0 0 0 1 0 0 0 1 1 1 1 1 1 1 1 1 1 1 1 1 1 1 2 1 0 0 1 1 1 1 1 0 0 8 1 1 1 0 1 1 1 1 1 1 2 0 1 0 0 0 1 1 0 1 1 1 1 1 1 1 1 1 1 1 0 0 1 8 0 8 1 1 1 1 1 1 0 0 1 \n",
      "\n",
      "Input frame 101 (96,):\n",
      "0 0 0 0 0 0 1 1 1 1 1 1 1 1 1 1 2 0 0 0 1 0 0 0 1 1 1 1 1 1 1 1 1 1 1 1 1 1 1 2 1 0 0 1 1 1 1 1 0 0 0 1 1 1 0 1 1 1 1 1 1 2 0 1 0 0 0 1 1 0 1 1 1 1 1 1 1 1 1 1 1 0 0 1 3 0 0 1 1 1 1 1 1 0 0 1\n",
      "Predicted frame (96,):\n",
      "0 0 0 0 0 0 1 1 1 1 1 1 1 1 1 1 2 0 0 0 1 3 0 0 1 1 1 1 1 1 1 1 1 1 1 1 1 1 1 2 1 0 0 1 1 1 1 1 0 0 1 1 1 1 0 1 1 1 1 1 1 2 0 1 0 0 0 1 1 1 1 1 1 1 1 1 1 1 1 1 1 0 0 1 3 0 1 1 1 1 1 1 1 0 0 1\n",
      "Predicted frame marked for differences at positions:  [21, 50, 69, 86]\n",
      "0 0 0 0 0 0 1 1 1 1 1 1 1 1 1 1 2 0 0 0 1 8 0 0 1 1 1 1 1 1 1 1 1 1 1 1 1 1 1 2 1 0 0 1 1 1 1 1 0 0 8 1 1 1 0 1 1 1 1 1 1 2 0 1 0 0 0 1 1 8 1 1 1 1 1 1 1 1 1 1 1 0 0 1 3 0 8 1 1 1 1 1 1 0 0 1 \n",
      "\n"
     ]
    }
   ],
   "source": [
    "# Here we extend the trajectory from the input frame. \n",
    "extended_trj_basins_transformer = []\n",
    "n_extensions = 100 \n",
    "temperature = 1.5 # default = 1.5\n",
    "\n",
    "mdsl = 99 # max_decoded_sequence_length\n",
    "pad = 6\n",
    "startpad = 4\n",
    "endpad = 5\n",
    "\n",
    "# We need to expand the dimensions so that the input appears to the network as a batch\n",
    "# input_frame = val_inputs1[input_frame_number]\n",
    "input_frame = np.expand_dims(input_frame,axis=0)\n",
    "\n",
    "cycle = 1\n",
    "frame_number = 1\n",
    "while cycle <= n_extensions:\n",
    "   \n",
    "    # Predict next frame and strip all padding\n",
    "    next_frame = predict_frame_with_entropy(input_frame,\n",
    "                                            transformer,\n",
    "                                            mdsl,\n",
    "                                            pad,\n",
    "                                            startpad,\n",
    "                                            endpad,\n",
    "                                            temperature)\n",
    "    next_frame = np.squeeze(next_frame)\n",
    "    next_frame = next_frame[1:-2].astype('int32')\n",
    "    \n",
    "    extended_trj_basins_transformer.append(next_frame)\n",
    "\n",
    "    # Strip new_input padding \n",
    "    input_frame = np.squeeze(input_frame)\n",
    "    input_frame = input_frame[:-3]    \n",
    "    \n",
    "    print(f'Input frame {frame_number} {input_frame.shape}:')\n",
    "    print(*input_frame)\n",
    "    print(f'Predicted frame {next_frame.shape}:')\n",
    "    print(*next_frame)    \n",
    "\n",
    "    # Identify different positions between input and predicted frame\n",
    "    diff_ind = input_frame!=next_frame    \n",
    "    diff_ind_pos = np.where(diff_ind)[0]    \n",
    "    next_frame_marked = np.copy(next_frame) \n",
    "    next_frame_marked[diff_ind] = 8\n",
    "    \n",
    "    print(f'Predicted frame marked for differences at positions: ', [*diff_ind_pos])\n",
    "    print(*next_frame_marked,'\\n')    \n",
    "\n",
    "    # The predicted frame becomes the new input\n",
    "    next_frame = np.concatenate((next_frame,[6,6,6]),axis=0)\n",
    "    next_frame = np.expand_dims(next_frame,axis=0)\n",
    "    input_frame = next_frame\n",
    "\n",
    "    # Check for frames having low probability basin or termination symbols (s>3). \n",
    "    # If this occurs, update only the frame number    \n",
    "    if np.max(next_frame[0][:-3]) > 3:        \n",
    "        print(f'Extension error at frame {frame_number}')\n",
    "        frame_number += 1\n",
    "    else:\n",
    "        frame_number += 1\n",
    "        cycle += 1\n",
    "       "
   ]
  },
  {
   "cell_type": "code",
   "execution_count": 49,
   "metadata": {
    "scrolled": false
   },
   "outputs": [
    {
     "name": "stdout",
     "output_type": "stream",
     "text": [
      "Predicted Frame 1 :\n",
      "0 0 0 0 0 0 1 1 1 1 1 1 1 1 1 1 0 0 0 0 1 0 0 0 1 1 1 1 1 1 1 1 1 1 1 1 1 1 1 2 1 0 0 1 1 0 1 1 0 0 0 1 1 1 0 1 1 1 1 1 1 2 0 1 0 0 0 1 1 1 1 1 1 1 1 1 1 1 1 1 1 0 0 0 0 0 1 1 1 1 1 1 1 0 0 1\n",
      "Predicted Frame 2 :\n",
      "0 0 0 0 0 0 1 1 1 1 1 1 1 1 1 1 0 0 0 0 1 0 0 0 1 1 1 1 1 1 1 1 1 1 1 1 1 1 1 2 1 0 0 1 1 0 1 1 0 0 0 0 1 1 0 1 1 1 1 1 1 2 0 1 0 0 0 1 1 1 1 1 1 1 1 1 1 1 1 1 1 0 0 1 0 0 1 1 1 1 1 1 1 0 0 1\n",
      "Predicted Frame 3 :\n",
      "0 0 0 0 0 0 1 1 1 1 1 1 1 1 1 1 0 0 0 0 1 0 0 0 1 1 1 1 1 1 1 1 1 1 1 1 1 1 1 2 1 0 0 1 1 1 1 1 0 0 0 1 1 1 0 1 1 1 1 1 1 2 0 1 0 0 0 1 1 0 1 1 1 1 1 1 1 1 1 1 1 0 0 1 0 0 1 1 1 1 1 1 1 0 0 1\n",
      "Predicted Frame 4 :\n",
      "0 0 0 0 0 0 1 1 1 1 1 1 1 1 1 1 0 0 0 0 1 0 0 0 1 1 1 1 1 1 1 1 1 1 1 1 1 1 1 2 1 0 0 1 1 1 1 1 0 0 1 1 1 1 0 1 1 1 1 1 1 2 0 1 0 0 0 1 1 0 1 1 1 1 1 1 1 1 1 1 1 0 0 1 0 0 1 1 1 1 1 1 1 0 0 1\n",
      "Predicted Frame 5 :\n",
      "0 0 0 0 0 0 1 1 1 1 1 1 1 1 1 1 3 0 0 0 1 0 0 0 1 1 1 1 1 1 1 1 1 1 1 1 1 1 1 2 1 0 0 1 1 0 1 1 0 0 1 1 1 1 0 1 1 1 1 1 1 2 0 1 0 0 0 1 1 0 1 1 1 1 1 1 1 1 1 1 1 0 0 1 3 0 1 1 1 1 1 1 1 0 0 1\n",
      "Predicted Frame 6 :\n",
      "0 0 0 0 0 0 1 1 1 1 1 1 1 1 1 1 0 0 0 0 1 0 0 0 1 1 1 1 1 1 1 1 1 1 1 1 1 1 1 2 1 0 0 1 1 1 1 1 0 0 0 1 1 1 0 1 1 1 1 1 1 2 0 1 3 0 0 1 1 1 1 1 1 1 1 1 1 1 1 1 1 0 0 1 3 0 1 1 1 1 1 1 1 0 0 1\n",
      "Predicted Frame 7 :\n",
      "0 0 0 0 0 0 1 1 1 1 1 1 1 1 1 1 3 0 1 0 1 0 0 0 1 1 1 1 1 1 1 1 1 1 1 1 1 1 1 2 1 0 0 1 1 1 1 1 0 0 0 1 1 1 0 1 1 1 1 1 1 2 0 1 0 0 0 1 1 1 1 1 1 1 1 1 1 1 1 1 1 0 0 0 3 0 1 1 1 1 1 1 1 0 0 1\n",
      "Predicted Frame 8 :\n",
      "0 0 0 0 0 0 1 1 1 1 1 1 1 1 1 1 3 0 1 0 1 0 0 0 1 1 1 1 1 1 1 1 1 1 1 1 1 1 1 3 1 0 0 1 1 0 1 1 0 0 0 1 1 1 0 1 1 1 1 1 1 2 0 1 0 0 0 1 1 0 1 1 1 1 1 1 1 1 1 1 1 0 0 0 3 0 1 1 1 1 1 1 1 0 0 1\n",
      "Predicted Frame 9 :\n",
      "0 0 0 0 0 0 1 1 1 1 1 1 1 1 1 1 0 0 1 0 1 0 0 0 1 1 1 1 1 1 1 1 1 1 1 1 1 1 1 2 1 0 0 1 1 0 1 1 0 0 0 1 1 1 0 1 1 1 1 1 1 2 0 1 0 0 0 1 1 0 1 1 1 1 1 1 1 1 1 1 1 0 0 0 3 0 1 1 1 1 1 1 1 0 0 1\n",
      "Predicted Frame 10 :\n",
      "0 0 0 0 0 0 1 1 1 1 1 1 1 1 1 1 0 0 1 0 1 0 0 0 1 1 1 1 1 1 1 1 1 1 1 1 1 1 1 2 1 0 0 1 1 1 1 1 0 0 0 1 1 1 0 1 1 1 1 1 1 2 0 1 0 0 0 1 1 1 1 1 1 1 1 1 1 1 1 1 1 0 0 1 3 0 1 1 1 1 1 1 1 0 0 1\n",
      "Predicted Frame 11 :\n",
      "0 0 0 0 0 0 1 1 1 1 1 1 1 1 1 1 3 0 1 0 1 0 0 0 1 1 1 1 1 1 1 1 1 1 1 1 1 1 1 2 1 0 0 1 1 1 1 1 0 0 0 1 1 1 0 1 1 1 1 1 1 2 0 1 0 0 0 1 1 0 1 1 1 1 1 1 1 1 1 1 1 0 0 1 3 0 1 1 1 1 1 1 1 0 0 1\n",
      "Predicted Frame 12 :\n",
      "0 0 0 0 0 0 1 1 1 1 1 1 1 1 1 1 3 0 1 0 1 0 0 0 1 1 1 1 1 1 1 1 1 1 1 1 1 1 1 2 1 0 0 1 1 1 1 1 0 0 0 1 1 1 0 1 1 1 1 1 1 2 0 1 0 0 0 1 1 1 1 1 1 1 1 1 1 1 1 1 1 0 0 1 0 0 1 1 1 1 1 1 1 0 0 1\n",
      "Predicted Frame 13 :\n",
      "0 0 0 0 0 0 1 1 1 1 1 1 1 1 1 1 1 0 1 0 1 0 0 0 1 1 1 1 1 1 1 1 1 1 1 1 1 1 1 2 1 0 0 1 1 0 1 1 0 0 0 1 1 1 0 1 1 1 1 1 1 2 0 1 0 0 0 1 1 0 1 1 1 1 1 1 1 1 1 1 1 0 0 0 0 0 1 1 1 1 1 1 1 0 0 1\n",
      "Predicted Frame 14 :\n",
      "0 0 0 0 0 0 1 1 1 1 1 1 1 1 1 1 2 0 1 0 1 0 0 0 1 1 1 1 1 1 1 1 1 1 1 1 1 1 1 2 1 0 0 1 1 0 1 1 0 0 0 1 1 1 0 1 1 1 1 1 1 2 0 1 0 0 0 1 1 0 1 1 1 1 1 1 1 1 1 1 1 0 0 1 1 0 1 1 1 1 1 1 1 0 0 1\n",
      "Predicted Frame 15 :\n",
      "0 0 0 0 0 0 1 1 1 1 1 1 1 1 1 1 2 0 1 0 1 0 0 0 1 1 1 1 1 1 1 1 1 1 1 1 1 1 1 2 1 0 0 1 1 1 1 1 0 0 0 1 1 1 0 1 1 1 1 1 1 2 0 1 0 0 0 1 1 0 1 1 1 1 1 1 1 1 1 1 1 0 0 0 1 0 1 1 1 1 1 1 1 0 0 1\n",
      "Predicted Frame 16 :\n",
      "0 0 0 0 0 0 1 1 1 1 1 1 1 1 1 1 2 0 1 0 1 0 0 0 1 1 1 1 1 1 1 1 1 1 1 1 1 1 1 2 1 0 0 1 1 1 1 1 0 0 0 1 1 1 0 1 1 1 1 1 1 2 0 1 0 0 0 1 1 1 1 1 1 1 1 1 1 1 1 1 1 0 0 1 1 0 1 1 1 1 1 1 1 0 0 1\n",
      "Predicted Frame 17 :\n",
      "0 0 0 0 0 0 1 1 1 1 1 1 1 1 1 1 2 0 1 0 1 0 0 0 1 1 1 1 1 1 1 1 1 1 1 1 1 1 1 2 1 0 0 1 1 1 1 1 0 0 0 1 1 1 0 1 1 1 1 1 1 2 0 1 0 0 0 1 1 1 1 1 1 1 1 1 1 1 1 1 1 0 0 1 1 0 1 1 1 1 1 1 1 0 0 1\n",
      "Predicted Frame 18 :\n",
      "0 0 0 0 0 0 1 1 1 1 1 1 1 1 1 1 2 0 1 0 1 0 0 0 1 1 1 1 1 1 1 1 1 1 1 1 1 1 1 2 1 0 0 1 1 1 1 1 0 0 0 1 1 1 0 1 1 1 1 1 1 2 0 1 0 0 0 1 1 1 1 1 1 1 1 1 1 1 1 1 1 0 0 1 3 0 1 1 1 1 1 1 1 0 0 1\n",
      "Predicted Frame 19 :\n",
      "0 0 0 0 0 0 1 1 1 1 1 1 1 1 1 1 2 0 1 0 1 0 0 0 1 1 1 1 1 1 1 1 1 1 1 1 1 1 1 2 1 0 0 1 1 1 1 1 0 0 0 1 1 1 0 1 1 1 1 1 1 2 0 1 0 0 0 1 1 1 1 1 1 1 1 1 1 1 1 1 1 0 0 1 3 0 1 1 1 1 1 1 1 0 0 1\n",
      "Predicted Frame 20 :\n",
      "0 0 0 0 0 0 1 1 1 1 1 1 1 1 1 1 2 0 1 0 1 0 0 0 1 1 1 1 1 1 1 1 1 1 1 1 1 1 1 0 1 0 0 1 1 1 1 1 0 0 0 1 1 1 0 1 1 1 1 1 1 2 0 1 0 0 0 1 1 1 1 1 1 1 1 1 1 1 1 1 1 0 0 1 3 0 1 1 1 1 1 1 1 0 0 1\n",
      "Predicted Frame 21 :\n",
      "0 0 0 0 0 0 1 1 1 1 1 1 1 1 1 1 2 0 1 0 1 0 0 0 1 1 1 1 1 1 1 1 1 1 1 1 1 1 1 2 1 0 0 1 1 1 1 1 0 0 0 1 1 1 0 1 1 1 1 1 1 2 0 1 1 0 0 1 1 0 1 1 1 1 1 1 1 1 1 1 1 0 0 0 3 0 1 1 1 1 1 1 1 0 0 1\n",
      "Predicted Frame 22 :\n",
      "1 0 0 0 0 0 1 1 1 1 1 1 1 1 1 1 2 0 1 0 1 0 0 0 1 1 1 1 1 1 1 1 1 1 1 1 1 1 1 2 1 0 0 1 1 1 1 1 0 0 0 1 1 1 0 1 1 1 1 1 1 2 0 1 0 0 0 1 1 1 1 1 1 1 1 1 1 1 1 1 1 0 1 1 3 0 1 1 1 1 1 1 1 0 0 1\n",
      "Predicted Frame 23 :\n",
      "0 0 0 0 0 0 1 1 1 1 1 1 1 1 1 1 2 0 1 0 1 0 0 0 1 1 1 1 1 1 1 1 1 1 1 1 1 1 1 2 1 0 0 1 1 0 1 1 0 0 0 1 1 1 0 1 1 1 1 1 1 2 0 1 0 0 0 1 1 1 1 1 1 1 1 1 1 1 1 1 1 0 0 0 0 0 1 1 1 1 1 1 1 0 0 1\n",
      "Predicted Frame 24 :\n",
      "0 0 0 0 0 0 1 1 1 1 1 1 1 1 1 1 2 0 1 0 1 0 0 0 1 1 1 1 1 1 1 1 1 1 1 1 1 1 1 1 1 0 0 1 1 0 1 1 0 0 0 1 1 1 0 1 1 1 1 1 1 2 0 1 0 0 0 1 1 1 1 1 1 1 1 1 1 1 1 1 1 0 0 0 0 0 1 1 1 1 1 1 1 0 0 1\n",
      "Predicted Frame 25 :\n",
      "0 0 0 0 0 0 1 1 1 1 1 1 1 1 1 1 2 0 1 0 1 0 0 0 1 1 1 1 1 1 1 1 1 1 1 1 1 1 1 3 1 0 0 1 1 1 1 1 0 0 0 1 1 1 0 1 1 1 1 1 1 2 0 1 0 0 0 1 1 1 1 1 1 1 1 1 1 1 1 1 1 0 0 1 0 0 1 1 1 1 1 1 1 0 0 1\n",
      "Predicted Frame 26 :\n",
      "0 0 0 0 0 0 1 1 1 1 1 1 1 1 1 1 2 0 1 0 1 0 0 0 1 1 1 1 1 1 1 1 1 1 1 1 1 1 1 2 1 0 0 1 1 1 1 1 0 0 0 1 1 1 0 1 1 1 1 1 1 2 0 1 0 0 0 1 1 1 1 1 1 1 1 1 1 1 1 1 1 0 0 1 1 0 1 1 1 1 1 1 1 0 0 1\n",
      "Predicted Frame 27 :\n",
      "0 0 0 0 0 0 1 1 1 1 1 1 1 1 1 1 2 0 1 0 1 0 0 0 1 1 1 1 1 1 1 1 1 1 1 1 1 1 1 3 1 0 0 1 1 1 1 1 0 0 0 1 1 1 0 1 1 1 1 1 1 2 0 1 0 0 0 1 1 1 1 1 1 1 1 1 1 1 1 1 1 0 0 0 0 0 1 1 1 1 1 1 1 0 0 1\n",
      "Predicted Frame 28 :\n",
      "0 0 0 0 0 0 1 1 1 1 1 1 1 1 1 1 2 0 1 0 1 0 0 0 1 1 1 1 1 1 1 1 1 1 1 1 1 1 1 2 1 0 0 1 1 1 1 1 0 0 0 1 1 1 0 1 1 1 1 1 1 2 0 1 0 0 0 1 1 1 1 1 1 1 1 1 1 1 1 1 1 0 0 0 3 0 1 1 1 1 1 1 1 0 0 1\n",
      "Predicted Frame 29 :\n",
      "1 0 0 0 0 0 1 1 1 1 1 1 1 1 1 1 2 0 1 0 1 0 0 0 1 1 1 1 1 1 1 1 1 1 1 1 1 1 1 2 1 0 0 1 1 0 1 1 0 0 0 1 1 1 0 1 1 1 1 1 1 2 0 1 0 0 0 1 1 0 1 1 1 1 1 1 1 1 1 1 1 0 0 1 3 0 1 1 1 1 1 1 1 0 0 1\n",
      "Predicted Frame 30 :\n",
      "1 0 0 0 0 0 1 1 1 1 1 1 1 1 1 1 2 0 1 0 1 0 0 0 1 1 1 1 1 1 1 1 1 1 1 1 1 1 1 2 1 0 0 1 1 1 1 1 0 0 1 1 1 1 0 1 1 1 1 1 1 2 0 1 0 0 0 1 1 1 1 1 1 1 1 1 1 1 1 1 1 0 0 0 3 0 1 1 1 1 1 1 1 0 0 1\n",
      "Predicted Frame 31 :\n",
      "0 0 0 0 0 0 1 1 1 1 1 1 1 1 1 1 2 0 1 0 1 0 0 0 1 1 1 1 1 1 1 1 1 1 1 1 1 1 1 2 1 0 0 1 1 1 1 1 0 0 0 1 1 1 0 1 1 1 1 1 1 2 0 1 0 0 0 1 1 1 1 1 1 1 1 1 1 1 1 1 1 0 0 0 0 0 1 1 1 1 1 1 1 0 0 1\n",
      "Predicted Frame 32 :\n",
      "0 0 0 0 0 0 1 1 1 1 1 1 1 1 1 1 2 0 1 0 1 0 0 0 1 1 1 1 1 1 1 1 1 1 1 1 1 1 1 2 1 0 0 1 1 1 1 1 0 0 0 1 1 1 0 1 1 1 1 1 1 2 0 1 0 0 0 1 1 1 1 1 1 1 1 1 1 1 1 1 1 0 0 0 1 0 1 1 1 1 1 1 1 0 0 1\n",
      "Predicted Frame 33 :\n",
      "0 0 0 0 0 0 1 1 1 1 1 1 1 1 1 1 2 0 1 0 1 0 0 0 1 1 1 1 1 1 1 1 1 1 1 1 1 1 1 2 1 0 0 1 1 0 1 1 0 0 0 1 1 1 0 1 1 1 1 1 1 2 0 1 0 0 0 1 1 0 1 1 1 1 1 1 1 1 1 1 1 0 0 1 1 0 1 1 1 1 1 1 1 0 0 1\n",
      "Predicted Frame 34 :\n",
      "0 0 0 0 0 0 1 1 1 1 1 1 1 1 1 1 2 0 1 0 1 0 0 0 1 1 1 1 1 1 1 1 1 1 1 1 1 1 1 2 1 0 0 1 1 0 1 1 0 0 0 1 1 1 0 1 1 1 1 1 1 2 0 1 0 0 0 1 1 1 1 1 1 1 1 1 1 1 1 1 1 0 0 1 0 0 1 1 1 1 1 1 1 0 0 1\n",
      "Predicted Frame 35 :\n",
      "0 0 0 0 0 0 1 1 1 1 1 1 1 1 1 1 2 0 1 0 1 0 0 0 1 1 1 1 1 1 1 1 1 1 1 1 1 1 1 2 1 0 0 1 1 0 1 1 0 0 0 1 1 1 0 1 1 1 1 1 1 2 0 1 0 0 0 1 1 0 1 1 1 1 1 1 1 1 1 1 1 0 0 1 0 0 1 1 1 1 1 1 1 0 0 1\n",
      "Predicted Frame 36 :\n",
      "0 0 0 0 0 0 1 1 1 1 1 1 1 1 1 1 2 0 1 0 1 0 0 0 1 1 1 1 1 1 1 1 1 1 1 1 1 1 1 2 1 0 0 1 1 0 1 1 0 0 0 1 1 1 0 1 1 1 1 1 1 2 0 1 0 0 0 1 1 0 1 1 1 1 1 1 1 1 1 1 1 0 0 0 0 0 1 1 1 1 1 1 1 0 0 1\n",
      "Predicted Frame 37 :\n",
      "0 0 0 0 0 0 1 1 1 1 1 1 1 1 1 1 2 0 1 0 1 0 0 0 1 1 1 1 1 1 1 1 1 1 1 1 1 1 1 2 1 0 0 1 1 1 1 1 0 0 0 1 1 1 0 1 1 1 1 1 1 2 0 1 0 0 0 1 1 0 1 1 1 1 1 1 1 1 1 1 1 0 0 0 0 0 1 1 1 1 1 1 1 0 0 1\n",
      "Predicted Frame 38 :\n",
      "0 0 0 0 0 0 1 1 1 1 1 1 1 1 1 1 2 0 1 0 1 0 0 0 1 1 1 1 1 1 1 1 1 1 1 1 1 1 1 2 1 0 0 1 1 1 1 1 0 0 0 1 1 1 0 1 1 1 1 1 1 2 0 1 0 0 0 1 1 1 1 1 1 1 1 1 1 1 1 1 1 0 0 0 1 0 1 1 1 1 1 1 1 0 0 1\n",
      "Predicted Frame 39 :\n",
      "0 0 0 0 0 0 1 1 1 1 1 1 1 1 1 1 2 0 1 0 1 0 0 0 1 1 1 1 1 1 1 1 1 1 1 1 1 1 1 2 1 0 0 1 1 1 1 1 0 0 0 1 1 1 0 1 1 1 1 1 1 2 0 1 0 0 0 1 1 0 1 1 1 1 1 1 1 1 1 1 1 0 0 1 0 0 1 1 1 1 1 1 1 0 0 1\n",
      "Predicted Frame 40 :\n",
      "0 0 0 0 0 0 1 1 1 1 1 1 1 1 1 1 2 0 1 0 1 0 0 0 1 1 1 1 1 1 1 1 1 1 1 1 1 1 1 2 1 0 0 1 1 0 1 1 0 0 0 1 1 1 0 1 1 1 1 1 1 2 0 1 0 0 0 1 1 0 1 1 1 1 1 1 1 1 1 1 1 0 0 1 3 0 1 1 1 1 1 1 1 0 0 1\n",
      "Predicted Frame 41 :\n",
      "0 0 0 0 0 0 1 1 1 1 1 1 1 1 1 1 2 0 1 0 1 0 0 0 1 1 1 1 1 1 1 1 1 1 1 1 1 1 1 3 1 0 0 1 1 1 1 1 0 0 0 1 1 1 0 1 1 1 1 1 1 2 0 1 0 0 0 1 1 1 1 1 1 1 1 1 1 1 1 1 1 0 0 1 3 0 1 1 1 1 1 1 1 0 0 1\n",
      "Predicted Frame 42 :\n",
      "0 0 0 0 0 0 1 1 1 1 1 1 1 1 1 1 2 0 1 0 1 0 0 0 1 1 1 1 1 1 1 1 1 1 1 1 1 1 1 2 1 0 0 1 1 1 1 1 0 0 0 1 1 1 0 1 1 1 1 1 1 2 0 1 0 0 0 1 1 1 1 1 1 1 1 1 1 1 1 1 1 0 0 0 3 0 1 1 1 1 1 1 1 0 0 1\n",
      "Predicted Frame 43 :\n",
      "0 0 0 0 0 0 1 1 1 1 1 1 1 1 1 1 2 0 1 0 1 0 0 0 1 1 1 1 1 1 1 1 1 1 1 1 1 1 1 2 1 0 0 1 1 1 1 1 0 0 0 1 1 1 0 1 1 1 1 1 1 2 0 1 0 0 0 1 1 1 1 1 1 1 1 1 1 1 1 1 1 0 0 1 3 0 1 1 1 1 1 1 1 0 0 1\n",
      "Predicted Frame 44 :\n",
      "0 0 0 0 0 0 1 1 1 1 1 1 1 1 1 1 2 0 1 0 1 0 0 0 1 1 1 1 1 1 1 1 1 1 1 1 1 1 1 2 1 0 0 1 1 1 1 1 0 0 0 1 1 1 0 1 1 1 1 1 1 2 0 1 0 0 0 1 1 1 1 1 1 1 1 1 1 1 1 1 1 0 0 1 0 0 1 1 1 1 1 1 1 0 0 1\n",
      "Predicted Frame 45 :\n",
      "0 0 0 0 0 0 1 1 1 1 1 1 1 1 1 1 2 0 1 0 1 0 0 0 1 1 1 1 1 1 1 1 1 1 1 1 1 1 1 3 1 0 0 1 1 0 1 1 0 0 0 1 1 1 0 1 1 1 1 1 1 2 0 1 0 0 0 1 1 0 1 1 1 1 1 1 1 1 1 1 1 0 0 0 3 0 1 1 1 1 1 1 1 0 0 1\n",
      "Predicted Frame 46 :\n",
      "0 0 0 0 0 0 1 1 1 1 1 1 1 1 1 1 2 0 1 0 1 0 0 0 1 1 1 1 1 1 1 1 1 1 1 1 1 1 1 2 1 0 0 1 1 1 1 1 0 0 0 1 1 1 0 1 1 1 1 1 1 2 0 1 0 0 0 1 1 0 1 1 1 1 1 1 1 1 1 1 1 0 0 1 3 0 1 1 1 1 1 1 1 0 0 1\n",
      "Predicted Frame 47 :\n",
      "0 0 0 0 0 0 1 1 1 1 1 1 1 1 1 1 2 0 1 0 1 0 0 0 1 1 1 1 1 1 1 1 1 1 1 1 1 1 1 2 1 0 0 1 1 1 1 1 0 0 0 1 1 1 0 1 1 1 1 1 1 2 0 1 0 0 0 1 1 1 1 1 1 1 1 1 1 1 1 1 1 0 0 1 3 0 1 1 1 1 1 1 1 0 0 1\n",
      "Predicted Frame 48 :\n",
      "0 0 0 0 0 0 1 1 1 1 1 1 1 1 1 1 2 0 1 0 1 0 0 0 1 1 1 1 1 1 1 1 1 1 1 1 1 1 1 2 1 0 0 1 1 0 1 1 0 0 0 1 1 1 0 1 1 1 1 1 1 2 0 1 0 0 0 1 1 1 1 1 1 1 1 1 1 1 1 1 1 0 1 0 3 0 1 1 1 1 1 1 1 0 0 1\n",
      "Predicted Frame 49 :\n",
      "0 0 0 0 0 0 1 1 1 1 1 1 1 1 1 1 2 0 1 0 1 0 0 0 1 1 1 1 1 1 1 1 1 1 1 1 1 1 1 2 1 0 0 1 1 1 1 1 0 0 0 1 1 1 0 1 1 1 1 1 1 2 0 1 0 0 0 1 1 1 1 1 1 1 1 1 1 1 1 1 1 0 0 1 3 0 1 1 1 1 1 1 1 0 0 1\n",
      "Predicted Frame 50 :\n",
      "0 0 0 0 0 0 1 1 1 1 1 1 1 1 1 1 2 0 1 0 1 0 0 0 1 1 1 1 1 1 1 1 1 1 1 1 1 1 1 2 1 0 0 1 1 0 1 1 0 0 0 1 1 1 0 1 1 1 1 1 1 2 0 1 0 0 0 1 1 1 1 1 1 1 1 1 1 1 1 1 1 0 0 0 3 0 1 1 1 1 1 1 1 0 0 1\n",
      "Predicted Frame 51 :\n",
      "0 0 0 0 0 0 1 1 1 1 1 1 1 1 1 1 2 0 1 0 1 0 0 0 1 1 1 1 1 1 1 1 1 1 1 1 1 1 1 2 1 0 0 1 1 0 1 1 0 0 0 1 1 1 0 1 1 1 1 1 1 2 0 1 0 0 0 1 1 1 1 1 1 1 1 1 1 1 1 1 1 0 0 0 3 0 1 1 1 1 1 1 1 0 0 1\n",
      "Predicted Frame 52 :\n",
      "0 0 0 0 0 0 1 1 1 1 1 1 1 1 1 1 2 0 1 0 1 0 0 0 1 1 1 1 1 1 1 1 1 1 1 1 1 1 1 2 1 0 0 1 1 1 1 1 0 0 0 1 1 1 0 1 1 1 1 1 1 2 0 1 0 0 0 1 1 1 1 1 1 1 1 1 1 1 1 1 1 0 0 1 3 0 1 1 1 1 1 1 1 0 0 1\n",
      "Predicted Frame 53 :\n",
      "0 0 0 0 0 0 1 1 1 1 1 1 1 1 1 1 1 0 1 0 1 0 0 0 1 1 1 1 1 1 1 1 1 1 1 1 1 1 1 2 1 0 0 1 1 1 1 1 0 0 0 1 1 1 0 1 1 1 1 1 1 2 0 1 0 0 0 1 1 1 1 1 1 1 1 1 1 1 1 1 1 0 1 1 0 0 1 1 1 1 1 1 1 0 0 1\n",
      "Predicted Frame 54 :\n",
      "0 0 0 0 0 0 1 1 1 1 1 1 1 1 1 1 0 0 1 0 1 0 0 0 1 1 1 1 1 1 1 1 1 1 1 1 1 1 1 2 1 0 0 1 1 0 1 1 0 0 0 1 1 1 0 1 1 1 1 1 1 2 0 1 0 0 0 1 1 1 1 1 1 1 1 1 1 1 1 1 1 0 1 1 3 0 1 1 1 1 1 1 1 0 0 1\n",
      "Predicted Frame 55 :\n",
      "0 0 0 0 0 0 1 1 1 1 1 1 1 1 1 1 3 0 1 0 1 0 0 0 1 1 1 1 1 1 1 1 1 1 1 1 1 1 1 2 1 0 0 1 1 0 1 1 0 0 0 1 1 1 0 1 1 1 1 1 1 2 0 1 0 0 0 1 1 1 1 1 1 1 1 1 1 1 1 1 1 0 0 0 3 0 1 1 1 1 1 1 1 0 0 1\n",
      "Predicted Frame 56 :\n",
      "0 0 0 0 0 0 1 1 1 1 1 1 1 1 1 1 1 0 1 0 1 0 0 0 1 1 1 1 1 1 1 1 1 1 1 1 1 1 1 2 1 0 0 1 1 1 1 1 0 0 0 1 1 1 0 1 1 1 1 1 1 2 0 1 0 0 0 1 1 1 1 1 1 1 1 1 1 1 1 1 1 0 0 1 3 0 1 1 1 1 1 1 1 0 0 1\n",
      "Predicted Frame 57 :\n",
      "0 0 0 0 0 0 1 1 1 1 1 1 1 1 1 1 2 0 1 0 1 0 0 0 1 1 1 1 1 1 1 1 1 1 1 1 1 1 1 2 1 0 0 1 1 1 1 1 0 0 0 1 1 1 0 1 1 1 1 1 1 2 0 1 0 0 0 1 1 1 1 1 1 1 1 1 1 1 1 1 1 0 0 1 3 0 1 1 1 1 1 1 1 0 0 1\n",
      "Predicted Frame 58 :\n",
      "0 0 0 0 0 0 1 1 1 1 1 1 1 1 1 1 2 0 1 0 1 0 0 0 1 1 1 1 1 1 1 1 1 1 1 1 1 1 1 2 1 0 0 1 1 0 1 1 0 0 0 1 1 1 0 1 1 1 1 1 1 2 0 1 0 0 0 1 1 1 1 1 1 1 1 1 1 1 1 1 1 0 0 0 3 0 1 1 1 1 1 1 1 0 0 1\n",
      "Predicted Frame 59 :\n",
      "0 0 0 0 0 0 1 1 1 1 1 1 1 1 1 1 2 0 1 0 1 0 0 0 1 1 1 1 1 1 1 1 1 1 1 1 1 1 1 2 1 0 0 1 1 1 1 1 0 0 0 1 1 1 0 1 1 1 1 1 1 2 0 1 0 0 0 1 1 1 1 1 1 1 1 1 1 1 1 1 1 0 0 0 0 0 1 1 1 1 1 1 1 0 0 1\n",
      "Predicted Frame 60 :\n",
      "0 0 0 0 0 0 1 1 1 1 1 1 1 1 1 1 2 0 1 0 1 0 0 0 1 1 1 1 1 1 1 1 1 1 1 1 1 1 1 2 1 0 0 1 1 1 1 1 0 0 0 1 1 1 0 1 1 1 1 1 1 2 0 1 0 0 0 1 1 1 1 1 1 1 1 1 1 1 1 1 1 0 0 1 3 0 1 1 1 1 1 1 1 0 0 1\n",
      "Predicted Frame 61 :\n",
      "0 0 0 0 0 0 1 1 1 1 1 1 1 1 1 1 1 0 1 0 1 0 0 0 1 1 1 1 1 1 1 1 1 1 1 1 1 1 1 3 1 0 0 1 1 0 1 1 0 0 0 1 1 1 0 1 1 1 1 1 1 2 0 1 0 0 0 1 1 1 1 1 1 1 1 1 1 1 1 1 1 0 0 0 3 0 1 1 1 1 1 1 1 0 0 1\n",
      "Predicted Frame 62 :\n",
      "0 0 0 0 0 0 1 1 1 1 1 1 1 1 1 1 0 0 1 0 1 0 0 0 1 1 1 1 1 1 1 1 1 1 1 1 1 1 1 2 1 0 0 1 1 0 1 1 0 0 0 1 1 1 0 1 1 1 1 1 1 2 0 1 0 0 0 1 1 0 1 1 1 1 1 1 1 1 1 1 1 0 0 0 3 0 1 1 1 1 1 1 1 0 0 1\n",
      "Predicted Frame 63 :\n",
      "0 0 0 0 0 0 1 1 1 1 1 1 1 1 1 1 0 0 1 0 1 0 0 0 1 1 1 1 1 1 1 1 1 1 1 1 1 1 1 2 1 0 0 1 1 0 1 1 0 0 0 1 1 1 0 1 1 1 1 1 1 2 0 1 0 0 0 1 1 0 1 1 1 1 1 1 1 1 1 1 1 0 0 0 0 0 1 1 1 1 1 1 1 0 0 1\n",
      "Predicted Frame 64 :\n",
      "0 0 0 0 0 0 1 1 1 1 1 1 1 1 1 1 0 0 1 0 1 0 0 0 1 1 1 1 1 1 1 1 1 1 1 1 1 1 1 1 1 0 0 1 1 0 1 1 0 0 0 1 1 1 0 1 1 1 1 1 1 2 0 1 0 0 0 1 1 1 1 1 1 1 1 1 1 1 1 1 1 0 0 0 1 0 1 1 1 1 1 1 1 0 0 1\n",
      "Predicted Frame 65 :\n",
      "0 0 0 0 0 0 1 1 1 1 1 1 1 1 1 1 0 0 1 0 1 0 0 0 1 1 1 1 1 1 1 1 1 1 1 1 1 1 1 2 1 0 0 1 1 0 1 1 0 0 0 1 1 1 0 1 1 1 1 1 1 2 0 1 0 0 0 1 1 1 1 1 1 1 1 1 1 1 1 1 1 0 0 0 0 0 1 1 1 1 1 1 1 0 0 1\n",
      "Predicted Frame 66 :\n",
      "0 0 0 0 0 0 1 1 1 1 1 1 1 1 1 1 0 0 1 0 1 0 0 0 1 1 1 1 1 1 1 1 1 1 1 1 1 1 1 2 1 0 0 1 1 0 1 1 0 0 0 1 1 1 0 1 1 1 1 1 1 2 0 1 0 0 0 1 1 1 1 1 1 1 1 1 1 1 1 1 1 0 0 0 0 0 1 1 1 1 1 1 1 0 0 1\n",
      "Predicted Frame 67 :\n",
      "1 0 0 0 0 0 1 1 1 1 1 1 1 1 1 1 0 0 1 0 1 0 0 0 1 1 1 1 1 1 1 1 1 1 1 1 1 1 1 2 1 0 0 1 1 1 1 1 0 0 0 1 1 1 0 1 1 1 1 1 1 2 0 1 0 0 0 1 1 1 1 1 1 1 1 1 1 1 1 1 1 0 0 0 0 0 1 1 1 1 1 1 1 0 0 1\n",
      "Predicted Frame 68 :\n",
      "0 0 0 0 0 0 1 1 1 1 1 1 1 1 1 1 0 0 1 0 1 0 0 0 1 1 1 1 1 1 1 1 1 1 1 1 1 1 1 3 1 0 0 1 1 0 1 1 0 0 1 1 1 1 0 1 1 1 1 1 1 2 0 1 0 0 0 1 1 0 1 1 1 1 1 1 1 1 1 1 1 0 0 1 3 0 1 1 1 1 1 1 1 0 0 1\n",
      "Predicted Frame 69 :\n",
      "0 0 0 0 0 0 1 1 1 1 1 1 1 1 1 1 2 0 1 0 1 0 0 0 1 1 1 1 1 1 1 1 1 1 1 1 1 1 1 2 1 0 0 1 1 1 1 1 0 0 0 1 1 1 0 1 1 1 1 1 1 2 0 1 0 0 0 1 1 0 1 1 1 1 1 1 1 1 1 1 1 0 0 0 3 0 1 1 1 1 1 1 1 0 0 1\n",
      "Predicted Frame 70 :\n",
      "0 0 0 0 0 0 1 1 1 1 1 1 1 1 1 1 2 0 1 0 1 0 0 0 1 1 1 1 1 1 1 1 1 1 1 1 1 1 1 3 1 0 0 1 1 1 1 1 0 0 0 1 1 1 0 1 1 1 1 1 1 2 0 1 0 0 0 1 1 1 1 1 1 1 1 1 1 1 1 1 1 0 0 1 3 0 1 1 1 1 1 1 1 0 0 1\n",
      "Predicted Frame 71 :\n",
      "0 0 0 0 0 0 1 1 1 1 1 1 1 1 1 1 2 0 1 0 1 0 0 0 1 1 1 1 1 1 1 1 1 1 1 1 1 1 1 2 1 0 0 1 1 1 1 1 0 0 0 1 1 1 0 1 1 1 1 1 1 2 0 1 0 0 0 1 1 0 1 1 1 1 1 1 1 1 1 1 1 0 0 1 3 0 1 1 1 1 1 1 1 0 0 1\n",
      "Predicted Frame 72 :\n",
      "0 0 0 0 0 0 1 1 1 1 1 1 1 1 1 1 2 0 1 0 1 0 0 0 1 1 1 1 1 1 1 1 1 1 1 1 1 1 1 2 1 0 0 1 1 1 1 1 0 0 0 1 1 1 0 1 1 1 1 1 1 2 0 1 0 0 0 1 1 1 1 1 1 1 1 1 1 1 1 1 1 0 0 1 3 0 1 1 1 1 1 1 1 0 0 1\n",
      "Predicted Frame 73 :\n",
      "0 0 0 0 0 0 1 1 1 1 1 1 1 1 1 1 2 0 1 0 1 0 0 0 1 1 1 1 1 1 1 1 1 1 1 1 1 1 1 3 1 0 0 1 1 1 1 1 0 0 0 1 1 1 0 1 1 1 1 1 1 2 0 1 0 0 0 1 1 1 1 1 1 1 1 1 1 1 1 1 1 0 0 0 3 0 1 1 1 1 1 1 1 0 0 1\n",
      "Predicted Frame 74 :\n",
      "0 0 0 0 0 0 1 1 1 1 1 1 1 1 1 1 2 0 1 0 1 0 0 0 1 1 1 1 1 1 1 1 1 1 1 1 1 1 1 2 1 0 0 1 1 1 1 1 0 0 0 1 1 1 0 1 1 1 1 1 1 2 0 1 0 0 0 1 1 0 1 1 1 1 1 1 1 1 1 1 1 0 0 0 3 0 1 1 1 1 1 1 1 0 0 1\n",
      "Predicted Frame 75 :\n",
      "1 0 0 0 0 0 1 1 1 1 1 1 1 1 1 1 2 0 1 0 1 0 0 0 1 1 1 1 1 1 1 1 1 1 1 1 1 1 1 2 1 0 0 1 1 1 1 1 0 0 0 1 1 1 0 1 1 1 1 1 1 2 0 1 3 0 0 1 1 1 1 1 1 1 1 1 1 1 1 1 1 0 0 0 3 0 1 1 1 1 1 1 1 0 0 1\n",
      "Predicted Frame 76 :\n",
      "0 0 0 0 0 0 1 1 1 1 1 1 1 1 1 1 2 0 1 0 1 0 0 0 1 1 1 1 1 1 1 1 1 1 1 1 1 1 1 2 1 0 0 1 1 1 1 1 0 0 0 1 1 1 0 1 1 1 1 1 1 2 0 1 0 0 0 1 1 0 1 1 1 1 1 1 1 1 1 1 1 0 0 0 3 0 1 1 1 1 1 1 1 0 0 1\n",
      "Predicted Frame 77 :\n",
      "0 0 0 0 0 0 1 1 1 1 1 1 1 1 1 1 2 0 1 0 1 0 0 0 1 1 1 1 1 1 1 1 1 1 1 1 1 1 1 2 1 0 0 1 1 1 1 1 0 0 0 1 1 1 0 1 1 1 1 1 1 2 0 1 0 0 0 1 1 1 1 1 1 1 1 1 1 1 1 1 1 0 0 1 3 0 1 1 1 1 1 1 1 0 0 1\n",
      "Predicted Frame 78 :\n",
      "0 0 0 0 0 0 1 1 1 1 1 1 1 1 1 1 2 0 1 0 1 0 0 0 1 1 1 1 1 1 1 1 1 1 1 1 1 1 1 2 1 0 0 1 1 1 1 1 0 0 0 1 1 1 0 1 1 1 1 1 1 2 0 1 0 0 0 1 1 1 1 1 1 1 1 1 1 1 1 1 1 0 0 1 0 0 1 1 1 1 1 1 1 0 0 1\n",
      "Predicted Frame 79 :\n",
      "0 0 0 0 0 0 1 1 1 1 1 1 1 1 1 1 2 0 1 0 1 0 0 0 1 1 1 1 1 1 1 1 1 1 1 1 1 1 1 2 1 0 0 1 1 1 1 1 0 0 0 1 1 1 0 1 1 1 1 1 1 2 0 1 0 0 0 1 1 1 1 1 1 1 1 1 1 1 1 1 1 0 0 1 0 0 1 1 1 1 1 1 1 0 0 1\n",
      "Predicted Frame 80 :\n",
      "0 0 0 0 0 0 1 1 1 1 1 1 1 1 1 1 2 0 1 0 1 0 0 0 1 1 1 1 1 1 1 1 1 1 1 1 1 1 1 2 1 0 0 1 1 1 1 1 0 0 0 1 1 1 0 1 1 1 1 1 1 2 0 1 0 0 0 1 1 1 1 1 1 1 1 1 1 1 1 1 1 0 0 1 0 0 1 1 1 1 1 1 1 0 0 1\n",
      "Predicted Frame 81 :\n",
      "0 0 0 0 0 0 1 1 1 1 1 1 1 1 1 1 2 0 1 0 1 0 0 0 1 1 1 1 1 1 1 1 1 1 1 1 1 1 1 2 1 0 0 1 1 0 1 1 0 0 0 1 1 1 0 1 1 1 1 1 1 2 0 1 0 0 0 1 1 1 1 1 1 1 1 1 1 1 1 1 1 0 0 1 0 0 1 1 1 1 1 1 1 0 0 1\n",
      "Predicted Frame 82 :\n",
      "0 0 0 0 0 0 1 1 1 1 1 1 1 1 1 1 2 0 1 0 1 0 0 0 1 1 1 1 1 1 1 1 1 1 1 1 1 1 1 2 1 0 0 1 1 1 1 1 0 0 0 1 1 1 0 1 1 1 1 1 1 2 0 1 0 0 0 1 1 1 1 1 1 1 1 1 1 1 1 1 1 0 0 0 0 0 1 1 1 1 1 1 1 0 0 1\n",
      "Predicted Frame 83 :\n",
      "0 0 0 0 0 0 1 1 1 1 1 1 1 1 1 1 2 0 1 0 1 0 0 0 1 1 1 1 1 1 1 1 1 1 1 1 1 1 1 2 1 0 0 1 1 1 1 1 0 0 0 1 1 1 0 1 1 1 1 1 1 2 0 1 0 0 0 1 1 1 1 1 1 1 1 1 1 1 1 1 1 0 0 1 3 0 1 1 1 1 1 1 1 0 0 1\n",
      "Predicted Frame 84 :\n",
      "0 0 0 0 0 0 1 1 1 1 1 1 1 1 1 1 3 0 1 0 1 0 0 0 1 1 1 1 1 1 1 1 1 1 1 1 1 1 1 2 1 0 0 1 1 0 1 1 0 0 0 1 1 1 0 1 1 1 1 1 1 2 0 1 0 0 0 1 1 1 1 1 1 1 1 1 1 1 1 1 1 0 0 1 3 0 1 1 1 1 1 1 1 0 0 1\n",
      "Predicted Frame 85 :\n",
      "0 0 0 0 0 0 1 1 1 1 1 1 1 1 1 1 0 0 1 0 1 0 0 0 1 1 1 1 1 1 1 1 1 1 1 1 1 1 1 2 1 0 0 1 1 0 1 1 0 0 0 1 1 1 0 1 1 1 1 1 1 2 0 1 0 0 0 1 1 1 1 1 1 1 1 1 1 1 1 1 1 0 0 1 3 0 1 1 1 1 1 1 1 0 0 1\n",
      "Predicted Frame 86 :\n",
      "0 0 0 0 0 0 1 1 1 1 1 1 1 1 1 1 0 0 1 0 1 0 0 0 1 1 1 1 1 1 1 1 1 1 1 1 1 1 1 2 1 0 0 1 1 0 1 1 0 0 0 1 1 1 0 1 1 1 1 1 1 2 0 1 0 0 0 1 1 1 1 1 1 1 1 1 1 1 1 1 1 0 0 1 3 0 1 1 1 1 1 1 1 0 0 1\n",
      "Predicted Frame 87 :\n",
      "0 0 0 0 0 0 1 1 1 1 1 1 1 1 1 1 0 0 1 0 1 0 0 0 1 1 1 1 1 1 1 1 1 1 1 1 1 1 1 2 1 0 0 1 1 1 1 1 0 0 0 1 1 1 0 1 1 1 1 1 1 2 0 1 0 0 0 1 1 1 1 1 1 1 1 1 1 1 1 1 1 0 0 0 0 0 1 1 1 1 1 1 1 0 0 1\n",
      "Predicted Frame 88 :\n",
      "0 0 0 0 0 0 1 1 1 1 1 1 1 1 1 1 0 0 0 0 1 0 0 0 1 1 1 1 1 1 1 1 1 1 1 1 1 1 1 2 1 0 0 1 1 0 1 1 0 0 0 1 1 1 0 1 1 1 1 1 1 2 0 1 0 0 0 1 1 1 1 1 1 1 1 1 1 1 1 1 1 0 0 0 3 0 1 1 1 1 1 1 1 0 0 1\n",
      "Predicted Frame 89 :\n",
      "0 0 0 0 0 0 1 1 1 1 1 1 1 1 1 1 0 0 0 0 1 0 0 0 1 1 1 1 1 1 1 1 1 1 1 1 1 1 1 2 1 0 0 1 1 1 1 1 0 0 0 1 1 1 0 1 1 1 1 1 1 2 0 1 0 0 0 1 1 1 1 1 1 1 1 1 1 1 1 1 1 0 0 0 3 0 1 1 1 1 1 1 1 0 0 1\n",
      "Predicted Frame 90 :\n",
      "0 0 0 0 0 0 1 1 1 1 1 1 1 1 1 1 3 0 0 0 1 0 0 0 1 1 1 1 1 1 1 1 1 1 1 1 1 1 1 2 1 0 0 1 1 1 1 1 0 0 0 1 1 1 0 1 1 1 1 1 1 2 0 1 0 0 0 1 1 1 1 1 1 1 1 1 1 1 1 1 1 0 0 1 3 0 1 1 1 1 1 1 1 0 0 1\n",
      "Predicted Frame 91 :\n",
      "1 0 0 0 0 0 1 1 1 1 1 1 1 1 1 1 2 0 0 0 1 0 0 0 1 1 1 1 1 1 1 1 1 1 1 1 1 1 1 2 1 0 0 1 1 1 1 1 0 0 0 1 1 1 0 1 1 1 1 1 1 2 0 1 0 0 0 1 1 0 1 1 1 1 1 1 1 1 1 1 1 0 0 1 0 0 1 1 1 1 1 1 1 0 0 1\n",
      "Predicted Frame 92 :\n",
      "1 0 0 0 0 0 1 1 1 1 1 1 1 1 1 1 2 0 0 0 1 0 0 0 1 1 1 1 1 1 1 1 1 1 1 1 1 1 1 1 1 0 0 1 1 0 1 1 0 0 0 1 1 1 0 1 1 1 1 1 1 2 0 1 0 0 0 1 1 1 1 1 1 1 1 1 1 1 1 1 1 0 0 0 2 0 1 1 1 1 1 1 1 0 0 1\n",
      "Predicted Frame 93 :\n",
      "1 0 0 0 0 0 1 1 1 1 1 1 1 1 1 1 2 0 0 0 1 0 0 0 1 1 1 1 1 1 1 1 1 1 1 1 1 1 1 3 1 0 0 1 1 1 1 1 0 0 0 1 1 1 0 1 1 1 1 1 1 2 0 1 0 0 0 1 1 1 1 1 1 1 1 1 1 1 1 1 1 0 0 0 2 0 1 1 1 1 1 1 1 0 0 1\n",
      "Predicted Frame 94 :\n",
      "1 0 0 0 0 0 1 1 1 1 1 1 1 1 1 1 2 0 0 0 1 0 0 0 1 1 1 1 1 1 1 1 1 1 1 1 1 1 1 2 1 0 0 1 1 1 1 1 0 0 0 1 1 1 0 1 1 1 1 1 1 2 0 1 0 0 0 1 1 1 1 1 1 1 1 1 1 1 1 1 1 0 0 0 2 0 1 1 1 1 1 1 1 0 0 1\n",
      "Predicted Frame 95 :\n",
      "0 0 0 0 0 0 1 1 1 1 1 1 1 1 1 1 2 0 0 0 1 0 0 0 1 1 1 1 1 1 1 1 1 1 1 1 1 1 1 2 1 0 0 1 1 1 1 1 0 0 0 1 1 1 0 1 1 1 1 1 1 2 0 1 0 0 0 1 1 1 1 1 1 1 1 1 1 1 1 1 1 0 0 1 3 0 1 1 1 1 1 1 1 0 0 1\n",
      "Predicted Frame 96 :\n",
      "0 0 0 0 0 0 1 1 1 1 1 1 1 1 1 1 2 0 0 0 1 0 0 0 1 1 1 1 1 1 1 1 1 1 1 1 1 1 1 2 1 0 0 1 1 1 1 1 0 0 0 1 1 1 0 1 1 1 1 1 1 2 0 1 0 0 0 1 1 1 1 1 1 1 1 1 1 1 1 1 1 0 0 1 0 0 1 1 1 1 1 1 1 0 0 1\n",
      "Predicted Frame 97 :\n",
      "0 0 0 0 0 0 1 1 1 1 1 1 1 1 1 1 2 0 0 0 1 0 0 0 1 1 1 1 1 1 1 1 1 1 1 1 1 1 1 2 1 0 0 1 1 1 1 1 0 0 0 1 1 1 0 1 1 1 1 1 1 2 0 1 0 0 0 1 1 0 1 1 1 1 1 1 1 1 1 1 1 0 0 1 0 0 1 1 1 1 1 1 1 0 0 1\n",
      "Predicted Frame 98 :\n",
      "0 0 0 0 0 0 1 1 1 1 1 1 1 1 1 1 2 0 0 0 1 0 0 0 1 1 1 1 1 1 1 1 1 1 1 1 1 1 1 2 1 0 0 1 1 1 1 1 0 0 1 1 1 1 0 1 1 1 1 1 1 2 0 1 0 0 0 1 1 0 1 1 1 1 1 1 1 1 1 1 1 0 0 1 0 0 1 1 1 1 1 1 1 0 0 1\n",
      "Predicted Frame 99 :\n",
      "0 0 0 0 0 0 1 1 1 1 1 1 1 1 1 1 2 0 0 0 1 0 0 0 1 1 1 1 1 1 1 1 1 1 1 1 1 1 1 2 1 0 0 1 1 1 1 1 0 0 0 1 1 1 0 1 1 1 1 1 1 2 0 1 0 0 0 1 1 0 1 1 1 1 1 1 1 1 1 1 1 0 0 1 3 0 0 1 1 1 1 1 1 0 0 1\n",
      "Predicted Frame 100 :\n",
      "0 0 0 0 0 0 1 1 1 1 1 1 1 1 1 1 2 0 0 0 1 3 0 0 1 1 1 1 1 1 1 1 1 1 1 1 1 1 1 2 1 0 0 1 1 1 1 1 0 0 1 1 1 1 0 1 1 1 1 1 1 2 0 1 0 0 0 1 1 1 1 1 1 1 1 1 1 1 1 1 1 0 0 1 3 0 1 1 1 1 1 1 1 0 0 1\n"
     ]
    }
   ],
   "source": [
    "# Extended frames. This selection only contains the frames without not \n",
    "# allowed symbols (symbols > 3)\n",
    "valid_i = 1\n",
    "for i in range(len(extended_trj_basins_transformer)):\n",
    "    if np.max(extended_trj_basins_transformer[i]) > 3:\n",
    "        continue\n",
    "\n",
    "    print(f'Predicted Frame {valid_i} :')\n",
    "    print(*extended_trj_basins_transformer[i])\n",
    "    valid_i += 1"
   ]
  },
  {
   "cell_type": "code",
   "execution_count": 50,
   "metadata": {},
   "outputs": [
    {
     "name": "stdout",
     "output_type": "stream",
     "text": [
      "(100, 96, 2)\n",
      "[[-105.6538527   140.47328877]\n",
      " [-105.6538527   140.47328877]\n",
      " [-105.6538527   140.47328877]\n",
      " ...\n",
      " [-105.6538527   140.47328877]\n",
      " [-105.6538527   140.47328877]\n",
      " [ -70.15544119  -29.72631206]]\n",
      "(100, 96, 2)\n",
      "[[-1.8440076   2.4517214 ]\n",
      " [-1.8440076   2.4517214 ]\n",
      " [-1.8440076   2.4517214 ]\n",
      " ...\n",
      " [-1.8440076   2.4517214 ]\n",
      " [-1.8440076   2.4517214 ]\n",
      " [-1.22444344 -0.51882202]]\n"
     ]
    }
   ],
   "source": [
    "# Convert basin trajectory into angle trajectory using centroids\n",
    "extended_trj_phipsi_from_basins = []\n",
    "for i,frame in enumerate(extended_trj_basins_transformer):\n",
    "    frame = np.squeeze(frame)\n",
    "    if np.max(frame)>3:\n",
    "        continue\n",
    "    single_frame_phi_psi = []\n",
    "    for j,basin in enumerate(frame):\n",
    "        if basin>3:\n",
    "            print(i,j,basin)\n",
    "            print(*frame)\n",
    "            break\n",
    "        \n",
    "        phi_psi = val_centroids[basin]\n",
    "        single_frame_phi_psi.append(phi_psi.tolist())\n",
    "        single_frame_phi_psi_ndarray = np.array(single_frame_phi_psi)\n",
    "    extended_trj_phipsi_from_basins.append(single_frame_phi_psi_ndarray)\n",
    "\n",
    "extended_trj_phipsi_from_basins = np.array(extended_trj_phipsi_from_basins)\n",
    "\n",
    "print(extended_trj_phipsi_from_basins.shape)\n",
    "print(extended_trj_phipsi_from_basins[0])\n",
    "\n",
    "# Convert degrees to radians\n",
    "deg_to_rad = np.pi/180.\n",
    "extended_trj_phipsi = extended_trj_phipsi_from_basins * deg_to_rad\n",
    "\n",
    "# Here we check the reshaping was correct\n",
    "print(extended_trj_phipsi.shape)\n",
    "print(extended_trj_phipsi[0])"
   ]
  },
  {
   "cell_type": "markdown",
   "metadata": {},
   "source": [
    "#### Conversion of the extended trajectory frame to Modeller format\n",
    "This conversion requires substituting with MDAnalysis all the CD atoms of ILE to CD1 and the O1,O2 atoms of the last residue to O and OXT."
   ]
  },
  {
   "cell_type": "markdown",
   "metadata": {},
   "source": [
    "#### Check that Modeller correctly implements dihedral restraints"
   ]
  },
  {
   "cell_type": "code",
   "execution_count": 51,
   "metadata": {},
   "outputs": [
    {
     "name": "stdout",
     "output_type": "stream",
     "text": [
      "0 0 0 0 0 0 1 1 1 1 1 1 1 1 1 1 0 0 0 0 1 0 0 0 1 1 1 1 1 1 1 1 1 1 1 1 1 1 1 2 1 0 0 1 1 0 1 1 0 0 0 1 1 1 0 1 1 1 1 1 1 2 0 1 0 0 0 1 1 1 1 1 1 1 1 1 1 1 1 1 1 0 0 1 0 0 1 1 1 1 1 1 1 0 0 1\n"
     ]
    }
   ],
   "source": [
    "# Convert the basins of the the validation frame selected to start \n",
    "# extension into phi-psi angles in radians \n",
    "\n",
    "u_val_0_basins = val_basins[input_basin_frame_number]\n",
    "print(*u_val_0_basins)\n",
    "\n",
    "u_val_0_phipsi_radians = []\n",
    "for basin in u_val_0_basins:\n",
    "    phi_psi = val_centroids[basin]*deg_to_rad\n",
    "    u_val_0_phipsi_radians.append(phi_psi.tolist())\n",
    "u_val_0_phipsi_radians = np.array(u_val_0_phipsi_radians)"
   ]
  },
  {
   "cell_type": "code",
   "execution_count": 52,
   "metadata": {},
   "outputs": [
    {
     "name": "stdout",
     "output_type": "stream",
     "text": [
      "[[-105.6538527   140.47328877]\n",
      " [ -70.15544119  -29.72631206]\n",
      " [  76.63546093    7.64436906]\n",
      " [  52.54251446   54.1126937 ]]\n"
     ]
    }
   ],
   "source": [
    "print(val_centroids)"
   ]
  },
  {
   "cell_type": "code",
   "execution_count": 53,
   "metadata": {},
   "outputs": [
    {
     "name": "stdout",
     "output_type": "stream",
     "text": [
      "[-1.8440076  2.4517214] [-1.8440076  2.4517214] [-1.8440076  2.4517214] [-1.8440076  2.4517214] [-1.8440076  2.4517214] [-1.8440076  2.4517214] [-1.22444344 -0.51882202] [-1.22444344 -0.51882202] [-1.22444344 -0.51882202] [-1.22444344 -0.51882202]\n"
     ]
    }
   ],
   "source": [
    "print(*u_val_0_phipsi_radians[:10])"
   ]
  },
  {
   "cell_type": "code",
   "execution_count": 75,
   "metadata": {},
   "outputs": [],
   "source": [
    "# using MDAnalysis write out without hydrogens the input frame \n",
    "# from the 'protein' validation trajectory \n",
    "\n",
    "# This frame does not have to be the same frame selected to start the basin\n",
    "# extension. \n",
    "\n",
    "# The protein conformation in this frame will be the starting point,\n",
    "# u_val.pdb, to apply the consecutive phi-psi angle changes.\n",
    "\n",
    "# For example, we expanded the 'basin' trj using validation basin\n",
    "# frame number 96, but we select validation protein frame number 48 \n",
    "# as the starting point to generate a 'protein' extended trj\n",
    "\n",
    "#input_protein_frame_number = 48\n",
    "input_protein_frame_number = 10\n",
    "\n",
    "u_val.trajectory[input_protein_frame_number]\n",
    "u_val_0_protein = u_val.select_atoms('resid 1:85 and not (name H* )')\n",
    "\n",
    "with mda.Writer(\"ua_val.pdb\",bonds='all',\n",
    "                n_atoms=None,\n",
    "                convert_units=True,\n",
    "                reindex=True) as pdb:\n",
    "    pdb.write(u_val_0_protein) \n",
    "    \n",
    "u_val_0 = mda.Universe('ua_val.pdb','ua_val.pdb')\n",
    "\n",
    "u_val_0_protein = u_val_0.select_atoms('resid 1:85 and not (name H* )')\n",
    "\n",
    "# Change chainid to 'A'\n",
    "for atom_ind in range(len(u_val_0_protein)): \n",
    "    u_val_0.atoms[atom_ind].chainID = 'A'\n",
    "\n",
    "n_res = len(u_val_0_protein.residues)\n",
    "\n",
    "# If necessary, we shift all atoms into the unit cell\n",
    "# u_val_0_protein.pack_into_box(box=None, inplace=True)\n",
    "\n",
    "# Change HSD to HIS\n",
    "HSD_ATOMS = u_val_0_protein.select_atoms('resname HSD')\n",
    "for atom_ind in range(len(HSD_ATOMS)):\n",
    "    HSD_ATOMS.atoms[atom_ind].residue.resname = 'HIS'\n",
    "    \n",
    "# Change Isoleucine CD to CD1\n",
    "ILE_CD_ATOMS = u_val_0_protein.select_atoms('resname ILE and (name CD)')\n",
    "for atom_ind in range(len(ILE_CD_ATOMS)):\n",
    "    ILE_CD_ATOMS.atoms[atom_ind].name = 'CD1'\n",
    "\n",
    "# Change CTERM atoms O1,O2 to O and OXT\n",
    "lastresnum = 'resnum ' + str(len(u_val_0_protein.residues))\n",
    "CTERM_ATOMS = u_val_0_protein.select_atoms(lastresnum)\n",
    "CTERM_ATOMS[-2].name = 'O'\n",
    "CTERM_ATOMS[-1].name = 'OXT'\n",
    "\n",
    "with mda.Writer(\"ua_val_0.pdb\",bonds='all',\n",
    "                n_atoms=None,\n",
    "                convert_units=True,\n",
    "                reindex=True) as pdb:\n",
    "    pdb.write(u_val_0_protein)    "
   ]
  },
  {
   "cell_type": "code",
   "execution_count": 76,
   "metadata": {},
   "outputs": [],
   "source": [
    "# using MDAnalysis write out without hydrogens the input frame \n",
    "# from the 'protein' validation trajectory \n",
    "\n",
    "# This frame does not have to be the same frame selected to start the basin\n",
    "# extension. \n",
    "\n",
    "# The protein conformation in this frame will be the starting point,\n",
    "# u_val.pdb, to apply the consecutive phi-psi angle changes.\n",
    "\n",
    "# For example, we expanded the 'basin' trj using validation basin\n",
    "# frame number 96, but we select validation protein frame number 48 \n",
    "# as the starting point to generate a 'protein' extended trj\n",
    "\n",
    "#input_protein_frame_number = 48\n",
    "input_protein_frame_number = 10\n",
    "\n",
    "u_val.trajectory[input_protein_frame_number]\n",
    "u_val_0_protein = u_val.select_atoms('resid 86:98 and not (name H* )')\n",
    "\n",
    "with mda.Writer(\"ub_val.pdb\",bonds='all',\n",
    "                n_atoms=None,\n",
    "                convert_units=True,\n",
    "                reindex=True) as pdb:\n",
    "    pdb.write(u_val_0_protein) \n",
    "    \n",
    "u_val_0 = mda.Universe('ub_val.pdb','ub_val.pdb')\n",
    "\n",
    "u_val_0_protein = u_val_0.select_atoms('resid 86:98 and not (name H* )')\n",
    "\n",
    "# Change chainid to 'A'\n",
    "for atom_ind in range(len(u_val_0_protein)): \n",
    "    u_val_0.atoms[atom_ind].chainID = 'B'\n",
    "\n",
    "n_res = len(u_val_0_protein.residues)\n",
    "\n",
    "# If necessary, we shift all atoms into the unit cell\n",
    "# u_val_0_protein.pack_into_box(box=None, inplace=True)\n",
    "\n",
    "# Change HSD to HIS\n",
    "HSD_ATOMS = u_val_0_protein.select_atoms('resname HSD')\n",
    "for atom_ind in range(len(HSD_ATOMS)):\n",
    "    HSD_ATOMS.atoms[atom_ind].residue.resname = 'HIS'\n",
    "    \n",
    "# Change Isoleucine CD to CD1\n",
    "ILE_CD_ATOMS = u_val_0_protein.select_atoms('resname ILE and (name CD)')\n",
    "for atom_ind in range(len(ILE_CD_ATOMS)):\n",
    "    ILE_CD_ATOMS.atoms[atom_ind].name = 'CD1'\n",
    "\n",
    "# Change CTERM atoms O1,O2 to O and OXT\n",
    "lastresnum = 'resnum ' + str(len(u_val_0_protein.residues))\n",
    "CTERM_ATOMS = u_val_0_protein.select_atoms(lastresnum)\n",
    "#CTERM_ATOMS[-2].name = 'O'\n",
    "#CTERM_ATOMS[-1].name = 'OXT'\n",
    "\n",
    "with mda.Writer(\"ub_val_0.pdb\",bonds='all',\n",
    "                n_atoms=None,\n",
    "                convert_units=True,\n",
    "                reindex=True) as pdb:\n",
    "    pdb.write(u_val_0_protein)    "
   ]
  },
  {
   "cell_type": "code",
   "execution_count": 77,
   "metadata": {},
   "outputs": [
    {
     "name": "stdout",
     "output_type": "stream",
     "text": [
      "Protein sequence in 1 letter code:\n",
      "ETFSDLWKLLPEN\n"
     ]
    }
   ],
   "source": [
    "# After converting HSD to HIS, write out again the sequence in 1 letter code\n",
    "\n",
    "# Protein sequence in 3 letter code\n",
    "prot_sequence_tlc = ''\n",
    "for res in chain.from_iterable(u_val_0_protein.residues.resnames):\n",
    "    prot_sequence_tlc += res\n",
    "# print(f'Protein sequence in 3 letter code:\\n{prot_sequence_tlc}\\n')\n",
    "\n",
    "# Protein sequence as separated 3 letter code \n",
    "split_prot_sequence_tlc = []\n",
    "n = 3\n",
    "for index in range(0, len(prot_sequence_tlc), n):\n",
    "    split_prot_sequence_tlc.append(prot_sequence_tlc[index : index + n])\n",
    "# print(f'Protein sequence in split 3 letter code:\\n{split_prot_sequence_tlc}\\n')\n",
    "\n",
    "# Protein sequence in 3 letter code\n",
    "prot_sequence_slc = seq1(prot_sequence_tlc)\n",
    "print(f'Protein sequence in 1 letter code:\\n{prot_sequence_slc}')"
   ]
  },
  {
   "cell_type": "markdown",
   "metadata": {},
   "source": [
    "#### Modeller environment"
   ]
  },
  {
   "cell_type": "code",
   "execution_count": 78,
   "metadata": {},
   "outputs": [],
   "source": [
    "# Initial alignment\n",
    "\n",
    "sequence = prot_sequence_slc + '*'\n",
    "\n",
    "with open(\"alignment.ali\", \"w\") as text_file:\n",
    "    print(f'>P1;orig\\nstructureX:u_val_0.pdb:1:A:{n_res}:A::::\\n{sequence}',file=text_file)\n",
    "    print(f'>P1;seq\\nsequence::1:A:{n_res}:A::::\\n{sequence}',file=text_file)\n",
    "    "
   ]
  },
  {
   "cell_type": "code",
   "execution_count": 98,
   "metadata": {},
   "outputs": [
    {
     "name": "stdout",
     "output_type": "stream",
     "text": [
      "0 atoms in HETATM/BLK residues constrained\n",
      "to protein atoms within 2.30 angstroms\n",
      "and protein CA atoms within 10.00 angstroms\n",
      "0 atoms in residues without defined topology\n",
      "constrained to be rigid bodies\n",
      "\n",
      ">> Summary of failed models:\n",
      "seq.B99990001.pdb         csrrng__299E> Atom index is out of bounds:      114      113\n",
      "\n"
     ]
    }
   ],
   "source": [
    "# Initial minimization of the reference structure with phi-psi constraints\n",
    "\n",
    "log.level(output=0, notes=0, warnings=0, errors=0, memory=0)\n",
    "env = Environ()\n",
    "env.io.atom_files_directory = '.'\n",
    "env.edat.dynamic_sphere = True\n",
    "\n",
    "env.libs.topology.read(file='$(LIB)/top_heav.lib')\n",
    "env.libs.parameters.read(file='$(LIB)/par.lib')\n",
    "\n",
    "code = 'ua_val_0'\n",
    "mdl = complete_pdb(env, code + '.pdb')\n",
    "# mdl.write(file = code + '.ini')\n",
    "rsr = mdl.restraints\n",
    "\n",
    "# Select all atoms:\n",
    "atmsel = Selection(mdl)    \n",
    "\n",
    "# Generate the static restraints:\n",
    "rsr.make(atmsel, restraint_type='stereo', spline_on_site=False)\n",
    "\n",
    "# Example of atoms selection for phi-psi restraints\n",
    "# 2 ARG PHI:  (1 MET C)-(2 ARG N)-(2 ARG CA)-(2 ARG C)  \n",
    "# 2 ARG PSI:  (2 ARG N)-(2 ARG CA)-(2 ARG C)-(3 ILE N) \n",
    "\n",
    "# Add dynamic restraints on the phi-psi dihedrals\n",
    "for i in range(2,85): \n",
    "    phi_1 = mdl.atoms['C:'+str(i-1)+':A']\n",
    "    phi_2 = mdl.atoms['N:'+str(i)+':A']\n",
    "    phi_3 = mdl.atoms['CA:'+str(i)+':A']\n",
    "    phi_4 = mdl.atoms['C:'+str(i)+':A']    \n",
    "    psi_1 = mdl.atoms['N:'+str(i)+':A']\n",
    "    psi_2 = mdl.atoms['CA:'+str(i)+':A']\n",
    "    psi_3 = mdl.atoms['C:'+str(i)+':A']\n",
    "    psi_4 = mdl.atoms['N:'+str(i+1)+':A']\n",
    "\n",
    "    # Binormal constraints\n",
    "    rsr.add(forms.MultiBinormal(group=physical.phi_psi_dihedral,\n",
    "                           features=[features.Dihedral(phi_1, phi_2, phi_3, phi_4),\n",
    "                                     features.Dihedral(psi_1, psi_2, psi_3, psi_4)],\n",
    "                           weights=[100,100],\n",
    "                           means=[u_val_0_phipsi_radians[i-2,:].tolist(),                                \n",
    "                                  u_val_0_phipsi_radians[i-2,:].tolist()],                                \n",
    "                           stdevs=[[0.1,0.1],[0.1,0.1]],\n",
    "                           correls=[0.5,0.5]))    \n",
    "\n",
    "mdl.restraints.write(file = code + '.rsr')\n",
    "\n",
    "# Addition of restraints to the default ones\n",
    "class RestrainModel(AutoModel):\n",
    "    def special_restraints(self, aln):\n",
    "        rsr = self.restraints\n",
    "        # Add restraints from file:\n",
    "        rsr.append(file = code + '.rsr')          \n",
    "\n",
    "a = RestrainModel(env,\n",
    "            alnfile  = 'alignment.ali',     # alignment filename\n",
    "            knowns   = 'orig',              # codes of the templates\n",
    "            sequence = 'seq',\n",
    "            )              # code of the target\n",
    "a.starting_model= 1                 # index of the first model\n",
    "a.ending_model  = 1                 # index of the last model\n",
    "                                    # (determines how many models to calculate)\n",
    "a.make()                            # do comparative modeling\n",
    "\n",
    "a.write(file='ua_val_0_min.pdb')\n"
   ]
  },
  {
   "cell_type": "code",
   "execution_count": 88,
   "metadata": {},
   "outputs": [
    {
     "data": {
      "image/png": "[encoded data removed]",
      "text/plain": [
       "<Figure size 576x864 with 1 Axes>"
      ]
     },
     "metadata": {
      "needs_background": "light"
     },
     "output_type": "display_data"
    }
   ],
   "source": [
    "# Here we check that the phi=psi constraints really worked. After minimization \n",
    "# the ramachandran plot should show phi-psi angles clustered around the centroids\n",
    "# To select a range of frames in a trajectory \n",
    "# use .run(startframe,endframe+1)\n",
    "\n",
    "# Ramachandran angles in the reference protein. \n",
    "u_val_0 = mda.Universe('u_val_0.pdb','u_val_0.pdb')\n",
    "u_val_0_protein = u_val_0.select_atoms('protein and not (name H* )')\n",
    "u_val_0_rama = dihedrals.Ramachandran(u_val_0_protein).run()\n",
    "plt.figure(figsize=(8, 12)) \n",
    "plt.subplot(2,1,1)\n",
    "u_val_0_rama.plot(color='black', marker='.', s=20, ref=True)\n",
    "plt.title('u_val_0 ramachandran plot') \n",
    "u_val_0_phipsi_obs_radians = u_val_0_rama.results.angles * deg_to_rad\n",
    "# print(f'Ramachandran angles array shape: {u_val_0_phipsi.shape}')\n",
    "# print(u_val_0_phipsi_radians.shape)\n",
    "# print(u_val_0_phipsi_radians[0][:6])\n",
    "\n",
    "# Ramachandran angles in the minimized reference protein. \n",
    "#u_val_0_min = mda.Universe('u_val_0_min.pdb','u_val_0_min.pdb')\n",
    "#u_val_0_min_protein = u_val_0_min.select_atoms('protein and not (name H* )')\n",
    "#u_val_0_min_rama = dihedrals.Ramachandran(u_val_0_min_protein).run()\n",
    "#plt.subplot(2,1,2)\n",
    "#u_val_0_min_rama.plot(color='black', marker='.', s=20, ref=True)\n",
    "#plt.title('u_val_0_min ramachandran plot')          \n",
    "#u_val_0_min_phipsi_radians = u_val_0_min_rama.results.angles * deg_to_rad\n",
    "# print(f'Ramachandran angles array shape: {u_val_0_min_phipsi.shape}')\n",
    "# print(u_val_0_min_phipsi_radians.shape)\n",
    "# print(u_val_0_min_phipsi_radians[0][:6])"
   ]
  },
  {
   "cell_type": "markdown",
   "metadata": {},
   "source": [
    "#### Comparison of initial and phi-psi constrained minimized structures"
   ]
  },
  {
   "cell_type": "code",
   "execution_count": 93,
   "metadata": {},
   "outputs": [
    {
     "name": "stdout",
     "output_type": "stream",
     "text": [
      "RMSD[backbone] (u_val_0 vs. u_val_0): 0.000\n",
      "(0.0, 0.0)\n"
     ]
    },
    {
     "data": {
      "application/vnd.jupyter.widget-view+json": {
       "model_id": "40dbe98ea6d94a91860f4e33925feaf5",
       "version_major": 2,
       "version_minor": 0
      },
      "text/plain": [
       "NGLWidget()"
      ]
     },
     "metadata": {},
     "output_type": "display_data"
    }
   ],
   "source": [
    "# Backbone rmsd between the structures\n",
    "RMSD = rms.rmsd(u_val_0.select_atoms('backbone and not(name H*)').positions,  # coordinates to align\n",
    "         u_val_0.select_atoms('backbone and not(name H*)').positions,  # reference coordinates\n",
    "         center=True,  # subtract the center of geometry\n",
    "         superposition=True)  # superimpose coordinates\n",
    "print(f'RMSD[backbone] (u_val_0 vs. u_val_0): {RMSD:.3f}')\n",
    "\n",
    "# Superposition before and after minimization\n",
    "rmsds = align.alignto(u_val_0,  # minimized\n",
    "                      u_val_0,  # reference\n",
    "                      select='name CA', # selection to operate on\n",
    "                      match_atoms=True) # whether to match atoms\n",
    "print(rmsds)\n",
    "nv.show_mdanalysis(mda.Merge(u_val_0.atoms, u_val_0.atoms))"
   ]
  },
  {
   "cell_type": "code",
   "execution_count": 118,
   "metadata": {},
   "outputs": [
    {
     "name": "stdout",
     "output_type": "stream",
     "text": [
      "RMSD[backbone] (u_val_0 vs. ppi_ref): 1.275\n",
      "(17.753231374238307, 1.2156379364579364)\n"
     ]
    },
    {
     "data": {
      "application/vnd.jupyter.widget-view+json": {
       "model_id": "95c6784466104b09acab8250384986a5",
       "version_major": 2,
       "version_minor": 0
      },
      "text/plain": [
       "NGLWidget()"
      ]
     },
     "metadata": {},
     "output_type": "display_data"
    }
   ],
   "source": [
    "ppi_ref = mda.Universe('ppcomplex.pdb','ppcomplex.pdb')\n",
    "# Backbone rmsd between the structures\n",
    "RMSD = rms.rmsd(u_val_0.select_atoms('backbone and not(name H*)').positions,  # coordinates to align\n",
    "         ppi_ref.select_atoms('backbone and not(name H*)').positions,  # reference coordinates\n",
    "         center=True,  # subtract the center of geometry\n",
    "         superposition=True)  # superimpose coordinates\n",
    "print(f'RMSD[backbone] (u_val_0 vs. ppi_ref): {RMSD:.3f}')\n",
    "\n",
    "# Superposition before and after minimization\n",
    "rmsds = align.alignto(u_val_0,  # minimized\n",
    "                      ppi_ref,  # reference\n",
    "                      select='name CA', # selection to operate on\n",
    "                      match_atoms=True) # whether to match atoms\n",
    "print(rmsds)\n",
    "nv.show_mdanalysis(mda.Merge(u_val_0.atoms, ppi_ref.atoms))"
   ]
  },
  {
   "cell_type": "code",
   "execution_count": null,
   "metadata": {},
   "outputs": [],
   "source": []
  }
 ],
 "metadata": {
  "kernelspec": {
   "display_name": "mdgm",
   "language": "python",
   "name": "mdgm"
  },
  "language_info": {
   "codemirror_mode": {
    "name": "ipython",
    "version": 3
   },
   "file_extension": ".py",
   "mimetype": "text/x-python",
   "name": "python",
   "nbconvert_exporter": "python",
   "pygments_lexer": "ipython3",
   "version": "3.7.12"
  },
  "toc": {
   "base_numbering": 1,
   "nav_menu": {},
   "number_sections": false,
   "sideBar": true,
   "skip_h1_title": false,
   "title_cell": "Table of Contents",
   "title_sidebar": "Contents",
   "toc_cell": false,
   "toc_position": {},
   "toc_section_display": true,
   "toc_window_display": false
  },
  "varInspector": {
   "cols": {
    "lenName": 16,
    "lenType": 16,
    "lenVar": 40
   },
   "kernels_config": {
    "python": {
     "delete_cmd_postfix": "",
     "delete_cmd_prefix": "del ",
     "library": "var_list.py",
     "varRefreshCmd": "print(var_dic_list())"
    },
    "r": {
     "delete_cmd_postfix": ") ",
     "delete_cmd_prefix": "rm(",
     "library": "var_list.r",
     "varRefreshCmd": "cat(var_dic_list()) "
    }
   },
   "position": {
    "height": "451.85px",
    "left": "799.2px",
    "right": "20px",
    "top": "110px",
    "width": "350px"
   },
   "types_to_exclude": [
    "module",
    "function",
    "builtin_function_or_method",
    "instance",
    "_Feature"
   ],
   "window_display": false
  }
 },
 "nbformat": 4,
 "nbformat_minor": 2
}
